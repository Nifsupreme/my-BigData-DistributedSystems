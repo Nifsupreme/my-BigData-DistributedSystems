{
 "cells": [
  {
   "cell_type": "markdown",
   "metadata": {},
   "source": [
    "# Hadoop Filesystem"
   ]
  },
  {
   "cell_type": "code",
   "execution_count": 1,
   "metadata": {},
   "outputs": [
    {
     "name": "stdout",
     "output_type": "stream",
     "text": [
      "Found 2 items\n",
      "drwxr-xr-x   - root supergroup          0 2017-11-28 21:41 /data\n",
      "drwxr-xr-x   - root supergroup          0 2017-10-17 13:11 /user\n"
     ]
    }
   ],
   "source": [
    "%%bash\n",
    "hdfs dfs -ls /"
   ]
  },
  {
   "cell_type": "code",
   "execution_count": 2,
   "metadata": {},
   "outputs": [
    {
     "name": "stdout",
     "output_type": "stream",
     "text": [
      "Found 1 items\r\n",
      "drwxrwxrwx   - jovyan supergroup          0 2017-11-28 21:41 /data/wiki/en_articles_part\r\n"
     ]
    }
   ],
   "source": [
    "! hdfs dfs -ls /data/wiki"
   ]
  },
  {
   "cell_type": "code",
   "execution_count": 3,
   "metadata": {},
   "outputs": [
    {
     "name": "stdout",
     "output_type": "stream",
     "text": [
      "73.3 M  /data/wiki\r\n"
     ]
    }
   ],
   "source": [
    "! hdfs dfs -du -h /data"
   ]
  },
  {
   "cell_type": "code",
   "execution_count": 4,
   "metadata": {},
   "outputs": [],
   "source": [
    "# Estimate minimum Namenode RAM size for HDFS with 1 PB capacity,\n",
    "#  block size 64 MB, \n",
    "#  average metadata size for each block is 300 B,\n",
    "#  replication factor is 3.\n",
    "#  Provide the formula for calculations and the result."
   ]
  },
  {
   "cell_type": "markdown",
   "metadata": {},
   "source": [
    "Number_of_blocks = capacity / block_size\n",
    "\n",
    "RAM_size = Number_of_blocks  * block_size * Replicafactor = capacity / (block_size * Replicafactor ) * block_size = 1PB / (64MB * 3)* 300B  = 1.5625 GB\n",
    "\n",
    "We should choose a RAM size of 2GB"
   ]
  },
  {
   "cell_type": "code",
   "execution_count": 5,
   "metadata": {},
   "outputs": [],
   "source": [
    "# HDDs in your cluster have the following characteristics: average reading speed is 60 MB/s,\n",
    "#  seek time is 5 ms. You want to spend 0.5 % time for seeking the block,\n",
    "#     i.e. seek time should be 200 times less than the time to read the block.\n",
    "#  Estimate the minimum block size."
   ]
  },
  {
   "cell_type": "markdown",
   "metadata": {},
   "source": [
    "Read_time = Block_size / Read_Speed \n",
    "\n",
    "We want: Seek_time < Read_time / 200\n",
    "Then:\n",
    " \n",
    "Seek_time < Block_size / Read_Speed / 200\n",
    "Block_size > Seek_time  * 200 * Read_Speed \n",
    "Block_size  > 5ms * 200 * 60MB/s\n",
    "Block_size  > 60MB\n",
    "\n",
    "We choose minimum Block_size  = 60MB"
   ]
  },
  {
   "cell_type": "markdown",
   "metadata": {},
   "source": [
    "## Local FS"
   ]
  },
  {
   "cell_type": "code",
   "execution_count": 6,
   "metadata": {},
   "outputs": [
    {
     "name": "stdout",
     "output_type": "stream",
     "text": [
      "Demo.ipynb  README.md  supervisord.log\tsupervisord.pid\r\n"
     ]
    }
   ],
   "source": [
    "! ls /home/jovyan"
   ]
  },
  {
   "cell_type": "code",
   "execution_count": 7,
   "metadata": {},
   "outputs": [],
   "source": [
    "# Create test.txt in local home dir\n",
    "! touch ~/test.txt\n",
    "with open('/home/jovyan/test.txt', 'w') as myFile:\n",
    "    for i in range(21):\n",
    "        myFile.write('%d\\n' % i)"
   ]
  },
  {
   "cell_type": "code",
   "execution_count": 8,
   "metadata": {},
   "outputs": [
    {
     "name": "stdout",
     "output_type": "stream",
     "text": [
      "Demo.ipynb  README.md  supervisord.log\tsupervisord.pid  test.txt\r\n"
     ]
    }
   ],
   "source": [
    "! ls /home/jovyan"
   ]
  },
  {
   "cell_type": "code",
   "execution_count": 17,
   "metadata": {},
   "outputs": [
    {
     "name": "stdout",
     "output_type": "stream",
     "text": [
      "0\r\n",
      "1\r\n",
      "2\r\n",
      "3\r\n",
      "4\r\n",
      "5\r\n",
      "6\r\n",
      "7\r\n",
      "8\r\n",
      "9\r\n",
      "10\r\n",
      "11\r\n",
      "12\r\n",
      "13\r\n",
      "14\r\n",
      "15\r\n",
      "16\r\n",
      "17\r\n",
      "18\r\n",
      "19\r\n",
      "20\r\n"
     ]
    }
   ],
   "source": [
    "! cat /home/jovyan/test.txt"
   ]
  },
  {
   "cell_type": "markdown",
   "metadata": {},
   "source": [
    "## Hadoop FS"
   ]
  },
  {
   "cell_type": "code",
   "execution_count": 9,
   "metadata": {},
   "outputs": [
    {
     "name": "stdout",
     "output_type": "stream",
     "text": [
      "Found 2 items\r\n",
      "-rw-r--r--   1 jovyan supergroup        239 2017-11-28 21:41 /user/jovyan/README.md\r\n",
      "drwxr-xr-x   - jovyan supergroup          0 2018-01-18 04:50 /user/jovyan/assignment1\r\n"
     ]
    }
   ],
   "source": [
    "! hdfs dfs -ls /user/jovyan/"
   ]
  },
  {
   "cell_type": "code",
   "execution_count": 10,
   "metadata": {},
   "outputs": [
    {
     "name": "stdout",
     "output_type": "stream",
     "text": [
      "mkdir: `/user/jovyan/assignment1': File exists\n",
      "Found 2 items\n",
      "-rw-r--r--   1 jovyan supergroup        239 2017-11-28 21:41 /user/jovyan/README.md\n",
      "drwxr-xr-x   - jovyan supergroup          0 2018-01-18 04:50 /user/jovyan/assignment1\n"
     ]
    }
   ],
   "source": [
    "# Create assignment1 dir in hdfs\n",
    "! hdfs dfs -mkdir /user/jovyan/assignment1\n",
    "! hdfs dfs -ls /user/jovyan/"
   ]
  },
  {
   "cell_type": "code",
   "execution_count": 11,
   "metadata": {},
   "outputs": [
    {
     "name": "stdout",
     "output_type": "stream",
     "text": [
      "Found 1 items\r\n",
      "-rw-r--r--   1 jovyan supergroup         53 2018-01-18 04:50 /user/jovyan/assignment1/test.txt\r\n"
     ]
    }
   ],
   "source": [
    "# Put test.txt into assignment1\n",
    "! hdfs dfs -put ~/test.txt /user/jovyan/assignment1\n",
    "! hdfs dfs -ls /user/jovyan/assignment1"
   ]
  },
  {
   "cell_type": "code",
   "execution_count": 12,
   "metadata": {},
   "outputs": [
    {
     "name": "stdout",
     "output_type": "stream",
     "text": [
      "53  /user/jovyan/assignment1/test.txt\n",
      "Found 1 items\n",
      "-rw-r--r--   1 jovyan supergroup         53 2018-01-18 04:50 /user/jovyan/assignment1/test.txt\n"
     ]
    }
   ],
   "source": [
    "# output the size and the owner of the file\n",
    "! hdfs dfs -du /user/jovyan/assignment1/test.txt\n",
    "! hdfs dfs -ls /user/jovyan/assignment1"
   ]
  },
  {
   "cell_type": "code",
   "execution_count": 13,
   "metadata": {},
   "outputs": [
    {
     "name": "stdout",
     "output_type": "stream",
     "text": [
      "Found 1 items\r\n",
      "-rw-r-----   1 jovyan supergroup         53 2018-01-18 04:50 /user/jovyan/assignment1/test.txt\r\n"
     ]
    }
   ],
   "source": [
    "# revoke ‘read’ permission for ‘other users’\n",
    "! hdfs dfs -chmod o-r /user/jovyan/assignment1/test.txt\n",
    "! hdfs dfs -ls /user/jovyan/assignment1"
   ]
  },
  {
   "cell_type": "code",
   "execution_count": 14,
   "metadata": {},
   "outputs": [
    {
     "name": "stdout",
     "output_type": "stream",
     "text": [
      "0\r\n",
      "1\r\n",
      "2\r\n",
      "3\r\n",
      "4\r\n",
      "5\r\n",
      "6\r\n",
      "7\r\n",
      "8\r\n",
      "9\r\n"
     ]
    }
   ],
   "source": [
    "# read the first 10 lines of the file\n",
    "! hdfs dfs -cat /user/jovyan/assignment1/test.txt | head"
   ]
  },
  {
   "cell_type": "code",
   "execution_count": 15,
   "metadata": {},
   "outputs": [
    {
     "name": "stdout",
     "output_type": "stream",
     "text": [
      "Found 1 items\r\n",
      "-rw-r-----   1 jovyan supergroup         53 2018-01-18 04:50 /user/jovyan/assignment1/test2.txt\r\n"
     ]
    }
   ],
   "source": [
    "# rename ‘test.txt’ to ‘test2.txt’\n",
    "! hdfs dfs -mv /user/jovyan/assignment1/test.txt /user/jovyan/assignment1/test2.txt\n",
    "! hdfs dfs -ls /user/jovyan/assignment1"
   ]
  },
  {
   "cell_type": "code",
   "execution_count": 16,
   "metadata": {},
   "outputs": [
    {
     "name": "stdout",
     "output_type": "stream",
     "text": [
      "Deleted /user/jovyan/assignment1/test2.txt\r\n"
     ]
    }
   ],
   "source": [
    "# delete text2.txt\n",
    "! hdfs dfs -rm /user/jovyan/assignment1/test2.txt\n",
    "! hdfs dfs -ls /user/jovyan/assignment1"
   ]
  }
 ],
 "metadata": {
  "kernelspec": {
   "display_name": "Python 2",
   "language": "python",
   "name": "python2"
  },
  "language_info": {
   "codemirror_mode": {
    "name": "ipython",
    "version": 2
   },
   "file_extension": ".py",
   "mimetype": "text/x-python",
   "name": "python",
   "nbconvert_exporter": "python",
   "pygments_lexer": "ipython2",
   "version": "2.7.12"
  }
 },
 "nbformat": 4,
 "nbformat_minor": 2
}
