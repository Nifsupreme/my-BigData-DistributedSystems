{
 "cells": [
  {
   "cell_type": "markdown",
   "metadata": {},
   "source": [
    "## Spark assignment 1: Pairs\n",
    "\n",
    "Find all the pairs of two consequent words where the first word is “narodnaya”. For each pair, count the number of occurrences in the Wikipedia dump. Print all the pairs with their count in a lexicographical order. Output format is “word_pair <tab> count”, for example:\n",
    "\n",
    "red_apple\t100500\n",
    "\n",
    "crazy_zoo\t42\n",
    "\n",
    "Note that two words in a pair are concatenated with the underscore character, and the result is in the lowercase.\n",
    "\n",
    "One motivation for counting these continuations is to get a better understanding of the language. Some words, like “the”, have a lot of continuations, while others, like “San”, have just a few (“San Francisco”, for example). One can build a language model with these statistics. If you are interested to learn more, search for “n-gram language model” in the Internet."
   ]
  },
  {
   "cell_type": "code",
   "execution_count": 1,
   "metadata": {},
   "outputs": [],
   "source": [
    "from pyspark import SparkConf, SparkContext\n",
    "sc = SparkContext(conf=SparkConf().setAppName(\"MyApp\").setMaster(\"local\"))\n",
    "\n",
    "import re\n",
    "\n",
    "def parse_article(line):\n",
    "    try:\n",
    "        article_id, text = unicode(line.rstrip()).split('\\t', 1)\n",
    "        text = re.sub(\"^\\W+|\\W+$\", \"\", text, flags=re.UNICODE)\n",
    "        words = re.split(\"\\W*\\s+\\W*\", text, flags=re.UNICODE)\n",
    "        return words\n",
    "    except ValueError as e:\n",
    "        return []\n",
    "\n",
    "wiki = sc.textFile(\"/data/wiki/en_articles_part/articles-part\", 16).map(parse_article).cache()"
   ]
  },
  {
   "cell_type": "code",
   "execution_count": 2,
   "metadata": {},
   "outputs": [],
   "source": [
    "words = wiki.flatMap(lambda x: [(x[i].lower(), x[i+1].lower()) for i in range(len(x)-1)])"
   ]
  },
  {
   "cell_type": "code",
   "execution_count": 3,
   "metadata": {},
   "outputs": [],
   "source": [
    "words = words.filter(lambda (x,y): x == 'narodnaya')"
   ]
  },
  {
   "cell_type": "code",
   "execution_count": 4,
   "metadata": {},
   "outputs": [],
   "source": [
    "words = words.map(lambda (x,y): (y, 1)).reduceByKey(lambda x,y: x+y).sortByKey()"
   ]
  },
  {
   "cell_type": "code",
   "execution_count": 5,
   "metadata": {},
   "outputs": [
    {
     "name": "stdout",
     "output_type": "stream",
     "text": [
      "narodnaya_gazeta\t1\n",
      "narodnaya_volya\t9\n"
     ]
    }
   ],
   "source": [
    "results = words.collect()\n",
    "for result in results:\n",
    "    print u'narodnaya_%s\\t%d'.encode('utf-8') % (result[0], result[1])"
   ]
  },
  {
   "cell_type": "markdown",
   "metadata": {},
   "source": [
    "## Test"
   ]
  },
  {
   "cell_type": "code",
   "execution_count": 6,
   "metadata": {},
   "outputs": [
    {
     "name": "stdout",
     "output_type": "stream",
     "text": [
      "Overwriting test.txt\n"
     ]
    }
   ],
   "source": [
    "%%writefile test.txt\n",
    "narodnaya phuong narodnaya 1 narodnaya narodnaya 6 thao minh\n",
    "narodnaya narodnaya narodnaya phuong narodnaya 1 narodnaya 5"
   ]
  },
  {
   "cell_type": "code",
   "execution_count": 7,
   "metadata": {},
   "outputs": [],
   "source": [
    "def normalizeWords(text):\n",
    "    return re.compile(r'\\W+', re.UNICODE).split(text.lower())\n",
    "test = sc.textFile(\"test.txt\", 16).map(normalizeWords)"
   ]
  },
  {
   "cell_type": "code",
   "execution_count": 8,
   "metadata": {},
   "outputs": [
    {
     "data": {
      "text/plain": [
       "[(u'narodnaya', u'phuong'),\n",
       " (u'phuong', u'narodnaya'),\n",
       " (u'narodnaya', u'1'),\n",
       " (u'1', u'narodnaya'),\n",
       " (u'narodnaya', u'narodnaya'),\n",
       " (u'narodnaya', u'6'),\n",
       " (u'6', u'thao'),\n",
       " (u'thao', u'minh'),\n",
       " (u'narodnaya', u'narodnaya'),\n",
       " (u'narodnaya', u'narodnaya'),\n",
       " (u'narodnaya', u'phuong'),\n",
       " (u'phuong', u'narodnaya'),\n",
       " (u'narodnaya', u'1'),\n",
       " (u'1', u'narodnaya'),\n",
       " (u'narodnaya', u'5')]"
      ]
     },
     "execution_count": 8,
     "metadata": {},
     "output_type": "execute_result"
    }
   ],
   "source": [
    "test = test.flatMap(lambda x: [(x[i], x[i+1]) for i in range(len(x)-1)])\n",
    "test.collect()"
   ]
  },
  {
   "cell_type": "code",
   "execution_count": 9,
   "metadata": {},
   "outputs": [
    {
     "data": {
      "text/plain": [
       "[(u'narodnaya', u'phuong'),\n",
       " (u'narodnaya', u'1'),\n",
       " (u'narodnaya', u'narodnaya'),\n",
       " (u'narodnaya', u'6'),\n",
       " (u'narodnaya', u'narodnaya'),\n",
       " (u'narodnaya', u'narodnaya'),\n",
       " (u'narodnaya', u'phuong'),\n",
       " (u'narodnaya', u'1'),\n",
       " (u'narodnaya', u'5')]"
      ]
     },
     "execution_count": 9,
     "metadata": {},
     "output_type": "execute_result"
    }
   ],
   "source": [
    "test = test.filter(lambda (x,y): x == 'narodnaya')\n",
    "test.collect()"
   ]
  },
  {
   "cell_type": "code",
   "execution_count": 10,
   "metadata": {},
   "outputs": [
    {
     "data": {
      "text/plain": [
       "[(u'narodnaya', 3), (u'1', 2), (u'phuong', 2), (u'6', 1), (u'5', 1)]"
      ]
     },
     "execution_count": 10,
     "metadata": {},
     "output_type": "execute_result"
    }
   ],
   "source": [
    "test = test.map(lambda (x,y): (y, 1)).reduceByKey(lambda x,y: x+y).sortBy(lambda x: x[1], ascending=False)\n",
    "test.collect()"
   ]
  },
  {
   "cell_type": "code",
   "execution_count": 11,
   "metadata": {},
   "outputs": [
    {
     "name": "stdout",
     "output_type": "stream",
     "text": [
      "narodnaya\t3\n",
      "1\t2\n",
      "phuong\t2\n",
      "6\t1\n",
      "5\t1\n"
     ]
    }
   ],
   "source": [
    "results = test.collect()\n",
    "for result in results:\n",
    "    print '%s\\t%d' % (result[0], result[1])"
   ]
  }
 ],
 "metadata": {
  "kernelspec": {
   "display_name": "Python 2",
   "language": "python",
   "name": "python2"
  },
  "language_info": {
   "codemirror_mode": {
    "name": "ipython",
    "version": 2
   },
   "file_extension": ".py",
   "mimetype": "text/x-python",
   "name": "python",
   "nbconvert_exporter": "python",
   "pygments_lexer": "ipython2",
   "version": "2.7.12"
  }
 },
 "nbformat": 4,
 "nbformat_minor": 2
}
