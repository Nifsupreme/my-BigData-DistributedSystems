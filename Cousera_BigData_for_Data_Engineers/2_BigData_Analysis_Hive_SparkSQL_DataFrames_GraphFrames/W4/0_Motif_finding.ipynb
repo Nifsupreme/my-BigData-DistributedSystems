{
 "cells": [
  {
   "cell_type": "markdown",
   "metadata": {},
   "source": [
    "## GraphFrame\n",
    "![](./img/graph.jpg \"Graph\")"
   ]
  },
  {
   "cell_type": "code",
   "execution_count": null,
   "metadata": {},
   "outputs": [],
   "source": [
    "vertices = sparkSession.createDataFrame([\n",
    "    ('1', 'Alex', 28, 'M', 'MIPT'),\n",
    "    ('2', 'Emeli', 28, 'F', 'MIPT'),\n",
    "    ('3', 'Natasha', 27, 'F', 'SPbSU'),\n",
    "    ('4', 'Pavel', 30, 'M', 'MIPT'),\n",
    "    ('5', 'Oleg', 35, 'M', 'MIPT'),\n",
    "    ('6', 'Ivan', 30, 'M', 'MSU'),\n",
    "    ('7', 'Ilya', 29, 'M', 'MSU')\n",
    "],['id', 'name', 'age', 'gender', 'university'])\n",
    "\n",
    "edges = sparkSession.createDataFrame([\n",
    "    ('1', '2', 'friend'), ('2', '1', 'friend'),\n",
    "    ('1', '3', 'friend'), ('3', '1', 'friend'),\n",
    "    ('1', '4', 'friend'), ('4', '1', 'friend'),\n",
    "    ('2', '3', 'friend'), ('3', '2', 'friend'),\n",
    "    ('2', '5', 'friend'), ('5', '2', 'friend'),\n",
    "    ('3', '4', 'friend'), ('4', '3', 'friend'),\n",
    "    ('3', '5', 'friend'), ('5', '3', 'friend'),\n",
    "    ('3', '6', 'friend'), ('6', '3', 'friend'),\n",
    "    ('3', '7', 'friend'), ('7', '3', 'friend')\n",
    "], ['src', 'dst', 'relationship'])\n",
    "\n",
    "g = GraphFrame(vertices, edges)"
   ]
  },
  {
   "cell_type": "code",
   "execution_count": null,
   "metadata": {},
   "outputs": [],
   "source": [
    "# How many users in our graph have \"age\" > 30 ?\n",
    "g.vertices.filter(\"age > 30\")\n",
    "\n",
    "# How many friends by all users ?\n",
    "g.inDegrees.show()\n",
    "\n",
    "# How many users have at least 2 friends ?\n",
    "g.inDegrees.filter(\"inDegree > 2\").show()"
   ]
  },
  {
   "cell_type": "markdown",
   "metadata": {},
   "source": [
    "## Motif finding: DSL(Domain Specific Language)"
   ]
  },
  {
   "cell_type": "markdown",
   "metadata": {},
   "source": [
    "![](./img/twoDir.jpg \"2dir\")"
   ]
  },
  {
   "cell_type": "code",
   "execution_count": null,
   "metadata": {},
   "outputs": [],
   "source": [
    "g.find(\"(a)-[e]->(b); (b)-[e2]->(a)\")"
   ]
  },
  {
   "cell_type": "markdown",
   "metadata": {},
   "source": [
    "### Edge\n",
    "![](./img/edge.jpg \"edge\")"
   ]
  },
  {
   "cell_type": "markdown",
   "metadata": {},
   "source": [
    "### Union\n",
    "![](./img/union.jpg \"Union\")"
   ]
  },
  {
   "cell_type": "markdown",
   "metadata": {},
   "source": [
    "### Not assign edge name\n",
    "![](./img/noname.jpg \"Not assign name\")"
   ]
  },
  {
   "cell_type": "markdown",
   "metadata": {},
   "source": [
    "### Not assign destination name\n",
    "![](./img/nodest.jpg \"Not assign destination\")"
   ]
  },
  {
   "cell_type": "markdown",
   "metadata": {},
   "source": [
    "### Not\n",
    "![](./img/not.jpg \"Not\")"
   ]
  },
  {
   "cell_type": "markdown",
   "metadata": {},
   "source": [
    "## Count the number of common friends in Graphframe"
   ]
  },
  {
   "cell_type": "markdown",
   "metadata": {},
   "source": [
    "B = mutual friend of (A,C)\n",
    "![](./img/1.jpg \"1\")"
   ]
  },
  {
   "cell_type": "code",
   "execution_count": null,
   "metadata": {},
   "outputs": [],
   "source": [
    "motifs = g.find(\"(a)-[]->(b); (b)-[]->(c)\")"
   ]
  },
  {
   "cell_type": "markdown",
   "metadata": {},
   "source": [
    "![](./img/2.jpg \"2\")"
   ]
  },
  {
   "cell_type": "code",
   "execution_count": null,
   "metadata": {},
   "outputs": [],
   "source": [
    "# Filter duplications a==c\n",
    "motifs = g.find(\"(a)-[]->(b); (b)-[]->(c)\").filter(\"a.id != c.id\")\n",
    "\n",
    "# Rename\n",
    "AC = motifs.selectExpr(\"a.id as A\", \"c.id as C\")"
   ]
  },
  {
   "cell_type": "markdown",
   "metadata": {},
   "source": [
    "![](./img/3.jpg \"3\")"
   ]
  },
  {
   "cell_type": "code",
   "execution_count": null,
   "metadata": {},
   "outputs": [],
   "source": [
    "# Final result\n",
    "AC.groupBy('A', 'C').count().filter('A = 1')"
   ]
  },
  {
   "cell_type": "markdown",
   "metadata": {},
   "source": [
    "![](./img/4.jpg \"4\")"
   ]
  }
 ],
 "metadata": {
  "kernelspec": {
   "display_name": "Python 2",
   "language": "python",
   "name": "python2"
  },
  "language_info": {
   "codemirror_mode": {
    "name": "ipython",
    "version": 2
   },
   "file_extension": ".py",
   "mimetype": "text/x-python",
   "name": "python",
   "nbconvert_exporter": "python",
   "pygments_lexer": "ipython2",
   "version": "2.7.14"
  }
 },
 "nbformat": 4,
 "nbformat_minor": 2
}
