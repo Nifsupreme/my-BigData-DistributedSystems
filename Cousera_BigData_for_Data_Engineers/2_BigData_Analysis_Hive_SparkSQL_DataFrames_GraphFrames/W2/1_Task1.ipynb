{
 "cells": [
  {
   "cell_type": "markdown",
   "metadata": {},
   "source": [
    "## Hive assignment. Task1\n",
    "The purpose of this task is to create an external table on the posts data of the stackoverflow.com website.\n",
    "\n",
    "Create your own database and 'use' it. Create external table 'posts_sample_external' over the sample dataset with posts in '/data/stackexchange1000' directory. Create managed table 'posts_sample' and populate with the data from the external table. 'Posts_sample' table should be partitioned by year and by month of post creation. Provide output of query which selects lines number per each partition in the format:\n",
    "\n",
    "```\n",
    "year <tab> month <table> lines count\n",
    "```\n",
    "\n",
    "where year in YYYY format and month in YYYY-MM format. The result is the 3th line of the last query output."
   ]
  },
  {
   "cell_type": "markdown",
   "metadata": {},
   "source": [
    "## Create database"
   ]
  },
  {
   "cell_type": "code",
   "execution_count": 1,
   "metadata": {},
   "outputs": [
    {
     "name": "stdout",
     "output_type": "stream",
     "text": [
      "Overwriting create_db.hql\n"
     ]
    }
   ],
   "source": [
    "%%writefile create_db.hql\n",
    "\n",
    "-- Add jar\n",
    "ADD JAR /opt/cloudera/parcels/CDH/lib/hive/lib/hive-contrib.jar;\n",
    "ADD JAR /opt/cloudera/parcels/CDH/lib/hive/lib/hive-serde.jar;\n",
    "\n",
    "-- Create database\n",
    "DROP DATABASE IF EXISTS mydb CASCADE;\n",
    "CREATE DATABASE IF NOT EXISTS mydb LOCATION '/user/jovyan/somemetastore';\n"
   ]
  },
  {
   "cell_type": "code",
   "execution_count": 2,
   "metadata": {},
   "outputs": [],
   "source": [
    "! hive --silent -f create_db.hql"
   ]
  },
  {
   "cell_type": "markdown",
   "metadata": {},
   "source": [
    "## Create tables"
   ]
  },
  {
   "cell_type": "code",
   "execution_count": 3,
   "metadata": {},
   "outputs": [
    {
     "name": "stdout",
     "output_type": "stream",
     "text": [
      "Overwriting create_tables.hql\n"
     ]
    }
   ],
   "source": [
    "%%writefile create_tables.hql\n",
    "\n",
    "-- Add jar\n",
    "ADD JAR /opt/cloudera/parcels/CDH/lib/hive/lib/hive-contrib.jar;\n",
    "ADD JAR /opt/cloudera/parcels/CDH/lib/hive/lib/hive-serde.jar;\n",
    "\n",
    "USE mydb;\n",
    "\n",
    "\n",
    "-- Create posts_sample_external table\n",
    "DROP TABLE IF EXISTS posts_sample_external;\n",
    "CREATE EXTERNAL TABLE IF NOT EXISTS posts_sample_external(\n",
    "    Id INT,\n",
    "    PostTypeId  TINYINT,\n",
    "    CreationDate STRING,\n",
    "    Tags STRING,\n",
    "    OwnerUserId INT,\n",
    "    ParentId INT,\n",
    "    Score INT,\n",
    "    FavoriteCount INT\n",
    ")\n",
    "ROW FORMAT \n",
    "    SERDE 'org.apache.hadoop.hive.serde2.RegexSerDe'\n",
    "    WITH SERDEPROPERTIES (\n",
    "      \"input.regex\" = '^<row.*?(?=.*\\\\bId=\\\"(\\\\d+)\\\")(?=.*\\\\bPostTypeId=\\\"(\\\\d+)\\\")(?=.*\\\\bCreationDate=\\\"([^\"]*)\\\")(?=.*\\\\bTags=\\\"([^\"]*)\\\")?(?=.*\\\\bOwnerUserId=\\\"(\\\\d+)\\\")?(?=.*\\\\bParentId=\\\"(\\\\d+)\\\")?(?=.*\\\\bScore=\\\"(-?\\\\d+)\\\")(?=.*\\\\bFavoriteCount=\\\"(\\\\d+)\\\")?.*$',\n",
    "      \"input.regex.case.insensitive\" = 'true'\n",
    "    )\n",
    "STORED AS TEXTFILE\n",
    "LOCATION '/data/stackexchange1000/posts';\n",
    "\n",
    "\n",
    "-- Create Posts_sample table\n",
    "DROP TABLE IF EXISTS posts_sample;\n",
    "CREATE TABLE IF NOT EXISTS posts_sample(\n",
    "    Id INT,\n",
    "    PostTypeId  TINYINT,\n",
    "    CreationDate STRING,\n",
    "    OwnerUserId INT,\n",
    "    ParentId INT,\n",
    "    Score INT,\n",
    "    FavoriteCount INT,\n",
    "    Tags array <string>\n",
    ")\n",
    "PARTITIONED BY ( \n",
    "  year string, \n",
    "  month string\n",
    ")\n",
    "STORED AS TEXTFILE\n",
    "LOCATION '/user/jovyan/task1';"
   ]
  },
  {
   "cell_type": "code",
   "execution_count": 4,
   "metadata": {},
   "outputs": [],
   "source": [
    "! hive --silent -f create_tables.hql"
   ]
  },
  {
   "cell_type": "markdown",
   "metadata": {},
   "source": [
    "## Queries"
   ]
  },
  {
   "cell_type": "code",
   "execution_count": 5,
   "metadata": {},
   "outputs": [
    {
     "name": "stdout",
     "output_type": "stream",
     "text": [
      "Overwriting query.hql\n"
     ]
    }
   ],
   "source": [
    "%%writefile query.hql\n",
    "\n",
    "-- Add jar\n",
    "ADD JAR /opt/cloudera/parcels/CDH/lib/hive/lib/hive-contrib.jar;\n",
    "ADD JAR /opt/cloudera/parcels/CDH/lib/hive/lib/hive-serde.jar;\n",
    "\n",
    "\n",
    "-- set hive\n",
    "SET hive.exec.dynamic.partition=true;  \n",
    "SET hive.exec.dynamic.partition.mode=nonstrict;\n",
    "\n",
    "USE mydb;\n",
    "\n",
    "\n",
    "-- Query\n",
    "INSERT OVERWRITE TABLE posts_sample\n",
    "PARTITION (year, month)\n",
    "SELECT\n",
    "    Id,\n",
    "    PostTypeId,\n",
    "    CreationDate,\n",
    "    OwnerUserId,\n",
    "    ParentId,\n",
    "    Score,\n",
    "    FavoriteCount,\n",
    "    split(regexp_replace(Tags, '(&lt\\;|&gt\\;$)', ''), '&gt\\;') AS Tags,\n",
    "    regexp_extract(CreationDate, '^(\\\\d{4})', 1) AS year,\n",
    "    regexp_extract(CreationDate, '^(\\\\d{4}-\\\\d{2})', 1) AS month\n",
    "FROM \n",
    "    posts_sample_external\n",
    "WHERE\n",
    "    Id IS NOT NULL AND CreationDate IS NOT NULL;\n"
   ]
  },
  {
   "cell_type": "code",
   "execution_count": 6,
   "metadata": {},
   "outputs": [],
   "source": [
    "! hive -f query.hql 2> out.log"
   ]
  },
  {
   "cell_type": "markdown",
   "metadata": {},
   "source": [
    "## Output"
   ]
  },
  {
   "cell_type": "code",
   "execution_count": 7,
   "metadata": {},
   "outputs": [
    {
     "name": "stdout",
     "output_type": "stream",
     "text": [
      "Overwriting script.py\n"
     ]
    }
   ],
   "source": [
    "%%writefile script.py\n",
    "import re\n",
    "import sys\n",
    "\n",
    "text = []\n",
    "for line in sys.stdin:\n",
    "    text.append(line.strip())\n",
    "\n",
    "year, month, numRows = re.search('(?=.*year=(\\d+))(?=.*month=(\\d+-\\d+))(?=.*numRows=(\\d+))', text[0]).groups()\n",
    "\n",
    "print '%s\\t%s\\t%s' % (year, month, numRows)"
   ]
  },
  {
   "cell_type": "code",
   "execution_count": 8,
   "metadata": {},
   "outputs": [
    {
     "name": "stdout",
     "output_type": "stream",
     "text": [
      "grep: Partition mydb.posts_sample{year=2008, month=2008-10} stats: [numFiles=1, numRows=73, totalSize=4051, rawDataSize=3978]\r\n",
      "write error: Broken pipe\r\n"
     ]
    }
   ],
   "source": [
    "cat out.log | grep \"Partition mydb.posts_sample\" | head -3 | tail -1"
   ]
  },
  {
   "cell_type": "code",
   "execution_count": 9,
   "metadata": {},
   "outputs": [
    {
     "name": "stdout",
     "output_type": "stream",
     "text": [
      "2008\t2008-10\t73\n"
     ]
    },
    {
     "name": "stderr",
     "output_type": "stream",
     "text": [
      "\n",
      "Logging initialized using configuration in jar:file:/usr/local/apache-hive-1.1.0-bin/lib/hive-common-1.1.0.jar!/hive-log4j.properties\n",
      "Added [/opt/cloudera/parcels/CDH/lib/hive/lib/hive-contrib.jar] to class path\n",
      "Added resources: [/opt/cloudera/parcels/CDH/lib/hive/lib/hive-contrib.jar]\n",
      "Added [/opt/cloudera/parcels/CDH/lib/hive/lib/hive-serde.jar] to class path\n",
      "Added resources: [/opt/cloudera/parcels/CDH/lib/hive/lib/hive-serde.jar]\n",
      "OK\n",
      "Time taken: 1.075 seconds\n",
      "Query ID = jovyan_20180205125353_1a4748d2-f7bf-4167-86fd-4d6377e586bf\n",
      "Total jobs = 3\n",
      "Launching Job 1 out of 3\n",
      "Number of reduce tasks is set to 0 since there's no reduce operator\n",
      "Starting Job = job_1517822664732_0015, Tracking URL = http://1c945e5f18ec:8088/proxy/application_1517822664732_0015/\n",
      "Kill Command = /opt/hadoop/bin/hadoop job  -kill job_1517822664732_0015\n",
      "Hadoop job information for Stage-1: number of mappers: 1; number of reducers: 0\n",
      "2018-02-05 12:53:19,502 Stage-1 map = 0%,  reduce = 0%\n",
      "2018-02-05 12:53:37,925 Stage-1 map = 24%,  reduce = 0%, Cumulative CPU 18.68 sec\n",
      "2018-02-05 12:53:44,394 Stage-1 map = 41%,  reduce = 0%, Cumulative CPU 25.62 sec\n",
      "2018-02-05 12:53:49,753 Stage-1 map = 57%,  reduce = 0%, Cumulative CPU 31.78 sec\n",
      "2018-02-05 12:53:56,169 Stage-1 map = 73%,  reduce = 0%, Cumulative CPU 37.83 sec\n",
      "2018-02-05 12:54:01,550 Stage-1 map = 90%,  reduce = 0%, Cumulative CPU 44.42 sec\n",
      "2018-02-05 12:54:07,955 Stage-1 map = 100%,  reduce = 0%, Cumulative CPU 49.42 sec\n",
      "MapReduce Total cumulative CPU time: 49 seconds 420 msec\n",
      "Ended Job = job_1517822664732_0015\n",
      "Stage-4 is selected by condition resolver.\n",
      "Stage-3 is filtered out by condition resolver.\n",
      "Stage-5 is filtered out by condition resolver.\n",
      "Moving data to: hdfs://localhost:9000/user/jovyan/task1/.hive-staging_hive_2018-02-05_12-53-01_581_2529189069185835280-1/-ext-10000\n",
      "Loading data to table mydb.posts_sample partition (year=null, month=null)\n",
      "\t Time taken for load dynamic partitions : 13211\n",
      "\tLoading partition {year=2012, month=2012-05}\n",
      "\tLoading partition {year=2011, month=2011-06}\n",
      "\tLoading partition {year=2010, month=2010-07}\n",
      "\tLoading partition {year=2015, month=2015-02}\n",
      "\tLoading partition {year=2014, month=2014-09}\n",
      "\tLoading partition {year=2009, month=2009-01}\n",
      "\tLoading partition {year=2016, month=2016-01}\n",
      "\tLoading partition {year=2008, month=2008-11}\n",
      "\tLoading partition {year=2015, month=2015-11}\n",
      "\tLoading partition {year=2013, month=2013-04}\n",
      "\tLoading partition {year=2014, month=2014-03}\n",
      "\tLoading partition {year=2014, month=2014-12}\n",
      "\tLoading partition {year=2014, month=2014-04}\n",
      "\tLoading partition {year=2009, month=2009-07}\n",
      "\tLoading partition {year=2016, month=2016-07}\n",
      "\tLoading partition {year=2013, month=2013-05}\n",
      "\tLoading partition {year=2012, month=2012-06}\n",
      "\tLoading partition {year=2008, month=2008-08}\n",
      "\tLoading partition {year=2015, month=2015-08}\n",
      "\tLoading partition {year=2009, month=2009-08}\n",
      "\tLoading partition {year=2016, month=2016-08}\n",
      "\tLoading partition {year=2008, month=2008-09}\n",
      "\tLoading partition {year=2015, month=2015-09}\n",
      "\tLoading partition {year=2013, month=2013-12}\n",
      "\tLoading partition {year=2015, month=2015-03}\n",
      "\tLoading partition {year=2010, month=2010-10}\n",
      "\tLoading partition {year=2016, month=2016-02}\n",
      "\tLoading partition {year=2009, month=2009-02}\n",
      "\tLoading partition {year=2009, month=2009-03}\n",
      "\tLoading partition {year=2014, month=2014-11}\n",
      "\tLoading partition {year=2016, month=2016-03}\n",
      "\tLoading partition {year=2015, month=2015-07}\n",
      "\tLoading partition {year=2014, month=2014-05}\n",
      "\tLoading partition {year=2013, month=2013-09}\n",
      "\tLoading partition {year=2011, month=2011-01}\n",
      "\tLoading partition {year=2011, month=2011-04}\n",
      "\tLoading partition {year=2010, month=2010-08}\n",
      "\tLoading partition {year=2011, month=2011-10}\n",
      "\tLoading partition {year=2014, month=2014-07}\n",
      "\tLoading partition {year=2010, month=2010-06}\n",
      "\tLoading partition {year=2012, month=2012-09}\n",
      "\tLoading partition {year=2010, month=2010-12}\n",
      "\tLoading partition {year=2013, month=2013-02}\n",
      "\tLoading partition {year=2009, month=2009-05}\n",
      "\tLoading partition {year=2016, month=2016-05}\n",
      "\tLoading partition {year=2012, month=2012-10}\n",
      "\tLoading partition {year=2014, month=2014-02}\n",
      "\tLoading partition {year=2009, month=2009-11}\n",
      "\tLoading partition {year=2016, month=2016-11}\n",
      "\tLoading partition {year=2010, month=2010-01}\n",
      "\tLoading partition {year=2012, month=2012-04}\n",
      "\tLoading partition {year=2011, month=2011-12}\n",
      "\tLoading partition {year=2012, month=2012-02}\n",
      "\tLoading partition {year=2012, month=2012-08}\n",
      "\tLoading partition {year=2011, month=2011-09}\n",
      "\tLoading partition {year=2011, month=2011-03}\n",
      "\tLoading partition {year=2012, month=2012-11}\n",
      "\tLoading partition {year=2013, month=2013-01}\n",
      "\tLoading partition {year=2013, month=2013-10}\n",
      "\tLoading partition {year=2014, month=2014-06}\n",
      "\tLoading partition {year=2015, month=2015-05}\n",
      "\tLoading partition {year=2013, month=2013-07}\n",
      "\tLoading partition {year=2010, month=2010-09}\n",
      "\tLoading partition {year=2011, month=2011-02}\n",
      "\tLoading partition {year=2012, month=2012-12}\n",
      "\tLoading partition {year=2014, month=2014-10}\n",
      "\tLoading partition {year=2010, month=2010-03}\n",
      "\tLoading partition {year=2013, month=2013-11}\n",
      "\tLoading partition {year=2013, month=2013-06}\n",
      "\tLoading partition {year=2010, month=2010-04}\n",
      "\tLoading partition {year=2012, month=2012-07}\n",
      "\tLoading partition {year=2012, month=2012-01}\n",
      "\tLoading partition {year=2011, month=2011-08}\n",
      "\tLoading partition {year=2016, month=2016-06}\n",
      "\tLoading partition {year=2015, month=2015-01}\n",
      "\tLoading partition {year=2014, month=2014-08}\n",
      "\tLoading partition {year=2008, month=2008-10}\n",
      "\tLoading partition {year=2015, month=2015-04}\n",
      "\tLoading partition {year=2015, month=2015-10}\n",
      "\tLoading partition {year=2011, month=2011-07}\n",
      "\tLoading partition {year=2010, month=2010-11}\n",
      "\tLoading partition {year=2009, month=2009-12}\n",
      "\tLoading partition {year=2012, month=2012-03}\n",
      "\tLoading partition {year=2016, month=2016-12}\n",
      "\tLoading partition {year=2010, month=2010-02}\n",
      "\tLoading partition {year=2009, month=2009-06}\n",
      "\tLoading partition {year=2009, month=2009-09}\n",
      "\tLoading partition {year=2016, month=2016-09}\n",
      "\tLoading partition {year=2010, month=2010-05}\n",
      "\tLoading partition {year=2009, month=2009-10}\n",
      "\tLoading partition {year=2013, month=2013-08}\n",
      "\tLoading partition {year=2016, month=2016-10}\n",
      "\tLoading partition {year=2016, month=2016-04}\n",
      "\tLoading partition {year=2009, month=2009-04}\n",
      "\tLoading partition {year=2014, month=2014-01}\n",
      "\tLoading partition {year=2008, month=2008-12}\n",
      "\tLoading partition {year=2015, month=2015-12}\n",
      "\tLoading partition {year=2013, month=2013-03}\n",
      "\tLoading partition {year=2011, month=2011-11}\n",
      "\tLoading partition {year=2015, month=2015-06}\n",
      "\tLoading partition {year=2011, month=2011-05}\n",
      "\t Time taken for adding to write entity : 30\n",
      "Partition mydb.posts_sample{year=2008, month=2008-08} stats: [numFiles=1, numRows=23, totalSize=1178, rawDataSize=1155]\n",
      "Partition mydb.posts_sample{year=2008, month=2008-09} stats: [numFiles=1, numRows=89, totalSize=4792, rawDataSize=4703]\n",
      "Partition mydb.posts_sample{year=2008, month=2008-10} stats: [numFiles=1, numRows=73, totalSize=4051, rawDataSize=3978]\n",
      "Partition mydb.posts_sample{year=2008, month=2008-11} stats: [numFiles=1, numRows=54, totalSize=3155, rawDataSize=3101]\n",
      "Partition mydb.posts_sample{year=2008, month=2008-12} stats: [numFiles=1, numRows=51, totalSize=2944, rawDataSize=2893]\n",
      "Partition mydb.posts_sample{year=2009, month=2009-01} stats: [numFiles=1, numRows=84, totalSize=4715, rawDataSize=4631]\n",
      "Partition mydb.posts_sample{year=2009, month=2009-02} stats: [numFiles=1, numRows=84, totalSize=4741, rawDataSize=4657]\n",
      "Partition mydb.posts_sample{year=2009, month=2009-03} stats: [numFiles=1, numRows=85, totalSize=4945, rawDataSize=4860]\n",
      "Partition mydb.posts_sample{year=2009, month=2009-04} stats: [numFiles=1, numRows=97, totalSize=5699, rawDataSize=5602]\n",
      "Partition mydb.posts_sample{year=2009, month=2009-05} stats: [numFiles=1, numRows=111, totalSize=6515, rawDataSize=6404]\n",
      "Partition mydb.posts_sample{year=2009, month=2009-06} stats: [numFiles=1, numRows=120, totalSize=7125, rawDataSize=7005]\n",
      "Partition mydb.posts_sample{year=2009, month=2009-07} stats: [numFiles=1, numRows=133, totalSize=8121, rawDataSize=7988]\n",
      "Partition mydb.posts_sample{year=2009, month=2009-08} stats: [numFiles=1, numRows=129, totalSize=7649, rawDataSize=7520]\n",
      "Partition mydb.posts_sample{year=2009, month=2009-09} stats: [numFiles=1, numRows=128, totalSize=7735, rawDataSize=7607]\n",
      "Partition mydb.posts_sample{year=2009, month=2009-10} stats: [numFiles=1, numRows=133, totalSize=8016, rawDataSize=7883]\n",
      "Partition mydb.posts_sample{year=2009, month=2009-11} stats: [numFiles=1, numRows=149, totalSize=9097, rawDataSize=8948]\n",
      "Partition mydb.posts_sample{year=2009, month=2009-12} stats: [numFiles=1, numRows=147, totalSize=9064, rawDataSize=8917]\n",
      "Partition mydb.posts_sample{year=2010, month=2010-01} stats: [numFiles=1, numRows=175, totalSize=10638, rawDataSize=10463]\n",
      "Partition mydb.posts_sample{year=2010, month=2010-02} stats: [numFiles=1, numRows=162, totalSize=9976, rawDataSize=9814]\n",
      "Partition mydb.posts_sample{year=2010, month=2010-03} stats: [numFiles=1, numRows=190, totalSize=11818, rawDataSize=11628]\n",
      "Partition mydb.posts_sample{year=2010, month=2010-04} stats: [numFiles=1, numRows=179, totalSize=11344, rawDataSize=11165]\n",
      "Partition mydb.posts_sample{year=2010, month=2010-05} stats: [numFiles=1, numRows=168, totalSize=10323, rawDataSize=10155]\n",
      "Partition mydb.posts_sample{year=2010, month=2010-06} stats: [numFiles=1, numRows=201, totalSize=12426, rawDataSize=12225]\n",
      "Partition mydb.posts_sample{year=2010, month=2010-07} stats: [numFiles=1, numRows=209, totalSize=13346, rawDataSize=13137]\n",
      "Partition mydb.posts_sample{year=2010, month=2010-08} stats: [numFiles=1, numRows=212, totalSize=13284, rawDataSize=13072]\n",
      "Partition mydb.posts_sample{year=2010, month=2010-09} stats: [numFiles=1, numRows=208, totalSize=13249, rawDataSize=13041]\n",
      "Partition mydb.posts_sample{year=2010, month=2010-10} stats: [numFiles=1, numRows=222, totalSize=13610, rawDataSize=13388]\n",
      "Partition mydb.posts_sample{year=2010, month=2010-11} stats: [numFiles=1, numRows=236, totalSize=14783, rawDataSize=14547]\n",
      "Partition mydb.posts_sample{year=2010, month=2010-12} stats: [numFiles=1, numRows=237, totalSize=14751, rawDataSize=14514]\n",
      "Partition mydb.posts_sample{year=2011, month=2011-01} stats: [numFiles=1, numRows=276, totalSize=17390, rawDataSize=17114]\n",
      "Partition mydb.posts_sample{year=2011, month=2011-02} stats: [numFiles=1, numRows=273, totalSize=17242, rawDataSize=16969]\n",
      "Partition mydb.posts_sample{year=2011, month=2011-03} stats: [numFiles=1, numRows=349, totalSize=21697, rawDataSize=21348]\n",
      "Partition mydb.posts_sample{year=2011, month=2011-04} stats: [numFiles=1, numRows=321, totalSize=19943, rawDataSize=19622]\n",
      "Partition mydb.posts_sample{year=2011, month=2011-05} stats: [numFiles=1, numRows=327, totalSize=20732, rawDataSize=20405]\n",
      "Partition mydb.posts_sample{year=2011, month=2011-06} stats: [numFiles=1, numRows=340, totalSize=21296, rawDataSize=20956]\n",
      "Partition mydb.posts_sample{year=2011, month=2011-07} stats: [numFiles=1, numRows=335, totalSize=21064, rawDataSize=20729]\n",
      "Partition mydb.posts_sample{year=2011, month=2011-08} stats: [numFiles=1, numRows=362, totalSize=22790, rawDataSize=22428]\n",
      "Partition mydb.posts_sample{year=2011, month=2011-09} stats: [numFiles=1, numRows=343, totalSize=21821, rawDataSize=21478]\n",
      "Partition mydb.posts_sample{year=2011, month=2011-10} stats: [numFiles=1, numRows=331, totalSize=20874, rawDataSize=20543]\n",
      "Partition mydb.posts_sample{year=2011, month=2011-11} stats: [numFiles=1, numRows=361, totalSize=22954, rawDataSize=22593]\n",
      "Partition mydb.posts_sample{year=2011, month=2011-12} stats: [numFiles=1, numRows=350, totalSize=21915, rawDataSize=21565]\n",
      "Partition mydb.posts_sample{year=2012, month=2012-01} stats: [numFiles=1, numRows=377, totalSize=23567, rawDataSize=23190]\n",
      "Partition mydb.posts_sample{year=2012, month=2012-02} stats: [numFiles=1, numRows=412, totalSize=26526, rawDataSize=26114]\n",
      "Partition mydb.posts_sample{year=2012, month=2012-03} stats: [numFiles=1, numRows=432, totalSize=27499, rawDataSize=27067]\n",
      "Partition mydb.posts_sample{year=2012, month=2012-04} stats: [numFiles=1, numRows=412, totalSize=27076, rawDataSize=26664]\n",
      "Partition mydb.posts_sample{year=2012, month=2012-05} stats: [numFiles=1, numRows=429, totalSize=28111, rawDataSize=27682]\n",
      "Partition mydb.posts_sample{year=2012, month=2012-06} stats: [numFiles=1, numRows=412, totalSize=26712, rawDataSize=26300]\n",
      "Partition mydb.posts_sample{year=2012, month=2012-07} stats: [numFiles=1, numRows=445, totalSize=29689, rawDataSize=29244]\n",
      "Partition mydb.posts_sample{year=2012, month=2012-08} stats: [numFiles=1, numRows=445, totalSize=28794, rawDataSize=28349]\n",
      "Partition mydb.posts_sample{year=2012, month=2012-09} stats: [numFiles=1, numRows=399, totalSize=25980, rawDataSize=25581]\n",
      "Partition mydb.posts_sample{year=2012, month=2012-10} stats: [numFiles=1, numRows=469, totalSize=30790, rawDataSize=30321]\n",
      "Partition mydb.posts_sample{year=2012, month=2012-11} stats: [numFiles=1, numRows=438, totalSize=28600, rawDataSize=28162]\n",
      "Partition mydb.posts_sample{year=2012, month=2012-12} stats: [numFiles=1, numRows=415, totalSize=26530, rawDataSize=26115]\n",
      "Partition mydb.posts_sample{year=2013, month=2013-01} stats: [numFiles=1, numRows=484, totalSize=31054, rawDataSize=30570]\n",
      "Partition mydb.posts_sample{year=2013, month=2013-02} stats: [numFiles=1, numRows=474, totalSize=31168, rawDataSize=30694]\n",
      "Partition mydb.posts_sample{year=2013, month=2013-03} stats: [numFiles=1, numRows=533, totalSize=34913, rawDataSize=34380]\n",
      "Partition mydb.posts_sample{year=2013, month=2013-04} stats: [numFiles=1, numRows=529, totalSize=35180, rawDataSize=34651]\n",
      "Partition mydb.posts_sample{year=2013, month=2013-05} stats: [numFiles=1, numRows=520, totalSize=34065, rawDataSize=33545]\n",
      "Partition mydb.posts_sample{year=2013, month=2013-06} stats: [numFiles=1, numRows=477, totalSize=31585, rawDataSize=31108]\n",
      "Partition mydb.posts_sample{year=2013, month=2013-07} stats: [numFiles=1, numRows=550, totalSize=36525, rawDataSize=35975]\n",
      "Partition mydb.posts_sample{year=2013, month=2013-08} stats: [numFiles=1, numRows=531, totalSize=35090, rawDataSize=34559]\n",
      "Partition mydb.posts_sample{year=2013, month=2013-09} stats: [numFiles=1, numRows=511, totalSize=33999, rawDataSize=33488]\n",
      "Partition mydb.posts_sample{year=2013, month=2013-10} stats: [numFiles=1, numRows=570, totalSize=37097, rawDataSize=36527]\n",
      "Partition mydb.posts_sample{year=2013, month=2013-11} stats: [numFiles=1, numRows=543, totalSize=35683, rawDataSize=35140]\n",
      "Partition mydb.posts_sample{year=2013, month=2013-12} stats: [numFiles=1, numRows=513, totalSize=33877, rawDataSize=33364]\n",
      "Partition mydb.posts_sample{year=2014, month=2014-01} stats: [numFiles=1, numRows=595, totalSize=39791, rawDataSize=39196]\n",
      "Partition mydb.posts_sample{year=2014, month=2014-02} stats: [numFiles=1, numRows=585, totalSize=38872, rawDataSize=38287]\n",
      "Partition mydb.posts_sample{year=2014, month=2014-03} stats: [numFiles=1, numRows=624, totalSize=41264, rawDataSize=40640]\n",
      "Partition mydb.posts_sample{year=2014, month=2014-04} stats: [numFiles=1, numRows=593, totalSize=39375, rawDataSize=38782]\n",
      "Partition mydb.posts_sample{year=2014, month=2014-05} stats: [numFiles=1, numRows=541, totalSize=35449, rawDataSize=34908]\n",
      "Partition mydb.posts_sample{year=2014, month=2014-06} stats: [numFiles=1, numRows=487, totalSize=32778, rawDataSize=32291]\n",
      "Partition mydb.posts_sample{year=2014, month=2014-07} stats: [numFiles=1, numRows=536, totalSize=35760, rawDataSize=35224]\n",
      "Partition mydb.posts_sample{year=2014, month=2014-08} stats: [numFiles=1, numRows=495, totalSize=32761, rawDataSize=32266]\n",
      "Partition mydb.posts_sample{year=2014, month=2014-09} stats: [numFiles=1, numRows=502, totalSize=33398, rawDataSize=32896]\n",
      "Partition mydb.posts_sample{year=2014, month=2014-10} stats: [numFiles=1, numRows=527, totalSize=35263, rawDataSize=34736]\n",
      "Partition mydb.posts_sample{year=2014, month=2014-11} stats: [numFiles=1, numRows=501, totalSize=33630, rawDataSize=33129]\n",
      "Partition mydb.posts_sample{year=2014, month=2014-12} stats: [numFiles=1, numRows=482, totalSize=32661, rawDataSize=32179]\n",
      "Partition mydb.posts_sample{year=2015, month=2015-01} stats: [numFiles=1, numRows=502, totalSize=33302, rawDataSize=32800]\n",
      "Partition mydb.posts_sample{year=2015, month=2015-02} stats: [numFiles=1, numRows=506, totalSize=33825, rawDataSize=33319]\n",
      "Partition mydb.posts_sample{year=2015, month=2015-03} stats: [numFiles=1, numRows=568, totalSize=37936, rawDataSize=37368]\n",
      "Partition mydb.posts_sample{year=2015, month=2015-04} stats: [numFiles=1, numRows=581, totalSize=38146, rawDataSize=37565]\n",
      "Partition mydb.posts_sample{year=2015, month=2015-05} stats: [numFiles=1, numRows=566, totalSize=37650, rawDataSize=37084]\n",
      "Partition mydb.posts_sample{year=2015, month=2015-06} stats: [numFiles=1, numRows=570, totalSize=38242, rawDataSize=37672]\n",
      "Partition mydb.posts_sample{year=2015, month=2015-07} stats: [numFiles=1, numRows=585, totalSize=39723, rawDataSize=39138]\n",
      "Partition mydb.posts_sample{year=2015, month=2015-08} stats: [numFiles=1, numRows=554, totalSize=37313, rawDataSize=36759]\n",
      "Partition mydb.posts_sample{year=2015, month=2015-09} stats: [numFiles=1, numRows=536, totalSize=35932, rawDataSize=35396]\n",
      "Partition mydb.posts_sample{year=2015, month=2015-10} stats: [numFiles=1, numRows=561, totalSize=38269, rawDataSize=37708]\n",
      "Partition mydb.posts_sample{year=2015, month=2015-11} stats: [numFiles=1, numRows=529, totalSize=35387, rawDataSize=34858]\n",
      "Partition mydb.posts_sample{year=2015, month=2015-12} stats: [numFiles=1, numRows=537, totalSize=35897, rawDataSize=35360]\n",
      "Partition mydb.posts_sample{year=2016, month=2016-01} stats: [numFiles=1, numRows=582, totalSize=39373, rawDataSize=38791]\n",
      "Partition mydb.posts_sample{year=2016, month=2016-02} stats: [numFiles=1, numRows=592, totalSize=39969, rawDataSize=39377]\n",
      "Partition mydb.posts_sample{year=2016, month=2016-03} stats: [numFiles=1, numRows=638, totalSize=43199, rawDataSize=42561]\n",
      "Partition mydb.posts_sample{year=2016, month=2016-04} stats: [numFiles=1, numRows=619, totalSize=41615, rawDataSize=40996]\n",
      "Partition mydb.posts_sample{year=2016, month=2016-05} stats: [numFiles=1, numRows=603, totalSize=40071, rawDataSize=39468]\n",
      "Partition mydb.posts_sample{year=2016, month=2016-06} stats: [numFiles=1, numRows=584, totalSize=39197, rawDataSize=38613]\n",
      "Partition mydb.posts_sample{year=2016, month=2016-07} stats: [numFiles=1, numRows=562, totalSize=38345, rawDataSize=37783]\n",
      "Partition mydb.posts_sample{year=2016, month=2016-08} stats: [numFiles=1, numRows=571, totalSize=38792, rawDataSize=38221]\n",
      "Partition mydb.posts_sample{year=2016, month=2016-09} stats: [numFiles=1, numRows=545, totalSize=36860, rawDataSize=36315]\n",
      "Partition mydb.posts_sample{year=2016, month=2016-10} stats: [numFiles=1, numRows=554, totalSize=37928, rawDataSize=37374]\n",
      "Partition mydb.posts_sample{year=2016, month=2016-11} stats: [numFiles=1, numRows=562, totalSize=38691, rawDataSize=38129]\n",
      "Partition mydb.posts_sample{year=2016, month=2016-12} stats: [numFiles=1, numRows=195, totalSize=13211, rawDataSize=13016]\n",
      "MapReduce Jobs Launched: \n",
      "Stage-Stage-1: Map: 1   Cumulative CPU: 50.14 sec   HDFS Read: 60005253 HDFS Write: 2565267 SUCCESS\n",
      "Total MapReduce CPU Time Spent: 50 seconds 140 msec\n",
      "OK\n",
      "Time taken: 90.676 seconds\n"
     ]
    }
   ],
   "source": [
    "%%bash\n",
    "\n",
    "# Print results\n",
    "# cat out.log | grep \"Partition mydb.posts_sample\" | head -3 | tail -1 | sed -nr \"s/.*year=([0-9]{4}).*month=([0-9]{4}\\-[0-9]{2}).*numRows=([0-9]+).*/\\1\\t\\2\\t\\3/p\"\n",
    "cat out.log | grep \"Partition mydb.posts_sample\" | head -3 | tail -1 | python2 script.py\n",
    "\n",
    "# Output stderr\n",
    "cat out.log >&2\n"
   ]
  }
 ],
 "metadata": {
  "kernelspec": {
   "display_name": "Python 2",
   "language": "python",
   "name": "python2"
  },
  "language_info": {
   "codemirror_mode": {
    "name": "ipython",
    "version": 2
   },
   "file_extension": ".py",
   "mimetype": "text/x-python",
   "name": "python",
   "nbconvert_exporter": "python",
   "pygments_lexer": "ipython2",
   "version": "2.7.14"
  }
 },
 "nbformat": 4,
 "nbformat_minor": 2
}
