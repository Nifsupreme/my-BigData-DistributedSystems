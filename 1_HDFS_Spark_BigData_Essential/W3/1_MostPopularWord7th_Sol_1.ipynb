{
 "cells": [
  {
   "cell_type": "markdown",
   "metadata": {},
   "source": [
    "## Job 1"
   ]
  },
  {
   "cell_type": "code",
   "execution_count": 1,
   "metadata": {},
   "outputs": [
    {
     "name": "stdout",
     "output_type": "stream",
     "text": [
      "Overwriting mapper1.py\n"
     ]
    }
   ],
   "source": [
    "%%writefile mapper1.py\n",
    "\n",
    "import sys\n",
    "import re\n",
    "\n",
    "reload(sys)\n",
    "sys.setdefaultencoding('utf-8') # required to convert to unicode\n",
    "\n",
    "for line in sys.stdin:\n",
    "    try:\n",
    "        article_id, text = unicode(line.strip()).split('\\t', 1)\n",
    "    except ValueError as e:\n",
    "        continue\n",
    "    words = re.split(\"\\W*\\s+\\W*\", text, flags=re.UNICODE)\n",
    "    for word in words:\n",
    "#         print >> sys.stderr, \"reporter:counter:Wiki stats,Total words,%d\" % 1\n",
    "        print \"%s\\t%d\" % (word.lower(), 1)"
   ]
  },
  {
   "cell_type": "code",
   "execution_count": 2,
   "metadata": {},
   "outputs": [
    {
     "name": "stdout",
     "output_type": "stream",
     "text": [
      "Overwriting reducer1.py\n"
     ]
    }
   ],
   "source": [
    "%%writefile reducer1.py\n",
    "\n",
    "import sys\n",
    "\n",
    "current_key = None\n",
    "word_sum = 0"
   ]
  },
  {
   "cell_type": "code",
   "execution_count": 3,
   "metadata": {},
   "outputs": [
    {
     "name": "stdout",
     "output_type": "stream",
     "text": [
      "Appending to reducer1.py\n"
     ]
    }
   ],
   "source": [
    "%%writefile -a reducer1.py\n",
    "\n",
    "for line in sys.stdin:\n",
    "    try:\n",
    "        key, count = line.strip().split('\\t', 1)\n",
    "        count = int(count)\n",
    "    except ValueError as e:\n",
    "        continue\n",
    "    if current_key != key:\n",
    "        if current_key:\n",
    "            print \"%s\\t%d\" % (current_key, word_sum)\n",
    "        word_sum = 0\n",
    "        current_key = key\n",
    "    word_sum += count\n",
    "\n",
    "if current_key:\n",
    "    print \"%s\\t%d\" % (current_key, word_sum)"
   ]
  },
  {
   "cell_type": "markdown",
   "metadata": {},
   "source": [
    "## Job 2"
   ]
  },
  {
   "cell_type": "code",
   "execution_count": 4,
   "metadata": {},
   "outputs": [
    {
     "name": "stdout",
     "output_type": "stream",
     "text": [
      "Overwriting mapper2.py\n"
     ]
    }
   ],
   "source": [
    "%%writefile mapper2.py\n",
    "\n",
    "import sys\n",
    "import re\n",
    "\n",
    "reload(sys)\n",
    "sys.setdefaultencoding('utf-8') # required to convert to unicode\n",
    "\n",
    "for line in sys.stdin:\n",
    "    try:\n",
    "        word, count = unicode(line.strip()).split('\\t', 1)\n",
    "        count = int(count)\n",
    "    except ValueError as e:\n",
    "        continue\n",
    "\n",
    "    print \"%s\\t%d\" % (word.lower(), count)"
   ]
  },
  {
   "cell_type": "code",
   "execution_count": 5,
   "metadata": {},
   "outputs": [
    {
     "name": "stdout",
     "output_type": "stream",
     "text": [
      "Overwriting reducer2.py\n"
     ]
    }
   ],
   "source": [
    "%%writefile reducer2.py\n",
    "\n",
    "import sys\n",
    "\n",
    "myList = []\n",
    "\n",
    "for line in sys.stdin:\n",
    "    try:\n",
    "        word, count = line.strip().split('\\t', 1)\n",
    "        count = int(count)\n",
    "    except ValueError as e:\n",
    "        continue\n",
    "    \n",
    "    myList.append([count, word])\n",
    "    \n",
    "myList.sort(reverse=True)\n",
    "for l in myList:\n",
    "    [count, word] = l\n",
    "    print \"%s\\t%d\" % (word.lower(), count)"
   ]
  },
  {
   "cell_type": "markdown",
   "metadata": {},
   "source": [
    "## Execute"
   ]
  },
  {
   "cell_type": "code",
   "execution_count": 6,
   "metadata": {},
   "outputs": [
    {
     "name": "stdout",
     "output_type": "stream",
     "text": [
      "is\t126420\n"
     ]
    },
    {
     "name": "stderr",
     "output_type": "stream",
     "text": [
      "18/01/19 11:52:40 INFO client.RMProxy: Connecting to ResourceManager at /0.0.0.0:8032\n",
      "18/01/19 11:52:40 INFO client.RMProxy: Connecting to ResourceManager at /0.0.0.0:8032\n",
      "18/01/19 11:52:40 INFO mapred.FileInputFormat: Total input files to process : 1\n",
      "18/01/19 11:52:40 INFO mapreduce.JobSubmitter: number of splits:2\n",
      "18/01/19 11:52:40 INFO mapreduce.JobSubmitter: Submitting tokens for job: job_1516314926040_0054\n",
      "18/01/19 11:52:41 INFO impl.YarnClientImpl: Submitted application application_1516314926040_0054\n",
      "18/01/19 11:52:41 INFO mapreduce.Job: The url to track the job: http://37bd34cac093:8088/proxy/application_1516314926040_0054/\n",
      "18/01/19 11:52:41 INFO mapreduce.Job: Running job: job_1516314926040_0054\n",
      "18/01/19 11:52:47 INFO mapreduce.Job: Job job_1516314926040_0054 running in uber mode : false\n",
      "18/01/19 11:52:47 INFO mapreduce.Job:  map 0% reduce 0%\n",
      "18/01/19 11:53:03 INFO mapreduce.Job:  map 46% reduce 0%\n",
      "18/01/19 11:53:09 INFO mapreduce.Job:  map 56% reduce 0%\n",
      "18/01/19 11:53:15 INFO mapreduce.Job:  map 67% reduce 0%\n",
      "18/01/19 11:53:17 INFO mapreduce.Job:  map 100% reduce 0%\n",
      "18/01/19 11:53:22 INFO mapreduce.Job:  map 100% reduce 13%\n",
      "18/01/19 11:53:23 INFO mapreduce.Job:  map 100% reduce 25%\n",
      "18/01/19 11:53:25 INFO mapreduce.Job:  map 100% reduce 38%\n",
      "18/01/19 11:53:26 INFO mapreduce.Job:  map 100% reduce 50%\n",
      "18/01/19 11:53:27 INFO mapreduce.Job:  map 100% reduce 63%\n",
      "18/01/19 11:53:28 INFO mapreduce.Job:  map 100% reduce 100%\n",
      "18/01/19 11:53:29 INFO mapreduce.Job: Job job_1516314926040_0054 completed successfully\n",
      "18/01/19 11:53:29 INFO mapreduce.Job: Counters: 50\n",
      "\tFile System Counters\n",
      "\t\tFILE: Number of bytes read=17954826\n",
      "\t\tFILE: Number of bytes written=28259453\n",
      "\t\tFILE: Number of read operations=0\n",
      "\t\tFILE: Number of large read operations=0\n",
      "\t\tFILE: Number of write operations=0\n",
      "\t\tHDFS: Number of bytes read=76874501\n",
      "\t\tHDFS: Number of bytes written=5370513\n",
      "\t\tHDFS: Number of read operations=30\n",
      "\t\tHDFS: Number of large read operations=0\n",
      "\t\tHDFS: Number of write operations=16\n",
      "\tJob Counters \n",
      "\t\tKilled reduce tasks=1\n",
      "\t\tLaunched map tasks=2\n",
      "\t\tLaunched reduce tasks=8\n",
      "\t\tData-local map tasks=2\n",
      "\t\tTotal time spent by all maps in occupied slots (ms)=56329\n",
      "\t\tTotal time spent by all reduces in occupied slots (ms)=23016\n",
      "\t\tTotal time spent by all map tasks (ms)=56329\n",
      "\t\tTotal time spent by all reduce tasks (ms)=23016\n",
      "\t\tTotal vcore-milliseconds taken by all map tasks=56329\n",
      "\t\tTotal vcore-milliseconds taken by all reduce tasks=23016\n",
      "\t\tTotal megabyte-milliseconds taken by all map tasks=57680896\n",
      "\t\tTotal megabyte-milliseconds taken by all reduce tasks=23568384\n",
      "\tMap-Reduce Framework\n",
      "\t\tMap input records=4100\n",
      "\t\tMap output records=11937375\n",
      "\t\tMap output bytes=97842436\n",
      "\t\tMap output materialized bytes=8952763\n",
      "\t\tInput split bytes=228\n",
      "\t\tCombine input records=11937375\n",
      "\t\tCombine output records=640011\n",
      "\t\tReduce input groups=427175\n",
      "\t\tReduce shuffle bytes=8952763\n",
      "\t\tReduce input records=640011\n",
      "\t\tReduce output records=427175\n",
      "\t\tSpilled Records=1920033\n",
      "\t\tShuffled Maps =16\n",
      "\t\tFailed Shuffles=0\n",
      "\t\tMerged Map outputs=16\n",
      "\t\tGC time elapsed (ms)=708\n",
      "\t\tCPU time spent (ms)=74940\n",
      "\t\tPhysical memory (bytes) snapshot=2362494976\n",
      "\t\tVirtual memory (bytes) snapshot=20224446464\n",
      "\t\tTotal committed heap usage (bytes)=1594359808\n",
      "\tShuffle Errors\n",
      "\t\tBAD_ID=0\n",
      "\t\tCONNECTION=0\n",
      "\t\tIO_ERROR=0\n",
      "\t\tWRONG_LENGTH=0\n",
      "\t\tWRONG_MAP=0\n",
      "\t\tWRONG_REDUCE=0\n",
      "\tFile Input Format Counters \n",
      "\t\tBytes Read=76874273\n",
      "\tFile Output Format Counters \n",
      "\t\tBytes Written=5370513\n",
      "18/01/19 11:53:29 INFO streaming.StreamJob: Output directory: first_job_result\n",
      "18/01/19 11:53:33 INFO client.RMProxy: Connecting to ResourceManager at /0.0.0.0:8032\n",
      "18/01/19 11:53:33 INFO client.RMProxy: Connecting to ResourceManager at /0.0.0.0:8032\n",
      "18/01/19 11:53:34 INFO mapred.FileInputFormat: Total input files to process : 8\n",
      "18/01/19 11:53:34 INFO mapreduce.JobSubmitter: number of splits:8\n",
      "18/01/19 11:53:34 INFO mapreduce.JobSubmitter: Submitting tokens for job: job_1516314926040_0055\n",
      "18/01/19 11:53:34 INFO impl.YarnClientImpl: Submitted application application_1516314926040_0055\n",
      "18/01/19 11:53:34 INFO mapreduce.Job: The url to track the job: http://37bd34cac093:8088/proxy/application_1516314926040_0055/\n",
      "18/01/19 11:53:34 INFO mapreduce.Job: Running job: job_1516314926040_0055\n",
      "18/01/19 11:53:40 INFO mapreduce.Job: Job job_1516314926040_0055 running in uber mode : false\n",
      "18/01/19 11:53:40 INFO mapreduce.Job:  map 0% reduce 0%\n",
      "18/01/19 11:53:45 INFO mapreduce.Job:  map 25% reduce 0%\n",
      "18/01/19 11:53:46 INFO mapreduce.Job:  map 75% reduce 0%\n",
      "18/01/19 11:53:50 INFO mapreduce.Job:  map 100% reduce 0%\n",
      "18/01/19 11:53:53 INFO mapreduce.Job:  map 100% reduce 100%\n",
      "18/01/19 11:53:53 INFO mapreduce.Job: Job job_1516314926040_0055 completed successfully\n",
      "18/01/19 11:53:53 INFO mapreduce.Job: Counters: 49\n",
      "\tFile System Counters\n",
      "\t\tFILE: Number of bytes read=6224888\n",
      "\t\tFILE: Number of bytes written=13707972\n",
      "\t\tFILE: Number of read operations=0\n",
      "\t\tFILE: Number of large read operations=0\n",
      "\t\tFILE: Number of write operations=0\n",
      "\t\tHDFS: Number of bytes read=5371417\n",
      "\t\tHDFS: Number of bytes written=5370513\n",
      "\t\tHDFS: Number of read operations=27\n",
      "\t\tHDFS: Number of large read operations=0\n",
      "\t\tHDFS: Number of write operations=2\n",
      "\tJob Counters \n",
      "\t\tLaunched map tasks=8\n",
      "\t\tLaunched reduce tasks=1\n",
      "\t\tData-local map tasks=8\n",
      "\t\tTotal time spent by all maps in occupied slots (ms)=25450\n",
      "\t\tTotal time spent by all reduces in occupied slots (ms)=4816\n",
      "\t\tTotal time spent by all map tasks (ms)=25450\n",
      "\t\tTotal time spent by all reduce tasks (ms)=4816\n",
      "\t\tTotal vcore-milliseconds taken by all map tasks=25450\n",
      "\t\tTotal vcore-milliseconds taken by all reduce tasks=4816\n",
      "\t\tTotal megabyte-milliseconds taken by all map tasks=26060800\n",
      "\t\tTotal megabyte-milliseconds taken by all reduce tasks=4931584\n",
      "\tMap-Reduce Framework\n",
      "\t\tMap input records=427175\n",
      "\t\tMap output records=427175\n",
      "\t\tMap output bytes=5370522\n",
      "\t\tMap output materialized bytes=6224930\n",
      "\t\tInput split bytes=904\n",
      "\t\tCombine input records=0\n",
      "\t\tCombine output records=0\n",
      "\t\tReduce input groups=427175\n",
      "\t\tReduce shuffle bytes=6224930\n",
      "\t\tReduce input records=427175\n",
      "\t\tReduce output records=427175\n",
      "\t\tSpilled Records=854350\n",
      "\t\tShuffled Maps =8\n",
      "\t\tFailed Shuffles=0\n",
      "\t\tMerged Map outputs=8\n",
      "\t\tGC time elapsed (ms)=958\n",
      "\t\tCPU time spent (ms)=16640\n",
      "\t\tPhysical memory (bytes) snapshot=2581823488\n",
      "\t\tVirtual memory (bytes) snapshot=18106179584\n",
      "\t\tTotal committed heap usage (bytes)=1757937664\n",
      "\tShuffle Errors\n",
      "\t\tBAD_ID=0\n",
      "\t\tCONNECTION=0\n",
      "\t\tIO_ERROR=0\n",
      "\t\tWRONG_LENGTH=0\n",
      "\t\tWRONG_MAP=0\n",
      "\t\tWRONG_REDUCE=0\n",
      "\tFile Input Format Counters \n",
      "\t\tBytes Read=5370513\n",
      "\tFile Output Format Counters \n",
      "\t\tBytes Written=5370513\n",
      "18/01/19 11:53:53 INFO streaming.StreamJob: Output directory: second_job_result\n",
      "cat: Unable to write to output stream.\n"
     ]
    }
   ],
   "source": [
    "%%bash\n",
    "\n",
    "# Job 1\n",
    "IN_DIR_1=\"/data/wiki/en_articles_part\"\n",
    "OUT_DIR_1=\"first_job_result\"\n",
    "NUM_REDUCERS_1=8\n",
    "\n",
    "hdfs dfs -rm -r -skipTrash ${OUT_DIR_1} > /dev/null\n",
    "\n",
    "yarn jar /opt/cloudera/parcels/CDH/lib/hadoop-mapreduce/hadoop-streaming.jar \\\n",
    "    -D mapred.jab.name=\"First job\" \\\n",
    "    -D mapreduce.job.reduces=${NUM_REDUCERS_1} \\\n",
    "    -D mapreduce.partition.keycomparator.options=\"-k2,2nr\" \\\n",
    "    -files mapper1.py,reducer1.py \\\n",
    "    -mapper \"python mapper1.py\" \\\n",
    "    -combiner \"python reducer1.py\" \\\n",
    "    -reducer \"python reducer1.py\" \\\n",
    "    -input ${IN_DIR_1} \\\n",
    "    -output ${OUT_DIR_1} > /dev/null\n",
    "\n",
    "\n",
    "# Job 2\n",
    "IN_DIR_2=${OUT_DIR_1}\n",
    "OUT_DIR_2=\"second_job_result\"\n",
    "NUM_REDUCERS_2=1\n",
    "\n",
    "hdfs dfs -rm -r -skipTrash ${OUT_DIR_2} > /dev/null\n",
    "\n",
    "yarn jar /opt/cloudera/parcels/CDH/lib/hadoop-mapreduce/hadoop-streaming.jar \\\n",
    "    -D mapred.jab.name=\"Second job\" \\\n",
    "    -D mapreduce.job.reduces=${NUM_REDUCERS_2} \\\n",
    "    -D mapreduce.partition.keycomparator.options=\"-k2,2nr\" \\\n",
    "    -files mapper2.py,reducer2.py \\\n",
    "    -mapper \"python mapper2.py\" \\\n",
    "    -reducer \"python reducer2.py\" \\\n",
    "    -input ${IN_DIR_2} \\\n",
    "    -output ${OUT_DIR_2} > /dev/null\n",
    "\n",
    "# Get the 7-th most popular word\n",
    "\n",
    "# hdfs dfs -ls ${OUT_DIR_1}\n",
    "# hdfs dfs -ls ${OUT_DIR_2}\n",
    "\n",
    "# hdfs dfs -cat ${OUT_DIR_2}/part-00000 | head\n",
    "\n",
    "# hdfs dfs -cat ${OUT_DIR_2}/part-00000 | tail\n",
    "# hdfs dfs -cat ${OUT_DIR_2}/part-00001 | head\n",
    "\n",
    "hdfs dfs -cat ${OUT_DIR_2}/part-00000 | head -7 | tail -1"
   ]
  },
  {
   "cell_type": "markdown",
   "metadata": {
    "collapsed": true
   },
   "source": [
    "## Test"
   ]
  },
  {
   "cell_type": "code",
   "execution_count": 7,
   "metadata": {},
   "outputs": [],
   "source": [
    "# ! hdfs dfs -cat /data/wiki/en_articles_part/articles-part | head -1"
   ]
  },
  {
   "cell_type": "code",
   "execution_count": 8,
   "metadata": {},
   "outputs": [
    {
     "name": "stdout",
     "output_type": "stream",
     "text": [
      "Overwriting debug_data.txt\n"
     ]
    }
   ],
   "source": [
    "%%writefile debug_data.txt\n",
    "1\tTruong Minh Xuan Thao, Tran Thi Phuong, Ninh Duong Lan Ngoc, Mi Du, Vu Ngoc Tram, Truong Ho Phuong Nga\n",
    "2\tTran Tam Minh, Minh Beo, Tran Dang Quang Vinh, Quach Vinh Thanh, Ngo Huynh Nhan\n",
    "3\tNguyen Tan Dung, Truong Tan Sang, Nguyen Phu Trong, Nguyen Minh Triet, Nguyen Tat Thanh, Trinh Xuan Thanh, Dinh La Thang\n",
    "4\tQue Ngoc Hai, Nguyen Cong Phuong"
   ]
  },
  {
   "cell_type": "code",
   "execution_count": 9,
   "metadata": {},
   "outputs": [
    {
     "name": "stdout",
     "output_type": "stream",
     "text": [
      "beo\t1\r\n",
      "cong\t1\r\n",
      "dang\t1\r\n",
      "dinh\t1\r\n",
      "du\t1\r\n",
      "dung\t1\r\n",
      "duong\t1\r\n",
      "hai\t1\r\n",
      "ho\t1\r\n",
      "huynh\t1\r\n"
     ]
    }
   ],
   "source": [
    "cat debug_data.txt | python2 ./mapper1.py | sort | python2 ./reducer1.py | head"
   ]
  },
  {
   "cell_type": "code",
   "execution_count": 10,
   "metadata": {},
   "outputs": [
    {
     "name": "stdout",
     "output_type": "stream",
     "text": [
      "nguyen\t5\r\n",
      "minh\t4\r\n",
      "truong\t3\r\n",
      "tran\t3\r\n",
      "thanh\t3\r\n",
      "phuong\t3\r\n",
      "ngoc\t3\r\n",
      "xuan\t2\r\n",
      "vinh\t2\r\n",
      "tan\t2\r\n"
     ]
    }
   ],
   "source": [
    "cat debug_data.txt | python2 ./mapper1.py | sort | python2 ./reducer1.py | python2 ./mapper2.py | sort | python2 ./reducer2.py | head"
   ]
  },
  {
   "cell_type": "code",
   "execution_count": 11,
   "metadata": {},
   "outputs": [
    {
     "name": "stdout",
     "output_type": "stream",
     "text": [
      "ngoc\t3\r\n"
     ]
    }
   ],
   "source": [
    "cat debug_data.txt | python2 ./mapper1.py | sort | python2 ./reducer1.py | python2 ./mapper2.py | sort | python2 ./reducer2.py | head -7 | tail -1"
   ]
  }
 ],
 "metadata": {
  "kernelspec": {
   "display_name": "Python 2",
   "language": "python",
   "name": "python2"
  },
  "language_info": {
   "codemirror_mode": {
    "name": "ipython",
    "version": 2
   },
   "file_extension": ".py",
   "mimetype": "text/x-python",
   "name": "python",
   "nbconvert_exporter": "python",
   "pygments_lexer": "ipython2",
   "version": "2.7.12"
  }
 },
 "nbformat": 4,
 "nbformat_minor": 2
}
