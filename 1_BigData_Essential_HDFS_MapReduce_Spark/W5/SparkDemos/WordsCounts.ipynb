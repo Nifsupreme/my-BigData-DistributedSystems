{
 "cells": [
  {
   "cell_type": "code",
   "execution_count": 2,
   "metadata": {},
   "outputs": [],
   "source": [
    "import re\n",
    "from pyspark import SparkConf, SparkContext\n",
    "sc = SparkContext(conf=SparkConf().setAppName(\"MyApp\").setMaster(\"local\"))\n",
    "\n",
    "def normalizeWords(text):\n",
    "    return re.compile(r'\\W+', re.UNICODE).split(text.lower())\n",
    "\n",
    "input = sc.textFile('book.txt')\n",
    "words = input.flatMap(normalizeWords)"
   ]
  },
  {
   "cell_type": "markdown",
   "metadata": {},
   "source": [
    "## Word counts"
   ]
  },
  {
   "cell_type": "code",
   "execution_count": 3,
   "metadata": {},
   "outputs": [
    {
     "name": "stdout",
     "output_type": "stream",
     "text": [
      "limited 12\n",
      "similarity 1\n",
      "hats 1\n",
      "saves 1\n",
      "desirable 1\n",
      "enforceable 1\n",
      "four 1\n",
      "immersive 1\n",
      "sleep 5\n"
     ]
    }
   ],
   "source": [
    "wordCounts = words.countByValue()\n",
    "for word, count in wordCounts.items()[:10]:\n",
    "    cleanWord = word.encode('ascii', 'ignore')\n",
    "    if (cleanWord):\n",
    "        print cleanWord, count"
   ]
  },
  {
   "cell_type": "markdown",
   "metadata": {},
   "source": [
    "## Word counts sorted"
   ]
  },
  {
   "cell_type": "code",
   "execution_count": 10,
   "metadata": {},
   "outputs": [],
   "source": [
    "wordCounts = words.map(lambda x: (x, 1)).reduceByKey(lambda x,y: x + y)\n",
    "wordCountsSorted = wordCounts.map(lambda (x,y): (y,x)).sortByKey(ascending=False)"
   ]
  },
  {
   "cell_type": "code",
   "execution_count": 11,
   "metadata": {},
   "outputs": [
    {
     "name": "stdout",
     "output_type": "stream",
     "text": [
      "you:\t\t1878\n",
      "to:\t\t1828\n",
      "your:\t\t1420\n",
      "the:\t\t1292\n",
      "a:\t\t1191\n",
      "of:\t\t970\n",
      "and:\t\t934\n",
      "that:\t\t747\n",
      "it:\t\t649\n"
     ]
    }
   ],
   "source": [
    "results = wordCountsSorted.collect()\n",
    "for result in results[:10]:\n",
    "    count = str(result[0])\n",
    "    word = result[1].encode('ascii', 'ignore')\n",
    "    if word:\n",
    "        print word + ':\\t\\t' + count"
   ]
  }
 ],
 "metadata": {
  "kernelspec": {
   "display_name": "Python 2",
   "language": "python",
   "name": "python2"
  },
  "language_info": {
   "codemirror_mode": {
    "name": "ipython",
    "version": 2
   },
   "file_extension": ".py",
   "mimetype": "text/x-python",
   "name": "python",
   "nbconvert_exporter": "python",
   "pygments_lexer": "ipython2",
   "version": "2.7.12"
  }
 },
 "nbformat": 4,
 "nbformat_minor": 2
}
