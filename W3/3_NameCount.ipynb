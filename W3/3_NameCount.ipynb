{
 "cells": [
  {
   "cell_type": "markdown",
   "metadata": {},
   "source": [
    "1. The first character is not a digit (other characters can be digits).\n",
    "2. The first character is uppercase, all the other characters that are letters are lowercase.\n",
    "3. There are less than 0.5% occurrences of this word, when this word regardless to its case appears in the dataset and the condition (2) is not met."
   ]
  },
  {
   "cell_type": "markdown",
   "metadata": {},
   "source": [
    "Order by quantity, most popular first, output format:\n",
    "\n",
    "name <tab> count\n",
    "\n",
    "The result is the 5th line in the output, for example:\n",
    "\n",
    "john 1234"
   ]
  },
  {
   "cell_type": "code",
   "execution_count": 1,
   "metadata": {},
   "outputs": [
    {
     "name": "stdout",
     "output_type": "stream",
     "text": [
      "Overwriting mapper.py\n"
     ]
    }
   ],
   "source": [
    "%%writefile mapper.py\n",
    "\n",
    "import sys\n",
    "import re\n",
    "\n",
    "reload(sys)\n",
    "sys.setdefaultencoding('utf-8') # required to convert to unicode\n",
    "\n",
    "\n",
    "def isDigitStart(word):\n",
    "    # 1. The first character is not a digit (other characters can be digits)\n",
    "    return re.match(\"^[0-9]\", word) is not None\n",
    "\n",
    "\n",
    "def isName(word):\n",
    "    # 2. The first character is uppercase , All the other characters that are letters are lowercase.\n",
    "    return re.match(r\"^[A-Z][^A-Z]*$\", word) is not None\n",
    "\n",
    "\n",
    "for line in sys.stdin:\n",
    "    try:\n",
    "        article_id, text = unicode(line.strip()).split('\\t', 1)\n",
    "    except ValueError as e:\n",
    "        continue\n",
    "    \n",
    "    text = re.sub(\"^\\W+|\\W+$\", \"\", text, flags=re.UNICODE)\n",
    "    words = re.split(\"\\W*\\s+\\W*\", text, flags=re.UNICODE)\n",
    "    for word in words:\n",
    "#         print >> sys.stderr, \"reporter:counter:myGroup,Total_words,%d\" % 1\n",
    "        \n",
    "        if isDigitStart(word):\n",
    "            continue\n",
    "\n",
    "        if isName(word):\n",
    "            label = 'ok'\n",
    "        else:\n",
    "            label = 'not_ok'\n",
    "            \n",
    "        print \"%s\\t%d\\t%s\" % (word.lower(), 1, label)"
   ]
  },
  {
   "cell_type": "code",
   "execution_count": 2,
   "metadata": {},
   "outputs": [
    {
     "name": "stdout",
     "output_type": "stream",
     "text": [
      "Overwriting reducer.py\n"
     ]
    }
   ],
   "source": [
    "%%writefile reducer.py\n",
    "\n",
    "import sys\n",
    "\n",
    "current_key = None\n",
    "word_sum_ok = 0\n",
    "word_sum_not_ok = 0\n",
    "\n",
    "for line in sys.stdin:\n",
    "    try:\n",
    "        key, count, label = line.strip().split('\\t', 2)\n",
    "        count = int(count)\n",
    "    except ValueError as e:\n",
    "        continue\n",
    "    \n",
    "    # New key\n",
    "    if current_key != key:\n",
    "        if current_key and float(word_sum_not_ok) / (word_sum_ok + word_sum_not_ok) <= 0.005:\n",
    "            print \"%s\\t%d\" % (current_key, word_sum_ok)\n",
    "        word_sum_ok = 0\n",
    "        word_sum_not_ok = 0\n",
    "        current_key = key\n",
    "    \n",
    "    # Same key\n",
    "    if label == 'ok':\n",
    "        word_sum_ok += count\n",
    "    else:\n",
    "        word_sum_not_ok += count\n",
    "\n",
    "if current_key and float(word_sum_not_ok) / (word_sum_ok + word_sum_not_ok) <= 0.005:\n",
    "    print \"%s\\t%d\" % (current_key, word_sum_ok)"
   ]
  },
  {
   "cell_type": "code",
   "execution_count": 3,
   "metadata": {},
   "outputs": [
    {
     "name": "stdout",
     "output_type": "stream",
     "text": [
      "french\t5742\n"
     ]
    },
    {
     "name": "stderr",
     "output_type": "stream",
     "text": [
      "sort: write failed: 'standard output': Broken pipe\n",
      "sort: write error\n",
      "18/01/25 08:02:02 INFO client.RMProxy: Connecting to ResourceManager at /0.0.0.0:8032\n",
      "18/01/25 08:02:02 INFO client.RMProxy: Connecting to ResourceManager at /0.0.0.0:8032\n",
      "18/01/25 08:02:03 INFO mapred.FileInputFormat: Total input files to process : 1\n",
      "18/01/25 08:02:03 INFO mapreduce.JobSubmitter: number of splits:2\n",
      "18/01/25 08:02:03 INFO mapreduce.JobSubmitter: Submitting tokens for job: job_1516837645430_0012\n",
      "18/01/25 08:02:04 INFO impl.YarnClientImpl: Submitted application application_1516837645430_0012\n",
      "18/01/25 08:02:04 INFO mapreduce.Job: The url to track the job: http://c239dcf23262:8088/proxy/application_1516837645430_0012/\n",
      "18/01/25 08:02:04 INFO mapreduce.Job: Running job: job_1516837645430_0012\n",
      "18/01/25 08:02:10 INFO mapreduce.Job: Job job_1516837645430_0012 running in uber mode : false\n",
      "18/01/25 08:02:10 INFO mapreduce.Job:  map 0% reduce 0%\n",
      "18/01/25 08:02:26 INFO mapreduce.Job:  map 31% reduce 0%\n",
      "18/01/25 08:02:32 INFO mapreduce.Job:  map 45% reduce 0%\n",
      "18/01/25 08:02:37 INFO mapreduce.Job:  map 60% reduce 0%\n",
      "18/01/25 08:02:43 INFO mapreduce.Job:  map 79% reduce 0%\n",
      "18/01/25 08:02:45 INFO mapreduce.Job:  map 100% reduce 0%\n",
      "18/01/25 08:02:53 INFO mapreduce.Job:  map 100% reduce 13%\n",
      "18/01/25 08:02:55 INFO mapreduce.Job:  map 100% reduce 25%\n",
      "18/01/25 08:02:56 INFO mapreduce.Job:  map 100% reduce 38%\n",
      "18/01/25 08:02:57 INFO mapreduce.Job:  map 100% reduce 75%\n",
      "18/01/25 08:03:00 INFO mapreduce.Job:  map 100% reduce 88%\n",
      "18/01/25 08:03:01 INFO mapreduce.Job:  map 100% reduce 100%\n",
      "18/01/25 08:03:01 INFO mapreduce.Job: Job job_1516837645430_0012 completed successfully\n",
      "18/01/25 08:03:01 INFO mapreduce.Job: Counters: 50\n",
      "\tFile System Counters\n",
      "\t\tFILE: Number of bytes read=377667693\n",
      "\t\tFILE: Number of bytes written=567767061\n",
      "\t\tFILE: Number of read operations=0\n",
      "\t\tFILE: Number of large read operations=0\n",
      "\t\tFILE: Number of write operations=0\n",
      "\t\tHDFS: Number of bytes read=76874501\n",
      "\t\tHDFS: Number of bytes written=1500490\n",
      "\t\tHDFS: Number of read operations=30\n",
      "\t\tHDFS: Number of large read operations=0\n",
      "\t\tHDFS: Number of write operations=16\n",
      "\tJob Counters \n",
      "\t\tKilled reduce tasks=1\n",
      "\t\tLaunched map tasks=2\n",
      "\t\tLaunched reduce tasks=8\n",
      "\t\tData-local map tasks=2\n",
      "\t\tTotal time spent by all maps in occupied slots (ms)=66714\n",
      "\t\tTotal time spent by all reduces in occupied slots (ms)=45685\n",
      "\t\tTotal time spent by all map tasks (ms)=66714\n",
      "\t\tTotal time spent by all reduce tasks (ms)=45685\n",
      "\t\tTotal vcore-milliseconds taken by all map tasks=66714\n",
      "\t\tTotal vcore-milliseconds taken by all reduce tasks=45685\n",
      "\t\tTotal megabyte-milliseconds taken by all map tasks=68315136\n",
      "\t\tTotal megabyte-milliseconds taken by all reduce tasks=46781440\n",
      "\tMap-Reduce Framework\n",
      "\t\tMap input records=4100\n",
      "\t\tMap output records=11493471\n",
      "\t\tMap output bytes=165803150\n",
      "\t\tMap output materialized bytes=188790197\n",
      "\t\tInput split bytes=228\n",
      "\t\tCombine input records=0\n",
      "\t\tCombine output records=0\n",
      "\t\tReduce input groups=373764\n",
      "\t\tReduce shuffle bytes=188790197\n",
      "\t\tReduce input records=11493471\n",
      "\t\tReduce output records=135604\n",
      "\t\tSpilled Records=34480413\n",
      "\t\tShuffled Maps =16\n",
      "\t\tFailed Shuffles=0\n",
      "\t\tMerged Map outputs=16\n",
      "\t\tGC time elapsed (ms)=973\n",
      "\t\tCPU time spent (ms)=114410\n",
      "\t\tPhysical memory (bytes) snapshot=2428006400\n",
      "\t\tVirtual memory (bytes) snapshot=20210331648\n",
      "\t\tTotal committed heap usage (bytes)=1649410048\n",
      "\tShuffle Errors\n",
      "\t\tBAD_ID=0\n",
      "\t\tCONNECTION=0\n",
      "\t\tIO_ERROR=0\n",
      "\t\tWRONG_LENGTH=0\n",
      "\t\tWRONG_MAP=0\n",
      "\t\tWRONG_REDUCE=0\n",
      "\tFile Input Format Counters \n",
      "\t\tBytes Read=76874273\n",
      "\tFile Output Format Counters \n",
      "\t\tBytes Written=1500490\n",
      "18/01/25 08:03:01 INFO streaming.StreamJob: Output directory: wordcount_result\n"
     ]
    }
   ],
   "source": [
    "%%bash\n",
    "\n",
    "OUT_DIR=\"wordcount_result\"\n",
    "NUM_REDUCERS=8\n",
    "\n",
    "hdfs dfs -rm -r -skipTrash ${OUT_DIR} > /dev/null\n",
    "\n",
    "yarn jar /opt/cloudera/parcels/CDH/lib/hadoop-mapreduce/hadoop-streaming.jar \\\n",
    "    -D mapred.jab.name=\"Streaming wordCount\" \\\n",
    "    -D mapreduce.job.reduces=${NUM_REDUCERS} \\\n",
    "    -files mapper.py,reducer.py \\\n",
    "    -mapper \"python mapper.py\" \\\n",
    "    -reducer \"python reducer.py\" \\\n",
    "    -input /data/wiki/en_articles_part \\\n",
    "    -output ${OUT_DIR} > /dev/null 2> output.log\n",
    "\n",
    "# Print result\n",
    "hadoop fs -cat ${OUT_DIR}/part-* | sort -k2,2nr | head -5 | tail -1\n",
    "\n",
    "# print log to stderr for grader\n",
    "cat output.log >&2"
   ]
  },
  {
   "cell_type": "markdown",
   "metadata": {},
   "source": [
    "## Test"
   ]
  },
  {
   "cell_type": "code",
   "execution_count": 4,
   "metadata": {},
   "outputs": [],
   "source": [
    "# %%writefile debug_data.txt\n",
    "# 1\t5ffgfg truong Minh Xua.n ThAo 5 T4an \n",
    "# 2\tPhuong PHuong Phuong PhUong PhuonG Ph9uong Phuong Phuong Phuong Ph9uong Phuong Phuong Phuong Phuong Phuong\n",
    "# 3\tPhuong Phuong Phuong Phuong PhuonG Phuong Phuong Phuong Phuong Phuong Phuong Phuong Phuong Phuong Phuong\n",
    "# 4\tThao Thao Thao Thao Thao ThaO Thao Thao Thao Thao Thao Thao Thao"
   ]
  },
  {
   "cell_type": "code",
   "execution_count": 5,
   "metadata": {},
   "outputs": [],
   "source": [
    "# cat debug_data.txt | python2 mapper.py | sort | python2 reducer.py"
   ]
  }
 ],
 "metadata": {
  "kernelspec": {
   "display_name": "Python 2",
   "language": "python",
   "name": "python2"
  },
  "language_info": {
   "codemirror_mode": {
    "name": "ipython",
    "version": 2
   },
   "file_extension": ".py",
   "mimetype": "text/x-python",
   "name": "python",
   "nbconvert_exporter": "python",
   "pygments_lexer": "ipython2",
   "version": "2.7.12"
  }
 },
 "nbformat": 4,
 "nbformat_minor": 2
}
