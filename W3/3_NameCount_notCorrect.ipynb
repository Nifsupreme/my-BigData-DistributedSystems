{
 "cells": [
  {
   "cell_type": "code",
   "execution_count": 16,
   "metadata": {},
   "outputs": [
    {
     "name": "stdout",
     "output_type": "stream",
     "text": [
      "Overwriting mapper.py\n"
     ]
    }
   ],
   "source": [
    "%%writefile mapper.py\n",
    "\n",
    "import sys\n",
    "import re\n",
    "\n",
    "reload(sys)\n",
    "sys.setdefaultencoding('utf-8') # required to convert to unicode\n",
    "\n",
    "def isDigitStart(word):\n",
    "    # 1. The first character is a digit (other characters can be digits)\n",
    "    if re.match(\"^[0-9]\", word):\n",
    "        return True\n",
    "\n",
    "    return False\n",
    "\n",
    "\n",
    "def isName(word):\n",
    "    if word == None:\n",
    "        return False\n",
    "\n",
    "    # 2. The first character is uppercase\n",
    "    if not re.match(\"^[A-Z]\", word):\n",
    "        return False\n",
    "\n",
    "    #  3. All the other characters must not be uppercase\n",
    "    if len(word) > 1:\n",
    "        for c in word[1:]:\n",
    "            if  re.match(\"[A-Z]\", c):\n",
    "                return False\n",
    "    \n",
    "    return True\n",
    "\n",
    "\n",
    "for line in sys.stdin:\n",
    "    try:\n",
    "        article_id, text = unicode(line.strip()).split('\\t', 1)\n",
    "    except ValueError as e:\n",
    "        continue\n",
    "    \n",
    "    text = re.sub(\"^\\W+|\\W+$\", \"\", text, flags=re.UNICODE)\n",
    "    words = re.split(\"\\W*\\s+\\W*\", text, flags=re.UNICODE)\n",
    "\n",
    "    for word in words:\n",
    "#         print >> sys.stderr, \"reporter:counter:myGroup,Total_words,%d\" % 1\n",
    "        \n",
    "        if isDigitStart(word):\n",
    "            continue\n",
    "\n",
    "        if isName(word):\n",
    "            label = 'ok'\n",
    "        else:\n",
    "            label = 'not_ok'\n",
    "            \n",
    "        print \"%s\\t%d\\t%s\" % (word.lower(), 1, label)"
   ]
  },
  {
   "cell_type": "code",
   "execution_count": 12,
   "metadata": {},
   "outputs": [
    {
     "name": "stdout",
     "output_type": "stream",
     "text": [
      "Overwriting reducer.py\n"
     ]
    }
   ],
   "source": [
    "%%writefile reducer.py\n",
    "\n",
    "import sys\n",
    "\n",
    "current_key = None\n",
    "word_sum_ok = 0\n",
    "word_sum_not_ok = 0\n",
    "\n",
    "for line in sys.stdin:\n",
    "    try:\n",
    "        key, count, label = line.strip().split('\\t', 2)\n",
    "        count = int(count)\n",
    "    except ValueError as e:\n",
    "        continue\n",
    "    \n",
    "    # New key\n",
    "    if current_key != key:\n",
    "        if current_key and word_sum_ok != 0 and float(word_sum_not_ok) / float(word_sum_ok + word_sum_not_ok) <= 0.005:\n",
    "            print \"%s\\t%d\" % (current_key, word_sum_ok)\n",
    "        word_sum_ok = 0\n",
    "        word_sum_not_ok = 0\n",
    "        current_key = key\n",
    "    \n",
    "    # Same key\n",
    "    if label == 'ok':\n",
    "        word_sum_ok += count\n",
    "    else:\n",
    "        word_sum_not_ok += count\n",
    "\n",
    "if current_key and word_sum_ok != 0 and float(word_sum_not_ok) / float(word_sum_ok + word_sum_not_ok) <= 0.005:\n",
    "    print \"%s\\t%d\" % (current_key, word_sum_ok)"
   ]
  },
  {
   "cell_type": "code",
   "execution_count": 13,
   "metadata": {},
   "outputs": [
    {
     "name": "stdout",
     "output_type": "stream",
     "text": [
      "american\t17215\n",
      "english\t7794\n",
      "british\t6668\n",
      "john\t5762\n",
      "french\t5742\n",
      "german\t4622\n",
      "york\t4457\n",
      "roman\t3805\n",
      "europe\t3586\n",
      "european\t3528\n"
     ]
    },
    {
     "name": "stderr",
     "output_type": "stream",
     "text": [
      "sort: write failed: 'standard output': Broken pipe\n",
      "sort: write error\n",
      "18/01/23 06:23:58 INFO client.RMProxy: Connecting to ResourceManager at /0.0.0.0:8032\n",
      "18/01/23 06:23:58 INFO client.RMProxy: Connecting to ResourceManager at /0.0.0.0:8032\n",
      "18/01/23 06:23:58 INFO mapred.FileInputFormat: Total input files to process : 1\n",
      "18/01/23 06:23:58 INFO mapreduce.JobSubmitter: number of splits:2\n",
      "18/01/23 06:23:59 INFO mapreduce.JobSubmitter: Submitting tokens for job: job_1516676845530_0022\n",
      "18/01/23 06:23:59 INFO impl.YarnClientImpl: Submitted application application_1516676845530_0022\n",
      "18/01/23 06:23:59 INFO mapreduce.Job: The url to track the job: http://662e0c8f470a:8088/proxy/application_1516676845530_0022/\n",
      "18/01/23 06:23:59 INFO mapreduce.Job: Running job: job_1516676845530_0022\n",
      "18/01/23 06:24:04 INFO mapreduce.Job: Job job_1516676845530_0022 running in uber mode : false\n",
      "18/01/23 06:24:04 INFO mapreduce.Job:  map 0% reduce 0%\n",
      "18/01/23 06:24:21 INFO mapreduce.Job:  map 10% reduce 0%\n",
      "18/01/23 06:24:27 INFO mapreduce.Job:  map 15% reduce 0%\n",
      "18/01/23 06:24:33 INFO mapreduce.Job:  map 20% reduce 0%\n",
      "18/01/23 06:24:39 INFO mapreduce.Job:  map 25% reduce 0%\n",
      "18/01/23 06:24:44 INFO mapreduce.Job:  map 28% reduce 0%\n",
      "18/01/23 06:24:45 INFO mapreduce.Job:  map 31% reduce 0%\n",
      "18/01/23 06:24:50 INFO mapreduce.Job:  map 36% reduce 0%\n",
      "18/01/23 06:24:56 INFO mapreduce.Job:  map 41% reduce 0%\n",
      "18/01/23 06:25:02 INFO mapreduce.Job:  map 46% reduce 0%\n",
      "18/01/23 06:25:08 INFO mapreduce.Job:  map 51% reduce 0%\n",
      "18/01/23 06:25:14 INFO mapreduce.Job:  map 56% reduce 0%\n",
      "18/01/23 06:25:20 INFO mapreduce.Job:  map 61% reduce 0%\n",
      "18/01/23 06:25:26 INFO mapreduce.Job:  map 66% reduce 0%\n",
      "18/01/23 06:25:31 INFO mapreduce.Job:  map 83% reduce 0%\n",
      "18/01/23 06:25:32 INFO mapreduce.Job:  map 100% reduce 0%\n",
      "18/01/23 06:25:39 INFO mapreduce.Job:  map 100% reduce 13%\n",
      "18/01/23 06:25:41 INFO mapreduce.Job:  map 100% reduce 25%\n",
      "18/01/23 06:25:42 INFO mapreduce.Job:  map 100% reduce 38%\n",
      "18/01/23 06:25:43 INFO mapreduce.Job:  map 100% reduce 50%\n",
      "18/01/23 06:25:44 INFO mapreduce.Job:  map 100% reduce 75%\n",
      "18/01/23 06:25:46 INFO mapreduce.Job:  map 100% reduce 88%\n",
      "18/01/23 06:25:47 INFO mapreduce.Job:  map 100% reduce 100%\n",
      "18/01/23 06:25:47 INFO mapreduce.Job: Job job_1516676845530_0022 completed successfully\n",
      "18/01/23 06:25:47 INFO mapreduce.Job: Counters: 51\n",
      "\tFile System Counters\n",
      "\t\tFILE: Number of bytes read=377667693\n",
      "\t\tFILE: Number of bytes written=567767041\n",
      "\t\tFILE: Number of read operations=0\n",
      "\t\tFILE: Number of large read operations=0\n",
      "\t\tFILE: Number of write operations=0\n",
      "\t\tHDFS: Number of bytes read=76874501\n",
      "\t\tHDFS: Number of bytes written=1500490\n",
      "\t\tHDFS: Number of read operations=30\n",
      "\t\tHDFS: Number of large read operations=0\n",
      "\t\tHDFS: Number of write operations=16\n",
      "\tJob Counters \n",
      "\t\tKilled reduce tasks=1\n",
      "\t\tLaunched map tasks=2\n",
      "\t\tLaunched reduce tasks=8\n",
      "\t\tData-local map tasks=2\n",
      "\t\tTotal time spent by all maps in occupied slots (ms)=170757\n",
      "\t\tTotal time spent by all reduces in occupied slots (ms)=51176\n",
      "\t\tTotal time spent by all map tasks (ms)=170757\n",
      "\t\tTotal time spent by all reduce tasks (ms)=51176\n",
      "\t\tTotal vcore-milliseconds taken by all map tasks=170757\n",
      "\t\tTotal vcore-milliseconds taken by all reduce tasks=51176\n",
      "\t\tTotal megabyte-milliseconds taken by all map tasks=174855168\n",
      "\t\tTotal megabyte-milliseconds taken by all reduce tasks=52404224\n",
      "\tMap-Reduce Framework\n",
      "\t\tMap input records=4100\n",
      "\t\tMap output records=11493471\n",
      "\t\tMap output bytes=165803150\n",
      "\t\tMap output materialized bytes=188790197\n",
      "\t\tInput split bytes=228\n",
      "\t\tCombine input records=0\n",
      "\t\tCombine output records=0\n",
      "\t\tReduce input groups=373764\n",
      "\t\tReduce shuffle bytes=188790197\n",
      "\t\tReduce input records=11493471\n",
      "\t\tReduce output records=135604\n",
      "\t\tSpilled Records=34480413\n",
      "\t\tShuffled Maps =16\n",
      "\t\tFailed Shuffles=0\n",
      "\t\tMerged Map outputs=16\n",
      "\t\tGC time elapsed (ms)=1446\n",
      "\t\tCPU time spent (ms)=335380\n",
      "\t\tPhysical memory (bytes) snapshot=2349412352\n",
      "\t\tVirtual memory (bytes) snapshot=20199723008\n",
      "\t\tTotal committed heap usage (bytes)=1576534016\n",
      "\tShuffle Errors\n",
      "\t\tBAD_ID=0\n",
      "\t\tCONNECTION=0\n",
      "\t\tIO_ERROR=0\n",
      "\t\tWRONG_LENGTH=0\n",
      "\t\tWRONG_MAP=0\n",
      "\t\tWRONG_REDUCE=0\n",
      "\tmyGroup\n",
      "\t\tTotal_words=11937317\n",
      "\tFile Input Format Counters \n",
      "\t\tBytes Read=76874273\n",
      "\tFile Output Format Counters \n",
      "\t\tBytes Written=1500490\n",
      "18/01/23 06:25:47 INFO streaming.StreamJob: Output directory: wordcount_result\n"
     ]
    }
   ],
   "source": [
    "%%bash\n",
    "\n",
    "OUT_DIR=\"wordcount_result\"\n",
    "NUM_REDUCERS=8\n",
    "\n",
    "hdfs dfs -rm -r -skipTrash ${OUT_DIR} > /dev/null\n",
    "\n",
    "yarn jar /opt/cloudera/parcels/CDH/lib/hadoop-mapreduce/hadoop-streaming.jar \\\n",
    "    -D mapred.jab.name=\"Streaming wordCount\" \\\n",
    "    -D mapreduce.job.reduces=${NUM_REDUCERS} \\\n",
    "    -files mapper.py,reducer.py \\\n",
    "    -mapper \"python mapper.py\" \\\n",
    "    -reducer \"python reducer.py\" \\\n",
    "    -input /data/wiki/en_articles_part \\\n",
    "    -output ${OUT_DIR} > /dev/null 2> err.log\n",
    "\n",
    "# Print result\n",
    "hadoop fs -cat ${OUT_DIR}/part-* | sort -k2,2nr | head\n",
    "\n",
    "# print log to stderr for grader\n",
    "cat err.log >&2"
   ]
  },
  {
   "cell_type": "markdown",
   "metadata": {},
   "source": [
    "## test"
   ]
  },
  {
   "cell_type": "code",
   "execution_count": 14,
   "metadata": {},
   "outputs": [
    {
     "name": "stdout",
     "output_type": "stream",
     "text": [
      "Overwriting debug_data.txt\n"
     ]
    }
   ],
   "source": [
    "%%writefile debug_data.txt\n",
    "1\t5ffgfg truong Minh Xua.n ThAo 5 T4an Ph$uong POtter MidU P4hUong P9Huong P4huOng\n",
    "2\tXuan Thao xuan thao XuAn Thao T5an P4huong T5An P4huonG"
   ]
  },
  {
   "cell_type": "code",
   "execution_count": 17,
   "metadata": {},
   "outputs": [
    {
     "name": "stdout",
     "output_type": "stream",
     "text": [
      "midu\t1\tnot_ok\r\n",
      "minh\t1\tok\r\n",
      "p4huong\t1\tnot_ok\r\n",
      "p4huong\t1\tnot_ok\r\n",
      "p4huong\t1\tnot_ok\r\n",
      "p4huong\t1\tok\r\n",
      "p9huong\t1\tnot_ok\r\n",
      "ph$uong\t1\tok\r\n",
      "potter\t1\tnot_ok\r\n",
      "t4an\t1\tok\r\n",
      "t5an\t1\tnot_ok\r\n",
      "t5an\t1\tok\r\n",
      "thao\t1\tnot_ok\r\n",
      "thao\t1\tnot_ok\r\n",
      "thao\t1\tok\r\n",
      "thao\t1\tok\r\n",
      "truong\t1\tnot_ok\r\n",
      "xuan\t1\tnot_ok\r\n",
      "xuan\t1\tnot_ok\r\n",
      "xua.n\t1\tok\r\n",
      "xuan\t1\tok\r\n"
     ]
    }
   ],
   "source": [
    "cat debug_data.txt | python2 ./mapper.py | sort"
   ]
  },
  {
   "cell_type": "code",
   "execution_count": 18,
   "metadata": {},
   "outputs": [
    {
     "name": "stdout",
     "output_type": "stream",
     "text": [
      "minh\t1\r\n",
      "ph$uong\t1\r\n",
      "t4an\t1\r\n",
      "xua.n\t1\r\n",
      "xuan\t1\r\n"
     ]
    }
   ],
   "source": [
    "# cat debug_data.txt | python2 mapper.py | sort | python2 reducer.py"
   ]
  }
 ],
 "metadata": {
  "kernelspec": {
   "display_name": "Python 2",
   "language": "python",
   "name": "python2"
  },
  "language_info": {
   "codemirror_mode": {
    "name": "ipython",
    "version": 2
   },
   "file_extension": ".py",
   "mimetype": "text/x-python",
   "name": "python",
   "nbconvert_exporter": "python",
   "pygments_lexer": "ipython2",
   "version": "2.7.12"
  }
 },
 "nbformat": 4,
 "nbformat_minor": 2
}
