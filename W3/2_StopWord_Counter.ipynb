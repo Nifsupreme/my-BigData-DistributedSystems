{
 "cells": [
  {
   "cell_type": "code",
   "execution_count": 1,
   "metadata": {},
   "outputs": [
    {
     "name": "stdout",
     "output_type": "stream",
     "text": [
      "Overwriting mapper.py\n"
     ]
    }
   ],
   "source": [
    "%%writefile mapper.py\n",
    "\n",
    "import sys\n",
    "import re\n",
    "\n",
    "reload(sys)\n",
    "sys.setdefaultencoding('utf-8') # required to convert to unicode\n",
    "\n",
    "distributed_cache_file = 'stop_words_en.txt'\n",
    "def read_stop_words(file_path):\n",
    "    return set(word.strip().lower() for word in open(file_path))\n",
    "stop_words = read_stop_words(distributed_cache_file)\n",
    "\n",
    "for line in sys.stdin:\n",
    "    try:\n",
    "        article_id, text = unicode(line.strip()).split('\\t', 1)\n",
    "    except ValueError as e:\n",
    "        continue\n",
    "    words = re.split(\"\\W*\\s+\\W*\", text, flags=re.UNICODE)\n",
    "    for word in words:\n",
    "        print >> sys.stderr, \"reporter:counter:myGroup,Total_words,%d\" % 1\n",
    "        if word in stop_words:\n",
    "            print >> sys.stderr, \"reporter:counter:myGroup,Stop_words,%d\" % 1\n",
    "#         print \"%s\\t%d\" % (word.lower(), 1)"
   ]
  },
  {
   "cell_type": "code",
   "execution_count": 2,
   "metadata": {},
   "outputs": [
    {
     "name": "stdout",
     "output_type": "stream",
     "text": [
      "Overwriting myScript.py\n"
     ]
    }
   ],
   "source": [
    "%%writefile myScript.py\n",
    "\n",
    "import sys\n",
    "reload(sys)\n",
    "\n",
    "nums = []\n",
    "for line in sys.stdin:\n",
    "    try:\n",
    "        num = line.strip()\n",
    "        num = float(num)\n",
    "#         num = float(num)\n",
    "    except ValueError as e:\n",
    "        continue\n",
    "    \n",
    "    nums.append(num)\n",
    "print nums[0]*100.0 / nums[1]"
   ]
  },
  {
   "cell_type": "code",
   "execution_count": 3,
   "metadata": {},
   "outputs": [
    {
     "name": "stdout",
     "output_type": "stream",
     "text": [
      "38.4403690091\n"
     ]
    },
    {
     "name": "stderr",
     "output_type": "stream",
     "text": [
      "rm: `wordcount_result_1516595458685797': No such file or directory\n",
      "18/01/22 04:31:02 INFO client.RMProxy: Connecting to ResourceManager at /0.0.0.0:8032\n",
      "18/01/22 04:31:03 INFO client.RMProxy: Connecting to ResourceManager at /0.0.0.0:8032\n",
      "18/01/22 04:31:04 INFO mapred.FileInputFormat: Total input files to process : 1\n",
      "18/01/22 04:31:04 INFO mapreduce.JobSubmitter: number of splits:2\n",
      "18/01/22 04:31:04 INFO mapreduce.JobSubmitter: Submitting tokens for job: job_1516574726089_0023\n",
      "18/01/22 04:31:04 INFO impl.YarnClientImpl: Submitted application application_1516574726089_0023\n",
      "18/01/22 04:31:04 INFO mapreduce.Job: The url to track the job: http://7924f258b69f:8088/proxy/application_1516574726089_0023/\n",
      "18/01/22 04:31:04 INFO mapreduce.Job: Running job: job_1516574726089_0023\n",
      "18/01/22 04:31:11 INFO mapreduce.Job: Job job_1516574726089_0023 running in uber mode : false\n",
      "18/01/22 04:31:11 INFO mapreduce.Job:  map 0% reduce 0%\n",
      "18/01/22 04:31:28 INFO mapreduce.Job:  map 60% reduce 0%\n",
      "18/01/22 04:31:34 INFO mapreduce.Job:  map 91% reduce 0%\n",
      "18/01/22 04:31:36 INFO mapreduce.Job:  map 100% reduce 0%\n",
      "18/01/22 04:31:38 INFO mapreduce.Job: Job job_1516574726089_0023 completed successfully\n",
      "18/01/22 04:31:38 INFO mapreduce.Job: Counters: 32\n",
      "\tFile System Counters\n",
      "\t\tFILE: Number of bytes read=0\n",
      "\t\tFILE: Number of bytes written=278668\n",
      "\t\tFILE: Number of read operations=0\n",
      "\t\tFILE: Number of large read operations=0\n",
      "\t\tFILE: Number of write operations=0\n",
      "\t\tHDFS: Number of bytes read=76874501\n",
      "\t\tHDFS: Number of bytes written=0\n",
      "\t\tHDFS: Number of read operations=10\n",
      "\t\tHDFS: Number of large read operations=0\n",
      "\t\tHDFS: Number of write operations=4\n",
      "\tJob Counters \n",
      "\t\tLaunched map tasks=2\n",
      "\t\tData-local map tasks=2\n",
      "\t\tTotal time spent by all maps in occupied slots (ms)=44102\n",
      "\t\tTotal time spent by all reduces in occupied slots (ms)=0\n",
      "\t\tTotal time spent by all map tasks (ms)=44102\n",
      "\t\tTotal vcore-milliseconds taken by all map tasks=44102\n",
      "\t\tTotal megabyte-milliseconds taken by all map tasks=45160448\n",
      "\tMap-Reduce Framework\n",
      "\t\tMap input records=4100\n",
      "\t\tMap output records=0\n",
      "\t\tInput split bytes=228\n",
      "\t\tSpilled Records=0\n",
      "\t\tFailed Shuffles=0\n",
      "\t\tMerged Map outputs=0\n",
      "\t\tGC time elapsed (ms)=1391\n",
      "\t\tCPU time spent (ms)=75870\n",
      "\t\tPhysical memory (bytes) snapshot=391954432\n",
      "\t\tVirtual memory (bytes) snapshot=4024561664\n",
      "\t\tTotal committed heap usage (bytes)=308281344\n",
      "\tmyGroup\n",
      "\t\tStop_words=4588771\n",
      "\t\tTotal_words=11937375\n",
      "\tFile Input Format Counters \n",
      "\t\tBytes Read=76874273\n",
      "\tFile Output Format Counters \n",
      "\t\tBytes Written=0\n",
      "18/01/22 04:31:38 INFO streaming.StreamJob: Output directory: wordcount_result_1516595458685797\n"
     ]
    }
   ],
   "source": [
    "%%bash\n",
    "\n",
    "OUT_DIR=\"wordcount_result_\"$(date +\"%s%6N\")\n",
    "NUM_REDUCERS=0\n",
    "\n",
    "hdfs dfs -rm -r -skipTrash ${OUT_DIR} > /dev/null\n",
    "\n",
    "yarn jar /opt/cloudera/parcels/CDH/lib/hadoop-mapreduce/hadoop-streaming.jar \\\n",
    "    -D mapred.jab.name=\"Streaming wordCount\" \\\n",
    "    -D mapreduce.job.reduces=${NUM_REDUCERS} \\\n",
    "    -files mapper.py,/datasets/stop_words_en.txt \\\n",
    "    -mapper \"python mapper.py\" \\\n",
    "    -numReduceTasks 0 \\\n",
    "    -input /data/wiki/en_articles_part \\\n",
    "    -output ${OUT_DIR} > /dev/null 2> output.log\n",
    "\n",
    "# print the answer\n",
    "cat output.log | egrep \"*_words\" | grep -Eo [0-9]+ | python2 myScript.py\n",
    "\n",
    "# print log to stderr for grader\n",
    "cat output.log >&2"
   ]
  }
 ],
 "metadata": {
  "kernelspec": {
   "display_name": "Python 2",
   "language": "python",
   "name": "python2"
  },
  "language_info": {
   "codemirror_mode": {
    "name": "ipython",
    "version": 2
   },
   "file_extension": ".py",
   "mimetype": "text/x-python",
   "name": "python",
   "nbconvert_exporter": "python",
   "pygments_lexer": "ipython2",
   "version": "2.7.12"
  }
 },
 "nbformat": 4,
 "nbformat_minor": 2
}
