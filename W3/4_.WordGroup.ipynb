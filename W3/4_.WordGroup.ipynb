{
 "cells": [
  {
   "cell_type": "markdown",
   "metadata": {},
   "source": [
    "Calculate statistics for groups of words which are equal up to permutations of letters. For example, ‘emit’, ‘item’ and ‘time’ are the same words up to a permutation of letters. Determine such groups of words and sum all their counts. Apply stop words filter. Filter out groups that consist of only one word.\n",
    "\n",
    "Output: count of occurrences for the group of words, number of unique words in the group, comma-separated list of the words in the group in lexicographical order:\n",
    "\n",
    "sum <tab> group size <tab> word1,word2,...\n",
    "\n",
    "Example: assume ‘emit’ occurred 3 times, 'item' -- 2 times, 'time' -- 5 times; 3 + 2 + 5 = 10, group contains 3 words, so for this group result is:\n",
    "\n",
    "10 3 emit,item,time\n",
    "\n",
    "The result of the task is the output line with word ‘english’.\n",
    "\n",
    "NB: Do not forget about the lexicographical order of words in the group: 'emit,item,time' is OK, 'emit,time,item' is not.\n",
    "\n"
   ]
  },
  {
   "cell_type": "code",
   "execution_count": 1,
   "metadata": {},
   "outputs": [
    {
     "name": "stdout",
     "output_type": "stream",
     "text": [
      "Overwriting mapper.py\n"
     ]
    }
   ],
   "source": [
    "%%writefile mapper.py\n",
    "\n",
    "#!/usr/bin/env python\n",
    "\n",
    "import sys\n",
    "import re\n",
    "\n",
    "reload(sys)\n",
    "sys.setdefaultencoding('utf-8')\n",
    "\n",
    "\n",
    "def find_all_permu(word):\n",
    "    import itertools\n",
    "    return [''.join(permu_word) for permu_word in itertools.permutations( list(word) )]\n",
    "\n",
    "\n",
    "for line in sys.stdin:\n",
    "    try:\n",
    "        article_id, text = unicode(line.strip()).split('\\t', 1)\n",
    "    except ValueError as e:\n",
    "        continue\n",
    "#     text = re.sub(\"^\\W+|\\W+$\", \"\", text, flags=re.UNICODE)\n",
    "    words = re.split(\"\\W*\\s+\\W*\", text, flags=re.UNICODE)\n",
    "\n",
    "    # your code goes here\n",
    "    my_filter = set(find_all_permu('english'))\n",
    "    \n",
    "    for word in words:\n",
    "        word = word.lower()\n",
    "        if word in my_filter:\n",
    "            print \"%s\\t%d\" % (word, 1)"
   ]
  },
  {
   "cell_type": "code",
   "execution_count": 2,
   "metadata": {},
   "outputs": [
    {
     "name": "stdout",
     "output_type": "stream",
     "text": [
      "Overwriting reducer.py\n"
     ]
    }
   ],
   "source": [
    "%%writefile reducer.py\n",
    "\n",
    "import sys\n",
    "\n",
    "current_key = None\n",
    "word_sum = 0\n",
    "\n",
    "for line in sys.stdin:\n",
    "    try:\n",
    "        key, count = line.strip().split('\\t', 1)\n",
    "        count = int(count)\n",
    "    except ValueError as e:\n",
    "        continue\n",
    "    if current_key != key:\n",
    "        if current_key:\n",
    "            print \"%s\\t%d\" % (current_key, word_sum)\n",
    "        word_sum = 0\n",
    "        current_key = key\n",
    "    word_sum += count\n",
    "\n",
    "if current_key:\n",
    "    print \"%s\\t%d\" % (current_key, word_sum)"
   ]
  },
  {
   "cell_type": "code",
   "execution_count": 3,
   "metadata": {},
   "outputs": [
    {
     "name": "stdout",
     "output_type": "stream",
     "text": [
      "Overwriting myScript.py\n"
     ]
    }
   ],
   "source": [
    "%%writefile myScript.py\n",
    "\n",
    "from __future__ import print_function\n",
    "import sys\n",
    "\n",
    "\n",
    "myList = []\n",
    "cnt = 0\n",
    "\n",
    "for line in sys.stdin:\n",
    "    try:\n",
    "        key, count = line.strip().split('\\t', 1)\n",
    "        count = int(count)\n",
    "    except ValueError as e:\n",
    "        continue\n",
    "    \n",
    "    cnt += count\n",
    "    myList.append(key)\n",
    "\n",
    "print (\"%d\\t%d\" % (cnt, len(myList)), end='\\t')\n",
    "for i, x in enumerate(sorted(myList)):\n",
    "    if i == len(myList)-1:\n",
    "        print (x, end='')\n",
    "    else:\n",
    "        print (x, end=',')\n"
   ]
  },
  {
   "cell_type": "code",
   "execution_count": 4,
   "metadata": {},
   "outputs": [
    {
     "name": "stdout",
     "output_type": "stream",
     "text": [
      "7820\t5\tenglish,helsing,hesling,shengli,shingle"
     ]
    },
    {
     "name": "stderr",
     "output_type": "stream",
     "text": [
      "18/01/25 09:26:14 INFO client.RMProxy: Connecting to ResourceManager at /0.0.0.0:8032\n",
      "18/01/25 09:26:14 INFO client.RMProxy: Connecting to ResourceManager at /0.0.0.0:8032\n",
      "18/01/25 09:26:15 INFO mapred.FileInputFormat: Total input files to process : 1\n",
      "18/01/25 09:26:15 INFO mapreduce.JobSubmitter: number of splits:2\n",
      "18/01/25 09:26:15 INFO mapreduce.JobSubmitter: Submitting tokens for job: job_1516837645430_0019\n",
      "18/01/25 09:26:15 INFO impl.YarnClientImpl: Submitted application application_1516837645430_0019\n",
      "18/01/25 09:26:15 INFO mapreduce.Job: The url to track the job: http://c239dcf23262:8088/proxy/application_1516837645430_0019/\n",
      "18/01/25 09:26:15 INFO mapreduce.Job: Running job: job_1516837645430_0019\n",
      "18/01/25 09:26:21 INFO mapreduce.Job: Job job_1516837645430_0019 running in uber mode : false\n",
      "18/01/25 09:26:21 INFO mapreduce.Job:  map 0% reduce 0%\n",
      "18/01/25 09:26:33 INFO mapreduce.Job:  map 100% reduce 0%\n",
      "18/01/25 09:26:38 INFO mapreduce.Job:  map 100% reduce 13%\n",
      "18/01/25 09:26:39 INFO mapreduce.Job:  map 100% reduce 25%\n",
      "18/01/25 09:26:41 INFO mapreduce.Job:  map 100% reduce 50%\n",
      "18/01/25 09:26:42 INFO mapreduce.Job:  map 100% reduce 63%\n",
      "18/01/25 09:26:43 INFO mapreduce.Job:  map 100% reduce 75%\n",
      "18/01/25 09:26:44 INFO mapreduce.Job:  map 100% reduce 100%\n",
      "18/01/25 09:26:44 INFO mapreduce.Job: Job job_1516837645430_0019 completed successfully\n",
      "18/01/25 09:26:44 INFO mapreduce.Job: Counters: 49\n",
      "\tFile System Counters\n",
      "\t\tFILE: Number of bytes read=151\n",
      "\t\tFILE: Number of bytes written=1399906\n",
      "\t\tFILE: Number of read operations=0\n",
      "\t\tFILE: Number of large read operations=0\n",
      "\t\tFILE: Number of write operations=0\n",
      "\t\tHDFS: Number of bytes read=76874501\n",
      "\t\tHDFS: Number of bytes written=54\n",
      "\t\tHDFS: Number of read operations=30\n",
      "\t\tHDFS: Number of large read operations=0\n",
      "\t\tHDFS: Number of write operations=16\n",
      "\tJob Counters \n",
      "\t\tLaunched map tasks=2\n",
      "\t\tLaunched reduce tasks=8\n",
      "\t\tData-local map tasks=2\n",
      "\t\tTotal time spent by all maps in occupied slots (ms)=19897\n",
      "\t\tTotal time spent by all reduces in occupied slots (ms)=17812\n",
      "\t\tTotal time spent by all map tasks (ms)=19897\n",
      "\t\tTotal time spent by all reduce tasks (ms)=17812\n",
      "\t\tTotal vcore-milliseconds taken by all map tasks=19897\n",
      "\t\tTotal vcore-milliseconds taken by all reduce tasks=17812\n",
      "\t\tTotal megabyte-milliseconds taken by all map tasks=20374528\n",
      "\t\tTotal megabyte-milliseconds taken by all reduce tasks=18239488\n",
      "\tMap-Reduce Framework\n",
      "\t\tMap input records=4100\n",
      "\t\tMap output records=7820\n",
      "\t\tMap output bytes=78200\n",
      "\t\tMap output materialized bytes=199\n",
      "\t\tInput split bytes=228\n",
      "\t\tCombine input records=7820\n",
      "\t\tCombine output records=8\n",
      "\t\tReduce input groups=5\n",
      "\t\tReduce shuffle bytes=199\n",
      "\t\tReduce input records=8\n",
      "\t\tReduce output records=5\n",
      "\t\tSpilled Records=16\n",
      "\t\tShuffled Maps =16\n",
      "\t\tFailed Shuffles=0\n",
      "\t\tMerged Map outputs=16\n",
      "\t\tGC time elapsed (ms)=606\n",
      "\t\tCPU time spent (ms)=7760\n",
      "\t\tPhysical memory (bytes) snapshot=2090479616\n",
      "\t\tVirtual memory (bytes) snapshot=20134383616\n",
      "\t\tTotal committed heap usage (bytes)=1587544064\n",
      "\tShuffle Errors\n",
      "\t\tBAD_ID=0\n",
      "\t\tCONNECTION=0\n",
      "\t\tIO_ERROR=0\n",
      "\t\tWRONG_LENGTH=0\n",
      "\t\tWRONG_MAP=0\n",
      "\t\tWRONG_REDUCE=0\n",
      "\tFile Input Format Counters \n",
      "\t\tBytes Read=76874273\n",
      "\tFile Output Format Counters \n",
      "\t\tBytes Written=54\n",
      "18/01/25 09:26:44 INFO streaming.StreamJob: Output directory: wordcount_result\n"
     ]
    }
   ],
   "source": [
    "%%bash\n",
    "\n",
    "OUT_DIR=\"wordcount_result\"\n",
    "NUM_REDUCERS=8\n",
    "\n",
    "hdfs dfs -rm -r -skipTrash ${OUT_DIR} > /dev/null\n",
    "\n",
    "yarn jar /opt/cloudera/parcels/CDH/lib/hadoop-mapreduce/hadoop-streaming.jar \\\n",
    "    -D mapred.jab.name=\"Streaming wordCount\" \\\n",
    "    -D mapreduce.job.reduces=${NUM_REDUCERS} \\\n",
    "    -files mapper.py,reducer.py \\\n",
    "    -mapper \"python mapper.py\" \\\n",
    "    -combiner \"python reducer.py\" \\\n",
    "    -reducer \"python reducer.py\" \\\n",
    "    -input /data/wiki/en_articles_part \\\n",
    "    -output ${OUT_DIR} > /dev/null 2> output.log\n",
    "\n",
    "# Print result\n",
    "hadoop fs -cat ${OUT_DIR}/part-* | python2 myScript.py | head\n",
    "\n",
    "# print log to stderr for grader\n",
    "cat output.log >&2"
   ]
  },
  {
   "cell_type": "markdown",
   "metadata": {},
   "source": [
    "## Test"
   ]
  },
  {
   "cell_type": "code",
   "execution_count": 5,
   "metadata": {},
   "outputs": [
    {
     "name": "stdout",
     "output_type": "stream",
     "text": [
      "Overwriting debug_data.txt\n"
     ]
    }
   ],
   "source": [
    "%%writefile debug_data.txt\n",
    "1\tengilhs engilhs engilhs \n",
    "2\tenglish english english english english english\n",
    "3\tenhilgs enhilgs enhilgs enhilgs enhilgs enhilgs enhilgs"
   ]
  },
  {
   "cell_type": "code",
   "execution_count": 6,
   "metadata": {},
   "outputs": [
    {
     "name": "stdout",
     "output_type": "stream",
     "text": [
      "engilhs\t1\r\n",
      "engilhs\t1\r\n",
      "engilhs\t1\r\n",
      "english\t1\r\n",
      "english\t1\r\n",
      "english\t1\r\n",
      "english\t1\r\n",
      "english\t1\r\n",
      "english\t1\r\n",
      "enhilgs\t1\r\n",
      "enhilgs\t1\r\n",
      "enhilgs\t1\r\n",
      "enhilgs\t1\r\n",
      "enhilgs\t1\r\n",
      "enhilgs\t1\r\n",
      "enhilgs\t1\r\n"
     ]
    }
   ],
   "source": [
    "cat debug_data.txt | python2 mapper.py "
   ]
  },
  {
   "cell_type": "code",
   "execution_count": 7,
   "metadata": {},
   "outputs": [
    {
     "name": "stdout",
     "output_type": "stream",
     "text": [
      "engilhs\t3\r\n",
      "english\t6\r\n",
      "enhilgs\t7\r\n"
     ]
    }
   ],
   "source": [
    "cat debug_data.txt | python2 mapper.py | sort | python2 reducer.py"
   ]
  },
  {
   "cell_type": "code",
   "execution_count": 8,
   "metadata": {},
   "outputs": [
    {
     "name": "stdout",
     "output_type": "stream",
     "text": [
      "16\t3\tengilhs,english,enhilgs"
     ]
    }
   ],
   "source": [
    "cat debug_data.txt | python2 mapper.py | sort | python2 reducer.py | python2 myScript.py"
   ]
  }
 ],
 "metadata": {
  "kernelspec": {
   "display_name": "Python 2",
   "language": "python",
   "name": "python2"
  },
  "language_info": {
   "codemirror_mode": {
    "name": "ipython",
    "version": 2
   },
   "file_extension": ".py",
   "mimetype": "text/x-python",
   "name": "python",
   "nbconvert_exporter": "python",
   "pygments_lexer": "ipython2",
   "version": "2.7.12"
  }
 },
 "nbformat": 4,
 "nbformat_minor": 2
}
