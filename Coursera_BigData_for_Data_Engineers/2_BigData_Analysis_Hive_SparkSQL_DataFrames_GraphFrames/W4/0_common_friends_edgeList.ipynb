{
 "cells": [
  {
   "cell_type": "code",
   "execution_count": 1,
   "metadata": {},
   "outputs": [
    {
     "name": "stdout",
     "output_type": "stream",
     "text": [
      "Welcome to\n",
      "      ____              __\n",
      "     / __/__  ___ _____/ /__\n",
      "    _\\ \\/ _ \\/ _ `/ __/  '_/\n",
      "   /__ / .__/\\_,_/_/ /_/\\_\\   version 2.1.1\n",
      "      /_/\n",
      "\n",
      "Using Python version 2.7.12 (default, Nov 19 2016 06:48:10)\n",
      "SparkSession available as 'spark'.\n"
     ]
    }
   ],
   "source": [
    "import os\n",
    "execfile(os.path.join(os.environ[\"SPARK_HOME\"], 'python/pyspark/shell.py'))"
   ]
  },
  {
   "cell_type": "code",
   "execution_count": 2,
   "metadata": {},
   "outputs": [],
   "source": [
    "from pyspark.sql import SparkSession\n",
    "sparkSession = SparkSession.builder.enableHiveSupport().master(\"local [2]\").getOrCreate()"
   ]
  },
  {
   "cell_type": "markdown",
   "metadata": {},
   "source": [
    "![](./img/common_friends.jpg \"\")"
   ]
  },
  {
   "cell_type": "markdown",
   "metadata": {},
   "source": [
    "## Common Friend EdgeList"
   ]
  },
  {
   "cell_type": "code",
   "execution_count": 3,
   "metadata": {},
   "outputs": [],
   "source": [
    "from pyspark.sql.types import StructType, StructField, IntegerType, StringType\n",
    "from pyspark.sql import Row"
   ]
  },
  {
   "cell_type": "code",
   "execution_count": 4,
   "metadata": {},
   "outputs": [],
   "source": [
    "edgeList = [(1,2), (1,3), (1,4), (2,3), (2,5), (3,4), (3,5), (3,6), (3,7)]\n",
    "\n",
    "def duplicate_edgeList(edgeList):\n",
    "    sym_edgeList = []\n",
    "    for e in edgeList:\n",
    "        sym_edgeList.append((e[1], e[0]))\n",
    "    return edgeList + sym_edgeList\n",
    "    \n",
    "graphData = sparkSession.sparkContext \\\n",
    "    .parallelize(duplicate_edgeList(edgeList)) \\\n",
    "    .map(lambda(src, dst): Row(src, dst))"
   ]
  },
  {
   "cell_type": "markdown",
   "metadata": {},
   "source": [
    "![](./img/1.jpg \"\")"
   ]
  },
  {
   "cell_type": "code",
   "execution_count": 5,
   "metadata": {},
   "outputs": [
    {
     "name": "stdout",
     "output_type": "stream",
     "text": [
      "+---+---+\n",
      "|  A|  B|\n",
      "+---+---+\n",
      "|  1|  2|\n",
      "|  1|  3|\n",
      "|  1|  4|\n",
      "|  2|  3|\n",
      "|  2|  5|\n",
      "|  3|  4|\n",
      "|  3|  5|\n",
      "|  3|  6|\n",
      "|  3|  7|\n",
      "|  2|  1|\n",
      "|  3|  1|\n",
      "|  4|  1|\n",
      "|  3|  2|\n",
      "|  5|  2|\n",
      "|  4|  3|\n",
      "|  5|  3|\n",
      "|  6|  3|\n",
      "|  7|  3|\n",
      "+---+---+\n",
      "\n"
     ]
    }
   ],
   "source": [
    "graphSchemaAB = StructType([\n",
    "    StructField('A', IntegerType(), nullable=False),\n",
    "    StructField('B', StringType(), nullable=False)\n",
    "])\n",
    "\n",
    "ab = sparkSession.createDataFrame(graphData, graphSchemaAB)\n",
    "ab.show()"
   ]
  },
  {
   "cell_type": "code",
   "execution_count": 6,
   "metadata": {},
   "outputs": [
    {
     "name": "stdout",
     "output_type": "stream",
     "text": [
      "+---+---+\n",
      "|  B|  C|\n",
      "+---+---+\n",
      "|  1|  2|\n",
      "|  1|  3|\n",
      "|  1|  4|\n",
      "|  2|  3|\n",
      "|  2|  5|\n",
      "|  3|  4|\n",
      "|  3|  5|\n",
      "|  3|  6|\n",
      "|  3|  7|\n",
      "|  2|  1|\n",
      "|  3|  1|\n",
      "|  4|  1|\n",
      "|  3|  2|\n",
      "|  5|  2|\n",
      "|  4|  3|\n",
      "|  5|  3|\n",
      "|  6|  3|\n",
      "|  7|  3|\n",
      "+---+---+\n",
      "\n"
     ]
    }
   ],
   "source": [
    "graphSchemaBC = StructType([\n",
    "    StructField('B', IntegerType(), nullable=False),\n",
    "    StructField('C', StringType(), nullable=False)\n",
    "])\n",
    "\n",
    "bc = sparkSession.createDataFrame(graphData, graphSchemaBC)\n",
    "bc.show()"
   ]
  },
  {
   "cell_type": "code",
   "execution_count": 7,
   "metadata": {},
   "outputs": [
    {
     "name": "stdout",
     "output_type": "stream",
     "text": [
      "+---+---+---+---+\n",
      "|  A|  B|  B|  C|\n",
      "+---+---+---+---+\n",
      "|  3|  7|  7|  3|\n",
      "|  2|  1|  1|  2|\n",
      "|  2|  1|  1|  3|\n",
      "|  2|  1|  1|  4|\n",
      "|  3|  1|  1|  2|\n",
      "|  3|  1|  1|  3|\n",
      "|  3|  1|  1|  4|\n",
      "|  4|  1|  1|  2|\n",
      "|  4|  1|  1|  3|\n",
      "|  4|  1|  1|  4|\n",
      "|  1|  4|  4|  1|\n",
      "|  1|  4|  4|  3|\n",
      "|  3|  4|  4|  1|\n",
      "|  3|  4|  4|  3|\n",
      "|  1|  3|  3|  4|\n",
      "|  1|  3|  3|  5|\n",
      "|  1|  3|  3|  6|\n",
      "|  1|  3|  3|  7|\n",
      "|  1|  3|  3|  1|\n",
      "|  1|  3|  3|  2|\n",
      "+---+---+---+---+\n",
      "only showing top 20 rows\n",
      "\n"
     ]
    }
   ],
   "source": [
    "df = ab.join(bc, ab.B == bc.B)\n",
    "df.show()"
   ]
  },
  {
   "cell_type": "markdown",
   "metadata": {},
   "source": [
    "![](./img/4.jpg \"\")"
   ]
  },
  {
   "cell_type": "code",
   "execution_count": 8,
   "metadata": {},
   "outputs": [
    {
     "name": "stdout",
     "output_type": "stream",
     "text": [
      "+---+---+-----+\n",
      "|  A|  C|count|\n",
      "+---+---+-----+\n",
      "|  1|  6|    1|\n",
      "|  1|  7|    1|\n",
      "|  1|  3|    2|\n",
      "|  1|  4|    1|\n",
      "|  1|  5|    2|\n",
      "|  1|  2|    1|\n",
      "+---+---+-----+\n",
      "\n"
     ]
    }
   ],
   "source": [
    "df = df \\\n",
    "    .drop('B') \\\n",
    "    .groupBy('A', 'C') \\\n",
    "    .count() \\\n",
    "    .filter('A = 1 AND A != C')\n",
    "df.show()"
   ]
  }
 ],
 "metadata": {
  "kernelspec": {
   "display_name": "Python 2",
   "language": "python",
   "name": "python2"
  },
  "language_info": {
   "codemirror_mode": {
    "name": "ipython",
    "version": 2
   },
   "file_extension": ".py",
   "mimetype": "text/x-python",
   "name": "python",
   "nbconvert_exporter": "python",
   "pygments_lexer": "ipython2",
   "version": "2.7.14"
  }
 },
 "nbformat": 4,
 "nbformat_minor": 2
}
