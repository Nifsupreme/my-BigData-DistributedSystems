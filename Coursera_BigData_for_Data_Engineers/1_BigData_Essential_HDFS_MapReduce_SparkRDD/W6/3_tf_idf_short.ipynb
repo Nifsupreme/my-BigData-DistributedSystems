{
 "cells": [
  {
   "cell_type": "markdown",
   "metadata": {},
   "source": [
    "- Dataset location: /data/wiki/en_articles_part\n",
    "- Stop words list is in ‘/datasets/stop_words_en.txt’ file.\n",
    "- Format: article_id <\\t> article_text"
   ]
  },
  {
   "cell_type": "markdown",
   "metadata": {},
   "source": [
    "Calculate tf*idf for each pair (word, article) from the Wikipedia dump. Apply the stop words filter to speed up calculations.\n",
    "\n",
    "Term frequency (tf) is a function depending on a term (word) and a document (article):\n",
    "```\n",
    "tf(term, doc_id) = Nt/N,\n",
    "```\n",
    "    - Nt: quantity of particular term in the document\n",
    "    - N: the total number of terms in the document (without stop words)\n",
    "\n",
    "\n",
    "Inverse document frequency (idf) is a function depends on a term:\n",
    "```\n",
    "idf(term) = 1/log(1 + Dt),\n",
    "```\n",
    "    - Dt: number of documents in the dataset with the particular term.\n",
    "\n",
    "\n",
    "You can find more information here: https://en.wikipedia.xn--org/wiki/Tfidf-q82h but use just the formulas mentioned above.\n",
    "\n",
    "Output: tf*idf for term=’labor’ and article_id=12"
   ]
  },
  {
   "cell_type": "markdown",
   "metadata": {},
   "source": [
    "## tf"
   ]
  },
  {
   "cell_type": "code",
   "execution_count": 1,
   "metadata": {},
   "outputs": [
    {
     "name": "stdout",
     "output_type": "stream",
     "text": [
      "Overwriting mapper_tf.py\n"
     ]
    }
   ],
   "source": [
    "%%writefile mapper_tf.py\n",
    "\n",
    "import sys\n",
    "import re\n",
    "\n",
    "reload(sys)\n",
    "sys.setdefaultencoding('utf-8') # required to convert to unicode\n",
    "\n",
    "distributed_cache_file = 'stop_words_en.txt'\n",
    "def read_stop_words(file_path):\n",
    "    return set(word.strip().lower() for word in open(file_path))\n",
    "stop_words = read_stop_words(distributed_cache_file)\n",
    "\n",
    "my_article_id = 12\n",
    "my_word = 'labor'\n",
    "\n",
    "for line in sys.stdin:\n",
    "    try:\n",
    "        article_id, text = unicode(line.strip()).split('\\t', 1)\n",
    "    except ValueError as e:\n",
    "        continue\n",
    "\n",
    "    article_id = int(article_id)\n",
    "    text = re.sub(\"^\\W+|\\W+$\", \"\", text, flags=re.UNICODE)\n",
    "    words = re.split(\"\\W*\\s+\\W*\", text, flags=re.UNICODE)\n",
    "\n",
    "    for word in words:\n",
    "        word = word.lower()\n",
    "        if word not in stop_words and article_id == my_article_id:\n",
    "            print >> sys.stderr, \"reporter:counter:myGroup,Total_terms,%d\" % 1\n",
    "            if word == my_word:\n",
    "                print >> sys.stderr, \"reporter:counter:myGroup,my_terms,%d\" % 1"
   ]
  },
  {
   "cell_type": "code",
   "execution_count": 2,
   "metadata": {},
   "outputs": [
    {
     "name": "stderr",
     "output_type": "stream",
     "text": [
      "rm: `tf_result_1517408858326892': No such file or directory\n",
      "18/01/31 14:27:41 INFO client.RMProxy: Connecting to ResourceManager at /0.0.0.0:8032\n",
      "18/01/31 14:27:42 INFO client.RMProxy: Connecting to ResourceManager at /0.0.0.0:8032\n",
      "18/01/31 14:27:42 INFO mapred.FileInputFormat: Total input files to process : 1\n",
      "18/01/31 14:27:43 INFO mapreduce.JobSubmitter: number of splits:2\n",
      "18/01/31 14:27:43 INFO mapreduce.JobSubmitter: Submitting tokens for job: job_1517343926006_0020\n",
      "18/01/31 14:27:44 INFO impl.YarnClientImpl: Submitted application application_1517343926006_0020\n",
      "18/01/31 14:27:44 INFO mapreduce.Job: The url to track the job: http://6d81c848a206:8088/proxy/application_1517343926006_0020/\n",
      "18/01/31 14:27:44 INFO mapreduce.Job: Running job: job_1517343926006_0020\n",
      "18/01/31 14:27:50 INFO mapreduce.Job: Job job_1517343926006_0020 running in uber mode : false\n",
      "18/01/31 14:27:50 INFO mapreduce.Job:  map 0% reduce 0%\n",
      "18/01/31 14:28:03 INFO mapreduce.Job:  map 100% reduce 0%\n",
      "18/01/31 14:28:04 INFO mapreduce.Job: Job job_1517343926006_0020 completed successfully\n",
      "18/01/31 14:28:04 INFO mapreduce.Job: Counters: 32\n",
      "\tFile System Counters\n",
      "\t\tFILE: Number of bytes read=0\n",
      "\t\tFILE: Number of bytes written=278668\n",
      "\t\tFILE: Number of read operations=0\n",
      "\t\tFILE: Number of large read operations=0\n",
      "\t\tFILE: Number of write operations=0\n",
      "\t\tHDFS: Number of bytes read=76874501\n",
      "\t\tHDFS: Number of bytes written=0\n",
      "\t\tHDFS: Number of read operations=10\n",
      "\t\tHDFS: Number of large read operations=0\n",
      "\t\tHDFS: Number of write operations=4\n",
      "\tJob Counters \n",
      "\t\tLaunched map tasks=2\n",
      "\t\tData-local map tasks=2\n",
      "\t\tTotal time spent by all maps in occupied slots (ms)=22428\n",
      "\t\tTotal time spent by all reduces in occupied slots (ms)=0\n",
      "\t\tTotal time spent by all map tasks (ms)=22428\n",
      "\t\tTotal vcore-milliseconds taken by all map tasks=22428\n",
      "\t\tTotal megabyte-milliseconds taken by all map tasks=22966272\n",
      "\tMap-Reduce Framework\n",
      "\t\tMap input records=4100\n",
      "\t\tMap output records=0\n",
      "\t\tInput split bytes=228\n",
      "\t\tSpilled Records=0\n",
      "\t\tFailed Shuffles=0\n",
      "\t\tMerged Map outputs=0\n",
      "\t\tGC time elapsed (ms)=126\n",
      "\t\tCPU time spent (ms)=2400\n",
      "\t\tPhysical memory (bytes) snapshot=370733056\n",
      "\t\tVirtual memory (bytes) snapshot=4017905664\n",
      "\t\tTotal committed heap usage (bytes)=306184192\n",
      "\tmyGroup\n",
      "\t\tTotal_terms=6096\n",
      "\t\tmy_terms=12\n",
      "\tFile Input Format Counters \n",
      "\t\tBytes Read=76874273\n",
      "\tFile Output Format Counters \n",
      "\t\tBytes Written=0\n",
      "18/01/31 14:28:04 INFO streaming.StreamJob: Output directory: tf_result_1517408858326892\n"
     ]
    }
   ],
   "source": [
    "%%bash\n",
    "\n",
    "OUT_DIR_TF=\"tf_result_\"$(date +\"%s%6N\")\n",
    "NUM_REDUCERS_TF=0\n",
    "\n",
    "hdfs dfs -rm -r -skipTrash ${OUT_DIR_TF} > /dev/null\n",
    "\n",
    "yarn jar /opt/cloudera/parcels/CDH/lib/hadoop-mapreduce/hadoop-streaming.jar \\\n",
    "    -D mapred.jab.name=\"Streaming tf\" \\\n",
    "    -D mapreduce.job.reduces=${NUM_REDUCERS_TF} \\\n",
    "    -files mapper_tf.py,/datasets/stop_words_en.txt \\\n",
    "    -mapper \"python mapper_tf.py\" \\\n",
    "    -numReduceTasks 0 \\\n",
    "    -input /data/wiki/en_articles_part \\\n",
    "    -output ${OUT_DIR_TF} > /dev/null 2> output_tf.log\n",
    "\n",
    "# print the answer\n",
    "cat output_tf.log | egrep \"*_terms\" | grep -Eo [0-9]+ > results.txt\n",
    "\n",
    "# print log to stderr for grader\n",
    "cat output_tf.log >&2"
   ]
  },
  {
   "cell_type": "markdown",
   "metadata": {},
   "source": [
    "## idf"
   ]
  },
  {
   "cell_type": "code",
   "execution_count": 3,
   "metadata": {},
   "outputs": [
    {
     "name": "stdout",
     "output_type": "stream",
     "text": [
      "Overwriting mapper_idf.py\n"
     ]
    }
   ],
   "source": [
    "%%writefile mapper_idf.py\n",
    "\n",
    "import sys\n",
    "import re\n",
    "\n",
    "reload(sys)\n",
    "sys.setdefaultencoding('utf-8') # required to convert to unicode\n",
    "\n",
    "my_word = 'labor'\n",
    "\n",
    "for line in sys.stdin:\n",
    "    try:\n",
    "        article_id, text = unicode(line.strip()).split('\\t', 1)\n",
    "    except ValueError as e:\n",
    "        continue\n",
    "\n",
    "    article_id = int(article_id)\n",
    "    text = re.sub(\"^\\W+|\\W+$\", \"\", text, flags=re.UNICODE)\n",
    "    words = re.split(\"\\W*\\s+\\W*\", text, flags=re.UNICODE)\n",
    "\n",
    "    for word in words:\n",
    "        word = word.lower()\n",
    "        if word == my_word:\n",
    "            print \"%s\\t%d\" % (str(article_id), 1)"
   ]
  },
  {
   "cell_type": "code",
   "execution_count": 4,
   "metadata": {},
   "outputs": [
    {
     "name": "stdout",
     "output_type": "stream",
     "text": [
      "Overwriting reducer_idf.py\n"
     ]
    }
   ],
   "source": [
    "%%writefile reducer_idf.py\n",
    "\n",
    "import sys\n",
    "\n",
    "current_key = None\n",
    "word_sum = 0\n",
    "\n",
    "for line in sys.stdin:\n",
    "    try:\n",
    "        key, count = line.strip().split('\\t', 1)\n",
    "        count = int(count)\n",
    "    except ValueError as e:\n",
    "        continue\n",
    "\n",
    "    if current_key != key:\n",
    "        if current_key:\n",
    "            print \"%s\\t%d\" % (current_key, word_sum)\n",
    "        word_sum = 0\n",
    "        current_key = key\n",
    "    word_sum += count\n",
    "\n",
    "if current_key:\n",
    "    print \"%s\\t%d\" % (current_key, word_sum)"
   ]
  },
  {
   "cell_type": "code",
   "execution_count": 5,
   "metadata": {},
   "outputs": [
    {
     "name": "stderr",
     "output_type": "stream",
     "text": [
      "rm: `idf_result_1517408884771691': No such file or directory\n",
      "18/01/31 14:28:08 INFO client.RMProxy: Connecting to ResourceManager at /0.0.0.0:8032\n",
      "18/01/31 14:28:08 INFO client.RMProxy: Connecting to ResourceManager at /0.0.0.0:8032\n",
      "18/01/31 14:28:09 INFO mapred.FileInputFormat: Total input files to process : 1\n",
      "18/01/31 14:28:09 INFO mapreduce.JobSubmitter: number of splits:2\n",
      "18/01/31 14:28:10 INFO mapreduce.JobSubmitter: Submitting tokens for job: job_1517343926006_0021\n",
      "18/01/31 14:28:10 INFO impl.YarnClientImpl: Submitted application application_1517343926006_0021\n",
      "18/01/31 14:28:10 INFO mapreduce.Job: The url to track the job: http://6d81c848a206:8088/proxy/application_1517343926006_0021/\n",
      "18/01/31 14:28:10 INFO mapreduce.Job: Running job: job_1517343926006_0021\n",
      "18/01/31 14:28:16 INFO mapreduce.Job: Job job_1517343926006_0021 running in uber mode : false\n",
      "18/01/31 14:28:16 INFO mapreduce.Job:  map 0% reduce 0%\n",
      "18/01/31 14:28:29 INFO mapreduce.Job:  map 100% reduce 0%\n",
      "18/01/31 14:28:35 INFO mapreduce.Job:  map 100% reduce 25%\n",
      "18/01/31 14:28:36 INFO mapreduce.Job:  map 100% reduce 38%\n",
      "18/01/31 14:28:37 INFO mapreduce.Job:  map 100% reduce 50%\n",
      "18/01/31 14:28:38 INFO mapreduce.Job:  map 100% reduce 63%\n",
      "18/01/31 14:28:39 INFO mapreduce.Job:  map 100% reduce 75%\n",
      "18/01/31 14:28:41 INFO mapreduce.Job:  map 100% reduce 100%\n",
      "18/01/31 14:28:42 INFO mapreduce.Job: Job job_1517343926006_0021 completed successfully\n",
      "18/01/31 14:28:42 INFO mapreduce.Job: Counters: 50\n",
      "\tFile System Counters\n",
      "\t\tFILE: Number of bytes read=2504\n",
      "\t\tFILE: Number of bytes written=1405092\n",
      "\t\tFILE: Number of read operations=0\n",
      "\t\tFILE: Number of large read operations=0\n",
      "\t\tFILE: Number of write operations=0\n",
      "\t\tHDFS: Number of bytes read=76874501\n",
      "\t\tHDFS: Number of bytes written=1908\n",
      "\t\tHDFS: Number of read operations=30\n",
      "\t\tHDFS: Number of large read operations=0\n",
      "\t\tHDFS: Number of write operations=16\n",
      "\tJob Counters \n",
      "\t\tKilled reduce tasks=1\n",
      "\t\tLaunched map tasks=2\n",
      "\t\tLaunched reduce tasks=8\n",
      "\t\tData-local map tasks=2\n",
      "\t\tTotal time spent by all maps in occupied slots (ms)=21974\n",
      "\t\tTotal time spent by all reduces in occupied slots (ms)=22509\n",
      "\t\tTotal time spent by all map tasks (ms)=21974\n",
      "\t\tTotal time spent by all reduce tasks (ms)=22509\n",
      "\t\tTotal vcore-milliseconds taken by all map tasks=21974\n",
      "\t\tTotal vcore-milliseconds taken by all reduce tasks=22509\n",
      "\t\tTotal megabyte-milliseconds taken by all map tasks=22501376\n",
      "\t\tTotal megabyte-milliseconds taken by all reduce tasks=23049216\n",
      "\tMap-Reduce Framework\n",
      "\t\tMap input records=4100\n",
      "\t\tMap output records=833\n",
      "\t\tMap output bytes=5762\n",
      "\t\tMap output materialized bytes=2552\n",
      "\t\tInput split bytes=228\n",
      "\t\tCombine input records=833\n",
      "\t\tCombine output records=274\n",
      "\t\tReduce input groups=274\n",
      "\t\tReduce shuffle bytes=2552\n",
      "\t\tReduce input records=274\n",
      "\t\tReduce output records=274\n",
      "\t\tSpilled Records=548\n",
      "\t\tShuffled Maps =16\n",
      "\t\tFailed Shuffles=0\n",
      "\t\tMerged Map outputs=16\n",
      "\t\tGC time elapsed (ms)=786\n",
      "\t\tCPU time spent (ms)=10490\n",
      "\t\tPhysical memory (bytes) snapshot=2102947840\n",
      "\t\tVirtual memory (bytes) snapshot=20148350976\n",
      "\t\tTotal committed heap usage (bytes)=1602224128\n",
      "\tShuffle Errors\n",
      "\t\tBAD_ID=0\n",
      "\t\tCONNECTION=0\n",
      "\t\tIO_ERROR=0\n",
      "\t\tWRONG_LENGTH=0\n",
      "\t\tWRONG_MAP=0\n",
      "\t\tWRONG_REDUCE=0\n",
      "\tFile Input Format Counters \n",
      "\t\tBytes Read=76874273\n",
      "\tFile Output Format Counters \n",
      "\t\tBytes Written=1908\n",
      "18/01/31 14:28:42 INFO streaming.StreamJob: Output directory: idf_result_1517408884771691\n"
     ]
    }
   ],
   "source": [
    "%%bash\n",
    "\n",
    "OUT_DIR_IDF=\"idf_result_\"$(date +\"%s%6N\")\n",
    "NUM_REDUCERS_IDF=8\n",
    "\n",
    "hdfs dfs -rm -r -skipTrash ${OUT_DIR_IDF} > /dev/null\n",
    "\n",
    "yarn jar /opt/cloudera/parcels/CDH/lib/hadoop-mapreduce/hadoop-streaming.jar \\\n",
    "    -D mapred.jab.name=\"Streaming idf\" \\\n",
    "    -D mapreduce.job.reduces=${NUM_REDUCERS_IDF} \\\n",
    "    -files mapper_idf.py,reducer_idf.py \\\n",
    "    -mapper \"python mapper_idf.py\" \\\n",
    "    -combiner \"python reducer_idf.py\" \\\n",
    "    -reducer \"python reducer_idf.py\" \\\n",
    "    -input /data/wiki/en_articles_part \\\n",
    "    -output ${OUT_DIR_IDF} > /dev/null 2> output_idf.log\n",
    "\n",
    "hdfs dfs -cat ${OUT_DIR_IDF}/part-* | wc -l >> results.txt\n",
    "\n",
    "# print log to stderr for grader\n",
    "cat output_idf.log >&2"
   ]
  },
  {
   "cell_type": "markdown",
   "metadata": {},
   "source": [
    "## Script"
   ]
  },
  {
   "cell_type": "code",
   "execution_count": 6,
   "metadata": {},
   "outputs": [
    {
     "name": "stdout",
     "output_type": "stream",
     "text": [
      "Overwriting myScript.py\n"
     ]
    }
   ],
   "source": [
    "%%writefile myScript.py\n",
    "\n",
    "import sys\n",
    "reload(sys)\n",
    "\n",
    "import math\n",
    "\n",
    "nums = []\n",
    "for line in sys.stdin:\n",
    "    try:\n",
    "        num = line.strip()\n",
    "        num = float(num)\n",
    "    except ValueError as e:\n",
    "        continue\n",
    "\n",
    "    nums.append(num)\n",
    "    \n",
    "# Calc\n",
    "Nt = nums[1]\n",
    "N = nums[0]\n",
    "Dt = nums[2]\n",
    "\n",
    "tf = Nt/N\n",
    "idf = 1/math.log(1+Dt)\n",
    "print tf*idf"
   ]
  },
  {
   "cell_type": "code",
   "execution_count": 7,
   "metadata": {},
   "outputs": [
    {
     "name": "stdout",
     "output_type": "stream",
     "text": [
      "0.00035046896211\r\n"
     ]
    }
   ],
   "source": [
    "! cat results.txt | python2 myScript.py"
   ]
  },
  {
   "cell_type": "markdown",
   "metadata": {},
   "source": [
    "## Test"
   ]
  },
  {
   "cell_type": "code",
   "execution_count": 8,
   "metadata": {},
   "outputs": [
    {
     "name": "stdout",
     "output_type": "stream",
     "text": [
      "Overwriting stop_words_en.txt\n"
     ]
    }
   ],
   "source": [
    "%%writefile stop_words_en.txt\n",
    "tam minh"
   ]
  },
  {
   "cell_type": "code",
   "execution_count": 9,
   "metadata": {},
   "outputs": [
    {
     "name": "stdout",
     "output_type": "stream",
     "text": [
      "Overwriting test.txt\n"
     ]
    }
   ],
   "source": [
    "%%writefile test.txt\n",
    "1\ttruong minh xuan thao labor\n",
    "12\ttruong minh xuan thao phuong phuong tran labor thi labor phuong tam minh labor\n",
    "13\tthanh vy tam minh"
   ]
  },
  {
   "cell_type": "code",
   "execution_count": 10,
   "metadata": {},
   "outputs": [
    {
     "name": "stdout",
     "output_type": "stream",
     "text": [
      "reporter:counter:myGroup,Total_terms,1\r\n",
      "reporter:counter:myGroup,Total_terms,1\r\n",
      "reporter:counter:myGroup,Total_terms,1\r\n",
      "reporter:counter:myGroup,Total_terms,1\r\n",
      "reporter:counter:myGroup,Total_terms,1\r\n",
      "reporter:counter:myGroup,Total_terms,1\r\n",
      "reporter:counter:myGroup,Total_terms,1\r\n",
      "reporter:counter:myGroup,Total_terms,1\r\n",
      "reporter:counter:myGroup,my_terms,1\r\n",
      "reporter:counter:myGroup,Total_terms,1\r\n",
      "reporter:counter:myGroup,Total_terms,1\r\n",
      "reporter:counter:myGroup,my_terms,1\r\n",
      "reporter:counter:myGroup,Total_terms,1\r\n",
      "reporter:counter:myGroup,Total_terms,1\r\n",
      "reporter:counter:myGroup,Total_terms,1\r\n",
      "reporter:counter:myGroup,Total_terms,1\r\n",
      "reporter:counter:myGroup,my_terms,1\r\n"
     ]
    }
   ],
   "source": [
    "cat test.txt | python2 mapper_tf.py | sort | python2 reducer_tf.py"
   ]
  },
  {
   "cell_type": "code",
   "execution_count": 11,
   "metadata": {},
   "outputs": [
    {
     "name": "stdout",
     "output_type": "stream",
     "text": [
      "1\t1\r\n",
      "12\t3\r\n"
     ]
    }
   ],
   "source": [
    "cat test.txt | python2 mapper_idf.py | sort | python2 reducer_idf.py"
   ]
  }
 ],
 "metadata": {
  "kernelspec": {
   "display_name": "Python 2",
   "language": "python",
   "name": "python2"
  },
  "language_info": {
   "codemirror_mode": {
    "name": "ipython",
    "version": 2
   },
   "file_extension": ".py",
   "mimetype": "text/x-python",
   "name": "python",
   "nbconvert_exporter": "python",
   "pygments_lexer": "ipython2",
   "version": "2.7.12"
  }
 },
 "nbformat": 4,
 "nbformat_minor": 2
}
