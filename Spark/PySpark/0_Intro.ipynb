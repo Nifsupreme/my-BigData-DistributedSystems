{
 "cells": [
  {
   "cell_type": "markdown",
   "metadata": {},
   "source": [
    "# Hadoop\n",
    "- HDFS: Distributed Storage\n",
    "- MapReduce: Distributed Computation"
   ]
  },
  {
   "cell_type": "markdown",
   "metadata": {},
   "source": [
    "# Spark\n",
    "- Storage:\n",
    "    + Cassandra\n",
    "    + AWS S3\n",
    "    + HDFS\n",
    "    + ...\n",
    "\n",
    "- Computaion: 100x faster than MapReduce\n",
    "    + MR: write data -> disk after each operation\n",
    "    + Spark: write data -> RDDs, RDD -> RDD by transformation\n",
    "\n",
    "- Cluster\n",
    "    + Spark runs on a cluster on a service (AWS, Google Cloud)\n",
    "    + cluster runs Linux system\n",
    "## RDD (Resilient Distributed Dataset)\n",
    "- 4 main features:\n",
    "    + Distributed Collection of Data\n",
    "    + Fault-tolerant\n",
    "    + Parallel operation - partitioned\n",
    "    + Can be loaded from many data sources: Cassandra, HDFS, S3...\n",
    "- Properties:\n",
    "    + Immutable\n",
    "    + lazily evaluated\n",
    "    + cacheable\n",
    "- Operations\n",
    "    + Transformation\n",
    "    + Actions"
   ]
  },
  {
   "cell_type": "markdown",
   "metadata": {},
   "source": [
    "# Setup Spark\n",
    "\n",
    "- Packages\n",
    "\n",
    "    `sudo apt-get install default-jre scala`\n",
    "    \n",
    "    `pip3 install py4j findspark --user` \n",
    "    \n",
    "    or `pip3.5 install py4j findspark --user` \n",
    "    \n",
    "- Install spark [Download Spark](https://spark.apache.org/downloads.html)\n",
    "    + Extract to home\n",
    "        \n",
    "        `sudo tar -zxvf spark-2.3.1-bin-hadoop2.7.tgz -C ~`\n",
    "    + Export env var\n",
    "    \n",
    "        `export SPARK_HOME='~/spark-2.3.1-bin-hadoop2.7'`\n",
    "    \n",
    "        `export PATH=$SPARK_HOME:$PATH`\n",
    "        \n",
    "        `export PYTHONPATH=$SPARK_HOME/python:$PYTHONPATH`\n",
    "        \n",
    "        `export PYSPARK_DRIVER_PYTHON=\"jupyter\"`\n",
    "        \n",
    "        `export PYSPARK_DRIVER_PYTHON_OPTS=\"notebook\"`\n",
    "        \n",
    "        `export PYSPARK_PYTHON_OPTS=python3`\n",
    "    + Permission\n",
    "        \n",
    "        `sudo chmod 777 ~/spark-2.3.1-bin-hadoop2.7`\n",
    "        \n",
    "        `sudo chmod 777 ~/spark-2.3.1-bin-hadoop2.7/python`\n",
    "        \n",
    "        `sudo chmod 777 ~/spark-2.3.1-bin-hadoop2.7/python/pyspark`\n",
    "\n",
    "- Import pyspark\n",
    "\n",
    "```\n",
    "import findspark\n",
    "findspark.init('/home/dangkhoa/spark-2.3.1-bin-hadoop2.7')\n",
    "\n",
    "import pyspark\n",
    "```"
   ]
  }
 ],
 "metadata": {
  "kernelspec": {
   "display_name": "Python 3.5",
   "language": "python",
   "name": "py35"
  },
  "language_info": {
   "codemirror_mode": {
    "name": "ipython",
    "version": 3
   },
   "file_extension": ".py",
   "mimetype": "text/x-python",
   "name": "python",
   "nbconvert_exporter": "python",
   "pygments_lexer": "ipython3",
   "version": "3.5.5"
  }
 },
 "nbformat": 4,
 "nbformat_minor": 2
}
