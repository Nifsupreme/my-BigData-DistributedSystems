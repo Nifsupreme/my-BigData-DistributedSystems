{
 "cells": [
  {
   "cell_type": "markdown",
   "metadata": {},
   "source": [
    "# Counting number of the mutual friends\n",
    "- For each user having ID in the column userId count the amount of his / her common friends with each other user having ID in the column userId.\n",
    "\n",
    "- Print 49 pairs of the users having the largest amount of common friends, ordered in descending order first by the common friends count , then by id of user1 and finally by id of user 2. The format is following: \"count user1 user2\"7"
   ]
  },
  {
   "cell_type": "code",
   "execution_count": 1,
   "metadata": {},
   "outputs": [
    {
     "name": "stdout",
     "output_type": "stream",
     "text": [
      "Welcome to\n",
      "      ____              __\n",
      "     / __/__  ___ _____/ /__\n",
      "    _\\ \\/ _ \\/ _ `/ __/  '_/\n",
      "   /__ / .__/\\_,_/_/ /_/\\_\\   version 2.1.1\n",
      "      /_/\n",
      "\n",
      "Using Python version 2.7.12 (default, Nov 19 2016 06:48:10)\n",
      "SparkSession available as 'spark'.\n"
     ]
    }
   ],
   "source": [
    "import os\n",
    "execfile(os.path.join(os.environ[\"SPARK_HOME\"], 'python/pyspark/shell.py'))"
   ]
  },
  {
   "cell_type": "code",
   "execution_count": 2,
   "metadata": {},
   "outputs": [],
   "source": [
    "from pyspark.sql import SparkSession\n",
    "sparkSession = SparkSession.builder.enableHiveSupport().master(\"local [2]\").getOrCreate()"
   ]
  },
  {
   "cell_type": "code",
   "execution_count": 3,
   "metadata": {},
   "outputs": [],
   "source": [
    "graphPath = \"/data/graphDFSample\""
   ]
  },
  {
   "cell_type": "markdown",
   "metadata": {},
   "source": [
    "## Explore dataset"
   ]
  },
  {
   "cell_type": "code",
   "execution_count": 4,
   "metadata": {},
   "outputs": [
    {
     "name": "stdout",
     "output_type": "stream",
     "text": [
      "+--------+--------------------+\n",
      "|    user|             friends|\n",
      "+--------+--------------------+\n",
      "|22991438|[20699, 175973, 5...|\n",
      "|37586597|[83616, 139192, 1...|\n",
      "|56325000|[504270, 645333, ...|\n",
      "|12862761|[234344, 5991561,...|\n",
      "|38989299|[47992, 83113, 70...|\n",
      "+--------+--------------------+\n",
      "only showing top 5 rows\n",
      "\n"
     ]
    }
   ],
   "source": [
    "g = sparkSession.read.parquet(graphPath)\n",
    "g.show(5)"
   ]
  },
  {
   "cell_type": "code",
   "execution_count": 5,
   "metadata": {},
   "outputs": [
    {
     "name": "stdout",
     "output_type": "stream",
     "text": [
      "root\n",
      " |-- user: integer (nullable = true)\n",
      " |-- friends: array (nullable = true)\n",
      " |    |-- element: integer (containsNull = true)\n",
      "\n"
     ]
    }
   ],
   "source": [
    "g.printSchema()"
   ]
  },
  {
   "cell_type": "markdown",
   "metadata": {},
   "source": [
    "## List top 50 friends that have most common user"
   ]
  },
  {
   "cell_type": "code",
   "execution_count": 6,
   "metadata": {},
   "outputs": [],
   "source": [
    "from pyspark.sql.functions import explode, collect_list, size, col, row_number\n",
    "from pyspark.sql import Window\n",
    "\n",
    "reversedGraph = sparkSession.read.parquet(graphPath) \\\n",
    "    .withColumn(\"friend\", explode('friends')) \\\n",
    "    .groupBy(\"friend\") \\\n",
    "    .agg(collect_list(\"user\").alias(\"users\")) \\\n",
    "    .withColumn(\"users_size\", size(\"users\")) \\"
   ]
  },
  {
   "cell_type": "code",
   "execution_count": 7,
   "metadata": {},
   "outputs": [
    {
     "name": "stdout",
     "output_type": "stream",
     "text": [
      "root\n",
      " |-- friend: integer (nullable = true)\n",
      " |-- users: array (nullable = true)\n",
      " |    |-- element: integer (containsNull = true)\n",
      " |-- users_size: integer (nullable = false)\n",
      "\n"
     ]
    }
   ],
   "source": [
    "reversedGraph.printSchema()"
   ]
  },
  {
   "cell_type": "code",
   "execution_count": 8,
   "metadata": {},
   "outputs": [
    {
     "name": "stdout",
     "output_type": "stream",
     "text": [
      "+------+--------------------+----------+\n",
      "|friend|               users|users_size|\n",
      "+------+--------------------+----------+\n",
      "|   148|[65051219, 146311...|         4|\n",
      "|  5518|          [58573511]|         1|\n",
      "|  9900|          [36844066]|         1|\n",
      "| 10362|          [65278216]|         1|\n",
      "| 11458|          [39169321]|         1|\n",
      "+------+--------------------+----------+\n",
      "only showing top 5 rows\n",
      "\n"
     ]
    }
   ],
   "source": [
    "reversedGraph.show(5)"
   ]
  },
  {
   "cell_type": "code",
   "execution_count": 9,
   "metadata": {},
   "outputs": [
    {
     "data": {
      "text/plain": [
       "[Row(friend=9606655, users_size=244),\n",
       " Row(friend=62922315, users_size=241),\n",
       " Row(friend=1288836, users_size=240),\n",
       " Row(friend=36402159, users_size=239),\n",
       " Row(friend=36079654, users_size=239)]"
      ]
     },
     "execution_count": 9,
     "metadata": {},
     "output_type": "execute_result"
    }
   ],
   "source": [
    "# Method 1\n",
    "window = Window.orderBy(col(\"users_size\").desc())\n",
    "\n",
    "top50 = reversedGraph.withColumn(\"row_number\", row_number().over(window)) \\\n",
    "            .filter(col(\"row_number\") < 50) \\\n",
    "            .select(col(\"friend\"), col(\"users_size\")) \\\n",
    "            .orderBy(col(\"users_size\").desc()) \\\n",
    "            .collect()\n",
    "top50[0:5]"
   ]
  },
  {
   "cell_type": "code",
   "execution_count": 10,
   "metadata": {},
   "outputs": [
    {
     "name": "stdout",
     "output_type": "stream",
     "text": [
      "+--------+----------+\n",
      "|  friend|users_size|\n",
      "+--------+----------+\n",
      "| 9606655|       244|\n",
      "|62922315|       241|\n",
      "| 1288836|       240|\n",
      "|36079654|       239|\n",
      "|36402159|       239|\n",
      "+--------+----------+\n",
      "\n"
     ]
    }
   ],
   "source": [
    "# Method 2\n",
    "reversedGraph \\\n",
    "    .select(\"friend\", \"users_size\") \\\n",
    "    .orderBy(col(\"users_size\").desc()) \\\n",
    "    .limit(5).show()"
   ]
  },
  {
   "cell_type": "markdown",
   "metadata": {},
   "source": [
    "## Counting number of the mutual friends"
   ]
  },
  {
   "cell_type": "markdown",
   "metadata": {},
   "source": [
    "1-Create a new column “friend” by exploding of column “friends” (like in the demo iPython notebook)<br \\>\n",
    "2-group the resulting dataframe by the column “friend” (like in the demo iPython notebook)<br \\>\n",
    "3-create a column “users” by collecting all users with the same id in the column “friend” together (like in the demo iPython notebook)"
   ]
  },
  {
   "cell_type": "code",
   "execution_count": 11,
   "metadata": {},
   "outputs": [
    {
     "name": "stdout",
     "output_type": "stream",
     "text": [
      "+------+--------------------+\n",
      "|friend|               users|\n",
      "+------+--------------------+\n",
      "|   148|[65051219, 146311...|\n",
      "|  5518|          [58573511]|\n",
      "|  9900|          [36844066]|\n",
      "| 10362|          [65278216]|\n",
      "| 11458|          [39169321]|\n",
      "+------+--------------------+\n",
      "only showing top 5 rows\n",
      "\n"
     ]
    }
   ],
   "source": [
    "from pyspark.sql.functions import explode, collect_list, size, col, row_number\n",
    "from pyspark.sql import Window\n",
    "import pyspark.sql.functions as f \n",
    "\n",
    "reversedGraph = sparkSession.read.parquet(graphPath) \\\n",
    "    .select(\n",
    "        f.explode('friends').alias('friend'),\n",
    "        'user'\n",
    "    ) \\\n",
    "    .groupBy('friend') \\\n",
    "    .agg(collect_list('user').alias('users'))\n",
    "\n",
    "reversedGraph.show(5)"
   ]
  },
  {
   "cell_type": "markdown",
   "metadata": {},
   "source": [
    "4-sort the elements in the column “users” by the function sort_array<br \\>\n",
    "5-filter only the rows which have more than 1 element in the column “users”<br \\>"
   ]
  },
  {
   "cell_type": "code",
   "execution_count": 12,
   "metadata": {},
   "outputs": [
    {
     "name": "stdout",
     "output_type": "stream",
     "text": [
      "+------+--------------------+\n",
      "|friend|               users|\n",
      "+------+--------------------+\n",
      "|   148|[3195315, 1463110...|\n",
      "| 36538|[5506394, 6170161...|\n",
      "| 41751|[41811068, 60873111]|\n",
      "| 49331|[45058971, 58571716]|\n",
      "| 73470|[37445156, 49852791]|\n",
      "+------+--------------------+\n",
      "only showing top 5 rows\n",
      "\n"
     ]
    }
   ],
   "source": [
    "df = reversedGraph \\\n",
    "    .select(\n",
    "        'friend',\n",
    "        f.sort_array('users').alias('users')\n",
    "    ) \\\n",
    "    .where(size('users') > '1')\n",
    "\n",
    "df.show(5)"
   ]
  },
  {
   "cell_type": "markdown",
   "metadata": {},
   "source": [
    "7-for each row emit all possible ordered pairs of users from the column “users” (tip: write a user defined function for this)<br \\>\n",
    "8-count the number of times each pair has appeared<br \\>\n",
    "9-with the help of the window function (like in the demo python notebook) select 49 pairs of users who have the biggest amount of common friends"
   ]
  },
  {
   "cell_type": "code",
   "execution_count": 13,
   "metadata": {},
   "outputs": [],
   "source": [
    "from itertools import combinations\n",
    "from pyspark.sql.functions import udf\n",
    "from pyspark.sql import types\n",
    "\n",
    "def emit_all_pairs(users):\n",
    "    return list(combinations(users, 2))\n",
    "\n",
    "schema = types.ArrayType(types.IntegerType())\n",
    "udf_emit_all_pairs = udf(emit_all_pairs, types.ArrayType(schema))"
   ]
  },
  {
   "cell_type": "code",
   "execution_count": 14,
   "metadata": {},
   "outputs": [
    {
     "name": "stdout",
     "output_type": "stream",
     "text": [
      "+--------+--------+----------------------------+\n",
      "|       a|       c|number of the mutual friends|\n",
      "+--------+--------+----------------------------+\n",
      "|27967558|42973992|                        3206|\n",
      "|20158643|42973992|                        3130|\n",
      "|22582764|42973992|                        3066|\n",
      "|21864412|51640390|                        3044|\n",
      "|17139850|51640390|                        3021|\n",
      "+--------+--------+----------------------------+\n",
      "only showing top 5 rows\n",
      "\n"
     ]
    }
   ],
   "source": [
    "result = df \\\n",
    "    .withColumn(\n",
    "        'pairs', udf_emit_all_pairs(col('users'))) \\\n",
    "    .select(\n",
    "        f.explode('pairs').alias('pair')) \\\n",
    "    .withColumn('a', col('pair').getItem(0)) \\\n",
    "    .withColumn('c', col('pair').getItem(1)) \\\n",
    "    .groupBy('a', 'c') \\\n",
    "    .agg(f.count('*').alias('number of the mutual friends')) \\\n",
    "    .orderBy(f.desc('number of the mutual friends'), f.desc('a'), f.desc('c'))\n",
    "\n",
    "result.show(5)"
   ]
  },
  {
   "cell_type": "code",
   "execution_count": 15,
   "metadata": {},
   "outputs": [
    {
     "name": "stdout",
     "output_type": "stream",
     "text": [
      "3206 27967558 42973992\n",
      "3130 20158643 42973992\n",
      "3066 22582764 42973992\n",
      "3044 21864412 51640390\n",
      "3021 17139850 51640390\n",
      "3010 14985079 51640390\n",
      "2970 17139850 21864412\n",
      "2913 20158643 27967558\n",
      "2903 22280814 51151280\n",
      "2870 23848749 51640390\n",
      "2855 20158643 22582764\n",
      "2849 20158643 44996025\n",
      "2846 22280814 42973992\n",
      "2784 21864412 23848749\n",
      "2779 31964081 51640390\n",
      "2776 39205988 51640390\n",
      "2754 17139850 23848749\n",
      "2749 22582764 27967558\n",
      "2728 50561859 51640390\n",
      "2724 15485897 51640390\n",
      "2700 28135661 42973992\n",
      "2655 22280814 27967558\n",
      "2653 42973992 43548989\n",
      "2639 26755857 51640390\n",
      "2621 14635589 51640390\n",
      "2608 15485897 17139850\n",
      "2606 17139850 26755857\n",
      "2601 21864412 39205988\n",
      "2600 8406745 51640390\n",
      "2599 37735419 51640390\n",
      "2597 20158643 28135661\n",
      "2585 40003405 42973992\n",
      "2585 21864412 31964081\n",
      "2581 27967558 43548989\n",
      "2579 23848749 31964081\n",
      "2578 27967558 28135661\n",
      "2578 15485897 21864412\n",
      "2577 42973992 64755069\n",
      "2574 51151280 57077210\n",
      "2573 20158643 43548989\n",
      "2566 21864412 26755857\n",
      "2564 22280814 64755069\n",
      "2561 42973992 44996025\n",
      "2556 17139850 39205988\n",
      "2543 23848749 39205988\n",
      "2521 17139850 31964081\n",
      "2515 27967558 44996025\n",
      "2506 41629539 51640390\n",
      "2505 51151280 64755069\n"
     ]
    }
   ],
   "source": [
    "for row in result.take(49):\n",
    "    print row['number of the mutual friends'], row['a'], row['c']"
   ]
  }
 ],
 "metadata": {
  "kernelspec": {
   "display_name": "Python 2",
   "language": "python",
   "name": "python2"
  },
  "language_info": {
   "codemirror_mode": {
    "name": "ipython",
    "version": 2
   },
   "file_extension": ".py",
   "mimetype": "text/x-python",
   "name": "python",
   "nbconvert_exporter": "python",
   "pygments_lexer": "ipython2",
   "version": "2.7.12"
  }
 },
 "nbformat": 4,
 "nbformat_minor": 2
}
