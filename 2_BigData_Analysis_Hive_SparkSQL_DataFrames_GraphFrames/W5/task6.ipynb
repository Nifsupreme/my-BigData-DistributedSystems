{
 "cells": [
  {
   "cell_type": "code",
   "execution_count": 1,
   "metadata": {},
   "outputs": [
    {
     "name": "stdout",
     "output_type": "stream",
     "text": [
      "Welcome to\n",
      "      ____              __\n",
      "     / __/__  ___ _____/ /__\n",
      "    _\\ \\/ _ \\/ _ `/ __/  '_/\n",
      "   /__ / .__/\\_,_/_/ /_/\\_\\   version 2.1.1\n",
      "      /_/\n",
      "\n",
      "Using Python version 2.7.12 (default, Nov 19 2016 06:48:10)\n",
      "SparkSession available as 'spark'.\n"
     ]
    }
   ],
   "source": [
    "import os\n",
    "execfile(os.path.join(os.environ[\"SPARK_HOME\"], 'python/pyspark/shell.py'))"
   ]
  },
  {
   "cell_type": "code",
   "execution_count": 2,
   "metadata": {},
   "outputs": [],
   "source": [
    "from pyspark.sql import SparkSession\n",
    "sparkSession = SparkSession.builder.enableHiveSupport().master(\"local [2]\").getOrCreate()"
   ]
  },
  {
   "cell_type": "code",
   "execution_count": 3,
   "metadata": {},
   "outputs": [],
   "source": [
    "data = sparkSession.read.parquet(\"/data/sample264\")\n",
    "meta = sparkSession.read.parquet(\"/data/meta\")"
   ]
  },
  {
   "cell_type": "markdown",
   "metadata": {},
   "source": [
    "## Explore dataset\n",
    "+ Location - /data/sample264\n",
    "+ Fields: trackId, userId, timestamp, artistId\n",
    "    - trackId - id of the track\n",
    "    - userId - id of the user\n",
    "    - artistId - id of the artist\n",
    "    - timestamp - timestamp of the moment the user starts listening to a track\n",
    "\n",
    "\n",
    "+ Location - /data/meta\n",
    "+ Fields: type, Name, Artist, Id\n",
    "    - Type could be “track” or “artist”\n",
    "    - Name is the title of the track if the type == “track” and the name of the musician or group if the type == “artist”.\n",
    "    - Artist states for the creator of the track in case the type == “track” and for the name of the musician or group in case the type == “artist”.\n",
    "    - Id - id of the item"
   ]
  },
  {
   "cell_type": "code",
   "execution_count": 4,
   "metadata": {},
   "outputs": [],
   "source": [
    "# data.show(5)"
   ]
  },
  {
   "cell_type": "code",
   "execution_count": 5,
   "metadata": {},
   "outputs": [],
   "source": [
    "# meta.show(5)"
   ]
  },
  {
   "cell_type": "markdown",
   "metadata": {},
   "source": [
    "## Normalization could be done by next function"
   ]
  },
  {
   "cell_type": "code",
   "execution_count": 6,
   "metadata": {},
   "outputs": [],
   "source": [
    "from pyspark.sql import Window\n",
    "from pyspark.sql.functions import row_number, sum\n",
    "\n",
    "def norm(df, key1, key2, field, n): \n",
    "    \n",
    "    window = Window.partitionBy(key1).orderBy(col(field).desc())\n",
    "        \n",
    "    topsDF = df.withColumn(\"row_number\", row_number().over(window)) \\\n",
    "        .filter(col(\"row_number\") <= n) \\\n",
    "        .drop(col(\"row_number\")) \n",
    "        \n",
    "    tmpDF = topsDF.groupBy(col(key1)).agg(col(key1), sum(col(field)).alias(\"sum_\" + field))\n",
    "   \n",
    "    normalizedDF = topsDF.join(tmpDF, key1, \"inner\") \\\n",
    "        .withColumn(\"norm_\" + field, col(field) / col(\"sum_\" + field)) \\\n",
    "        .cache()\n",
    "\n",
    "    return normalizedDF"
   ]
  },
  {
   "cell_type": "markdown",
   "metadata": {},
   "source": [
    "#### Examples"
   ]
  },
  {
   "cell_type": "code",
   "execution_count": 7,
   "metadata": {},
   "outputs": [],
   "source": [
    "# from pyspark.sql import Window\n",
    "# from pyspark.sql.functions import col, rank"
   ]
  },
  {
   "cell_type": "code",
   "execution_count": 8,
   "metadata": {},
   "outputs": [],
   "source": [
    "# userTrack = data.groupBy(col(\"userId\"), col(\"trackId\")).count()\n",
    "\n",
    "# userTrackNorm = norm(userTrack, \"userId\", \"trackId\", \"count\", 1000) \\\n",
    "#         .withColumn(\"id\", col(\"userId\")) \\\n",
    "#         .withColumn(\"id2\", col(\"trackId\")) \\\n",
    "#         .withColumn(\"norm_count\", col(\"norm_count\") * 0.5) \\\n",
    "#         .select(col(\"id\"), col(\"id2\"), col(\"norm_count\"))\n",
    "\n",
    "# userTrackNorm.show(5)"
   ]
  },
  {
   "cell_type": "code",
   "execution_count": 9,
   "metadata": {},
   "outputs": [],
   "source": [
    "# window = Window.orderBy(col(\"norm_count\"))\n",
    "    \n",
    "# userTrackList = userTrackNorm.withColumn(\"position\", rank().over(window))\\\n",
    "#     .filter(col(\"position\") < 50)\\\n",
    "#     .orderBy(col(\"id\"), col(\"id2\"))\\\n",
    "#     .select(col(\"id\"), col(\"id2\"))\\\n",
    "\n",
    "# userTrackList.show(5)"
   ]
  },
  {
   "cell_type": "markdown",
   "metadata": {},
   "source": [
    "## Tasks"
   ]
  },
  {
   "cell_type": "code",
   "execution_count": 10,
   "metadata": {},
   "outputs": [],
   "source": [
    "from pyspark.sql.functions import col, desc, asc, collect_list"
   ]
  },
  {
   "cell_type": "markdown",
   "metadata": {
    "collapsed": true
   },
   "source": [
    "## Task 1\n",
    "- Build the edges of the type “track-track”. To do it you will need to count the collaborative similarity between all the tracks: \n",
    "    - if a user has started listening to the tracks A and B together in the limited time interval (equal to 7 minutes), then you should add 1 to the weight of the edge from vertex A to vertex B (initial weight is equal to 0). \n",
    "    - For each track choose top 40 tracks ordered by weight similar to it and normalize weights of its edges (divide the weight of each edge on a summary of weights of all edges).\n",
    "\n",
    "- Sort the resulting Data Frame in descending order by the column norm_count, take top 40 rows, select only the columns “id1”, “id2”, sort them in ascending order this time first by “id1”, then by “id2” and print the columns “id1”, “id2” of the resulting dataFrame."
   ]
  },
  {
   "cell_type": "markdown",
   "metadata": {},
   "source": [
    "#### |A| <= B\n",
    "#### -B <= A <= B"
   ]
  },
  {
   "cell_type": "code",
   "execution_count": 11,
   "metadata": {},
   "outputs": [],
   "source": [
    "SEVEN_MIN = 60 * 7\n",
    "\n",
    "tracks_tracks = data \\\n",
    "    .alias('data_1').join(data.alias('data_2'), \\\n",
    "        (col('data_1.userId') == col('data_2.userId')) &\n",
    "        (col('data_1.trackId') != col('data_2.trackId')) &\n",
    "        (\n",
    "            (col('data_1.timestamp') - col('data_2.timestamp') <= SEVEN_MIN) &\n",
    "            (col('data_1.timestamp') - col('data_2.timestamp') >= -SEVEN_MIN)\n",
    "        ), 'inner') \\\n",
    "    .select(\n",
    "        col('data_1.trackId').alias('id1'),\n",
    "        col('data_2.trackId').alias('id2')\n",
    "    ) \\\n",
    "    .groupBy(col('id1'), col('id2')).count() \\\n",
    "    .orderBy(desc('count'))\n",
    "\n",
    "# tracks_tracks.show(5) "
   ]
  },
  {
   "cell_type": "code",
   "execution_count": 12,
   "metadata": {},
   "outputs": [],
   "source": [
    "tracks_tracks_norm = norm(tracks_tracks, 'id1', 'id2', 'count', 40) \\\n",
    "    .select(col('id1'), col('id2'), col('norm_count')) \\\n",
    "    .orderBy(desc('norm_count'), asc('id1'), asc('id2'))\n",
    "\n",
    "# tracks_tracks_norm.show(5)"
   ]
  },
  {
   "cell_type": "code",
   "execution_count": 13,
   "metadata": {},
   "outputs": [],
   "source": [
    "# for row in tracks_tracks_norm.take(40):\n",
    "#     print row['id1'], row['id2']"
   ]
  },
  {
   "cell_type": "markdown",
   "metadata": {},
   "source": [
    "## Task 2\n",
    "- Build the edges of the type “user-track”. Take the amount of times the track was listened by the user as the weight of the edge from the user's vertex to the track’s vertex. For each user take top-1000 and normalize them.\n",
    "\n",
    "- Sort the resulting Data Frame in descending order by the column norm_count, take top 40 rows, select only the columns “id1”, “id2”, sort them in ascending order this time first by “id1”, then by “id2” and print the columns “id1”, “id2” of the resulting dataframe."
   ]
  },
  {
   "cell_type": "code",
   "execution_count": 14,
   "metadata": {},
   "outputs": [],
   "source": [
    "users_tracks = data \\\n",
    "    .select(\n",
    "        col('userId').alias('id1'),\n",
    "        col('trackId').alias('id2')) \\\n",
    "    .groupBy('id1', 'id2').count() \\\n",
    "    .orderBy(desc('count'), asc('id1'), asc('id2'))\n",
    "\n",
    "# users_tracks.show(5)"
   ]
  },
  {
   "cell_type": "code",
   "execution_count": 15,
   "metadata": {},
   "outputs": [],
   "source": [
    "users_tracks_norm = norm(users_tracks, 'id1', 'id2', 'count', 1000) \\\n",
    "    .select(col('id1'), col('id2'), col('norm_count')) \\\n",
    "    .orderBy(desc('norm_count'), asc('id1'), asc('id2'))\n",
    "\n",
    "# users_tracks_norm.show(5)"
   ]
  },
  {
   "cell_type": "code",
   "execution_count": 16,
   "metadata": {},
   "outputs": [],
   "source": [
    "# for row in users_tracks_norm.take(40):\n",
    "#     print row['id1'], row['id2']"
   ]
  },
  {
   "cell_type": "markdown",
   "metadata": {},
   "source": [
    "## Task 3\n",
    "- Build the edges of the type “user-artist”. Take the amount of times the user has listened to the artist’s tracks as the weight of the edge from the user’s vertex to the artist’s vertex. For each user take top-100 artists and normalize weights.\n",
    "\n",
    "- Sort the resulting Data Frame in descending order by the column norm_count, take top 40 rows, select only the columns “id1”, “id2”, sort them in ascending order this time first by “id1”, then by “id2” and print the columns “id1”, “id2” of the resulting dataframe."
   ]
  },
  {
   "cell_type": "code",
   "execution_count": 17,
   "metadata": {},
   "outputs": [],
   "source": [
    "users_artists = data \\\n",
    "    .select(\n",
    "        col('userId').alias('id1'),\n",
    "        col('artistId').alias('id2')) \\\n",
    "    .groupBy('id1', 'id2').count() \\\n",
    "    .orderBy(desc('count'), asc('id1'), asc('id2'))\n",
    "\n",
    "# users_artists.show(5) "
   ]
  },
  {
   "cell_type": "code",
   "execution_count": 18,
   "metadata": {},
   "outputs": [],
   "source": [
    "users_artists_norm = norm(users_artists, 'id1', 'id2', 'count', 100) \\\n",
    "    .select(col('id1'), col('id2'), col('norm_count')) \\\n",
    "    .orderBy(desc('norm_count'), asc('id1'), asc('id2'))\n",
    "\n",
    "# users_artists_norm.show(5)"
   ]
  },
  {
   "cell_type": "code",
   "execution_count": 19,
   "metadata": {},
   "outputs": [],
   "source": [
    "# for row in users_artists_norm.take(40):\n",
    "#     print row['id1'], row['id2']"
   ]
  },
  {
   "cell_type": "markdown",
   "metadata": {},
   "source": [
    "## Task 4\n",
    "- Build the edges of the type “artist-track”. Take the amount of times the track HAS BEEN listened by all users as the weight of the edge from the artist’s vertex to the track’s vertex. For each artist take top-100 tracks and normalize weights.\n",
    "\n",
    "- Sort the resulting Data Frame in descending order by the column norm_count, take top 40 rows, select only the columns “id1”, “id2”, sort them in ascending order this time first by “id1”, then by “id2” and print the columns “id1”, “id2” of the resulting dataframe."
   ]
  },
  {
   "cell_type": "code",
   "execution_count": 20,
   "metadata": {},
   "outputs": [],
   "source": [
    "artists_tracks = data \\\n",
    "    .select(\n",
    "        col('artistId').alias('id1'),\n",
    "        col('trackId').alias('id2')) \\\n",
    "    .groupBy('id1', 'id2').count() \\\n",
    "    .orderBy(desc('count'), asc('id1'), asc('id2'))\n",
    "\n",
    "# artists_tracks.show(5)"
   ]
  },
  {
   "cell_type": "code",
   "execution_count": 21,
   "metadata": {},
   "outputs": [],
   "source": [
    "artists_tracks_norm = norm(artists_tracks, 'id1', 'id2', 'count', 100) \\\n",
    "    .select(col('id1'), col('id2'), col('norm_count')) \\\n",
    "    .orderBy(desc('norm_count'), asc('id1'), asc('id2'))\n",
    "\n",
    "# artists_tracks_norm.show(5)"
   ]
  },
  {
   "cell_type": "code",
   "execution_count": 22,
   "metadata": {},
   "outputs": [],
   "source": [
    "# for row in artists_tracks_norm.take(40):\n",
    "#     print row['id1'], row['id2']"
   ]
  },
  {
   "cell_type": "markdown",
   "metadata": {},
   "source": [
    "## Task 5\n",
    "- Construct balancing function where the edges of the type “user-track” and the edges of the type “user-artist” influence the final recommendations equally.\n",
    "\n",
    "- For the user with Id 776748 find all the tracks and artists connected to him. Sort founded items first by artist then by name in ascending order, leave only columns ”Artist” and “Name” and print top-40\n",
    "\n"
   ]
  },
  {
   "cell_type": "code",
   "execution_count": 23,
   "metadata": {},
   "outputs": [],
   "source": [
    "my_user = 776748"
   ]
  },
  {
   "cell_type": "code",
   "execution_count": 24,
   "metadata": {},
   "outputs": [],
   "source": [
    "map_user_track = users_tracks \\\n",
    "    .alias('users_tracks').join(meta.alias('meta'),\n",
    "        (col('users_tracks.id2') == col('meta.id')) &\n",
    "        (col('meta.type') == 'track')) \\\n",
    "    .filter(col('users_tracks.id1') == my_user)\n",
    "\n",
    "\n",
    "# map_user_track.show(5)"
   ]
  },
  {
   "cell_type": "code",
   "execution_count": 25,
   "metadata": {},
   "outputs": [],
   "source": [
    "map_user_artist = users_artists \\\n",
    "    .alias('users_artists').join(meta.alias('meta'), \\\n",
    "        (col('users_artists.id2') == col('meta.id')) &\n",
    "        (col('meta.type') == 'artist')) \\\n",
    "    .filter(col('users_artists.id1') == my_user)\n",
    "\n",
    "\n",
    "# map_user_artist.show(5)"
   ]
  },
  {
   "cell_type": "code",
   "execution_count": 26,
   "metadata": {},
   "outputs": [],
   "source": [
    "results =  \\\n",
    "    map_user_track.select('Name', 'Artist') \\\n",
    "        .union(\n",
    "    map_user_artist.select('Name', 'Artist')) \\\n",
    "        .orderBy(asc('Artist'), asc('Name'))\n",
    "\n",
    "# results.show(5)"
   ]
  },
  {
   "cell_type": "code",
   "execution_count": 27,
   "metadata": {},
   "outputs": [],
   "source": [
    "# for row in results.take(40):\n",
    "#     print row['Artist'], row['Name']"
   ]
  },
  {
   "cell_type": "markdown",
   "metadata": {},
   "source": [
    "## Task 6\n",
    "- For the user with Id 776748 print top-40 recommended tracks. Build music recommendations with the algorithm described in the lesson 3 of the fifth week. Initialize coordinates of vector x_0 corresponding to the user’s vertex and vertices from the task 5 with ones and all other coordinates with zeros. Do 5 steps:\n",
    "\n",
    "![](./img/Recommender.jpg)\n",
    "\n",
    "- You should receive a table with 3 collumns: “name”, “artist” and “rank”. Sort the resulting dataframe in descending order by “rank”, select top 40 recommended tracks, select only the columns “name”, “artist” and “rank”, leave 5 digits after the decimal point in “rank” and print the resulting dataframe."
   ]
  },
  {
   "cell_type": "code",
   "execution_count": 28,
   "metadata": {},
   "outputs": [],
   "source": [
    "my_user = 776748\n",
    "alpha = 0.15\n",
    "steps = 5"
   ]
  },
  {
   "cell_type": "code",
   "execution_count": 29,
   "metadata": {},
   "outputs": [
    {
     "name": "stdout",
     "output_type": "stream",
     "text": [
      "+------+---+\n",
      "|    id|  w|\n",
      "+------+---+\n",
      "|584813|1.0|\n",
      "|343869|1.0|\n",
      "|274288|1.0|\n",
      "|682564|1.0|\n",
      "|506870|1.0|\n",
      "+------+---+\n",
      "only showing top 5 rows\n",
      "\n"
     ]
    }
   ],
   "source": [
    "from pyspark.sql.functions import lit, least, sum\n",
    "\n",
    "# x = (0,...,0,1,1,1,1,0,...,0): 1.0 if user, init Probability\n",
    "x = \\\n",
    "    data.select(\n",
    "        col('userId').alias('id'),\n",
    "        lit(1.0).alias('w')).distinct() \\\n",
    "    .union(\n",
    "    data.select(\n",
    "        col('trackId').alias('id'),\n",
    "        lit(0.0).alias('w')).distinct()) \\\n",
    "    .union(\n",
    "    data.select(\n",
    "        col('artistId').alias('id'),\n",
    "        lit(0.0).alias('w')).distinct()).cache()\n",
    "\n",
    "\n",
    "x.show(5)"
   ]
  },
  {
   "cell_type": "code",
   "execution_count": 30,
   "metadata": {},
   "outputs": [
    {
     "name": "stdout",
     "output_type": "stream",
     "text": [
      "+------+---+\n",
      "|    id|  w|\n",
      "+------+---+\n",
      "|584813|  1|\n",
      "|343869|  1|\n",
      "|274288|  1|\n",
      "|682564|  1|\n",
      "|506870|  1|\n",
      "+------+---+\n",
      "only showing top 5 rows\n",
      "\n"
     ]
    }
   ],
   "source": [
    "# # u = (0,...,0,0,0,1,0,0,...,0): 1 if user = my user\n",
    "# u = x \\\n",
    "#     .select(\n",
    "#         col('id'),\n",
    "#         col('w').cast('Int')).cache()\n",
    "\n",
    "# u.show(5)"
   ]
  },
  {
   "cell_type": "code",
   "execution_count": 31,
   "metadata": {},
   "outputs": [],
   "source": [
    "# u = (0,...,0,0,0,1,0,0,...,0): 1 if user = my user\n",
    "u = x \\\n",
    "    .select(\n",
    "        col('id'),\n",
    "        lit(0).alias('w')) \\\n",
    "    .filter(col('id') != my_user)\n",
    "\n",
    "u_my_user = x \\\n",
    "    .filter(col('id') == my_user) \\\n",
    "    .select(\n",
    "        col('id'),\n",
    "        lit(1).alias('w'))\n",
    "\n",
    "u = u.union(u_my_user).cache()\n",
    "u.show(5)"
   ]
  },
  {
   "cell_type": "code",
   "execution_count": 32,
   "metadata": {},
   "outputs": [
    {
     "name": "stdout",
     "output_type": "stream",
     "text": [
      "+------+------+----------+\n",
      "|   id1|   id2|norm_count|\n",
      "+------+------+----------+\n",
      "|798256|923706|       1.0|\n",
      "|798319|837992|       1.0|\n",
      "|798322|876562|       1.0|\n",
      "|798331|827364|       1.0|\n",
      "|798335|840741|       1.0|\n",
      "+------+------+----------+\n",
      "only showing top 5 rows\n",
      "\n"
     ]
    }
   ],
   "source": [
    "# Build edges\n",
    "edges = \\\n",
    "    tracks_tracks_norm \\\n",
    "        .union(\n",
    "    users_tracks_norm) \\\n",
    "        .union(\n",
    "    users_artists_norm) \\\n",
    "        .union(\n",
    "    users_artists_norm) \\\n",
    "        .union(\n",
    "    artists_tracks_norm) \\\n",
    "        .cache()\n",
    "\n",
    "edges.show(5)"
   ]
  },
  {
   "cell_type": "code",
   "execution_count": 33,
   "metadata": {},
   "outputs": [
    {
     "name": "stdout",
     "output_type": "stream",
     "text": [
      "+----+----+\n",
      "|  id|   w|\n",
      "+----+----+\n",
      "|3175|0.15|\n",
      "|5518|0.15|\n",
      "|5803|0.15|\n",
      "|6654|0.15|\n",
      "|7253|0.15|\n",
      "+----+----+\n",
      "only showing top 5 rows\n",
      "\n"
     ]
    }
   ],
   "source": [
    "def calculate_next_x(x, u, edges):\n",
    "    next_v = \\\n",
    "        edges \\\n",
    "            .join( \n",
    "        x, (col('id2') == col('id')), 'left_outer').drop('id') \\\n",
    "            .withColumn('mul', col('norm_count') * col('w')) \\\n",
    "            .groupBy(col('id1')) \\\n",
    "            .agg(sum('mul').alias('sum')) \\\n",
    "            .cache()\n",
    "\n",
    "    next_x = \\\n",
    "        u.withColumn('a', col('w') * alpha) \\\n",
    "            .join(\n",
    "        next_v, col('id') == col('id1')) \\\n",
    "            .withColumn('b', col('sum') * (1 - alpha)) \\\n",
    "            .withColumn('res', col('a') + col('b')) \\\n",
    "            .select(\n",
    "                'id',\n",
    "                col('res').alias('w')) \\\n",
    "            .cache()\n",
    "    \n",
    "    res_x = \\\n",
    "        x.alias('x') \\\n",
    "            .join(\n",
    "        next_x.alias('next_x'), col('x.id') == col('next_x.id'), 'left_outer') \\\n",
    "            .select(\n",
    "                col('x.id').alias('id'),\n",
    "                least(col('next_x.w'), col('x.w')).alias('w')) \\\n",
    "            .cache()\n",
    "    \n",
    "    return res_x\n",
    "\n",
    "\n",
    "for i in range(steps):\n",
    "    x = calculate_next_x(x, u, edges)\n",
    "\n",
    "x.orderBy(desc('w')).show(5)"
   ]
  },
  {
   "cell_type": "code",
   "execution_count": 34,
   "metadata": {},
   "outputs": [
    {
     "name": "stdout",
     "output_type": "stream",
     "text": [
      "+------+--------------------+--------------------+-------+\n",
      "|  type|                Name|              Artist|     Id|\n",
      "+------+--------------------+--------------------+-------+\n",
      "| track|               Smile| Artist: Josh Groban|1223851|\n",
      "| track|Chuni Ashkharhe Q...|Artist: Razmik Amyan|1215486|\n",
      "| track|           Dark City|Artist: Machinae ...|1296462|\n",
      "| track|       Not Sensitive|        Artist: Moby|1249694|\n",
      "|artist|Artist: Carlos Pu...|Artist: Carlos Pu...|1352221|\n",
      "+------+--------------------+--------------------+-------+\n",
      "only showing top 5 rows\n",
      "\n"
     ]
    }
   ],
   "source": [
    "meta.show(5)"
   ]
  },
  {
   "cell_type": "code",
   "execution_count": 35,
   "metadata": {},
   "outputs": [
    {
     "name": "stdout",
     "output_type": "stream",
     "text": [
      "+--------------------+--------------------+---+\n",
      "|              Artist|                Name|  w|\n",
      "+--------------------+--------------------+---+\n",
      "|        Artist: Blur|        Artist: Blur|0.0|\n",
      "|Artist: Three Day...|I Hate Everything...|0.0|\n",
      "|Artist: The Offsp...|   Come Out and Play|0.0|\n",
      "|        Artist: Blur|      Girls and Boys|0.0|\n",
      "|    Artist: Iggy Pop|    Artist: Iggy Pop|0.0|\n",
      "+--------------------+--------------------+---+\n",
      "only showing top 5 rows\n",
      "\n"
     ]
    }
   ],
   "source": [
    "results = \\\n",
    "    meta.alias('meta') \\\n",
    "        .join(\n",
    "    x.alias('x'), col('meta.Id') == col('x.id')) \\\n",
    "        .orderBy(desc('w')) \\\n",
    "        .distinct() \\\n",
    "        .select(\n",
    "            col('Artist'),\n",
    "            col('Name'),\n",
    "            col('w'))\n",
    "\n",
    "results.show(5)"
   ]
  },
  {
   "cell_type": "code",
   "execution_count": 37,
   "metadata": {},
   "outputs": [
    {
     "name": "stdout",
     "output_type": "stream",
     "text": [
      "Artist: Blur Artist: Blur 0.00000\n",
      "I Hate Everything About You Artist: Three Days Grace 0.00000\n",
      "Come Out and Play Artist: The Offspring 0.00000\n",
      "Girls and Boys Artist: Blur 0.00000\n",
      "Artist: Iggy Pop Artist: Iggy Pop 0.00000\n",
      "Kill The DJ Artist: Green Day 0.00000\n",
      "Getting Away With Murder Artist: Papa Roach 0.00000\n",
      "Take It Out On Me Artist: Thousand Foot Krutch 0.00000\n",
      "Artist: Three Days Grace Artist: Three Days Grace 0.00000\n",
      "Sky is Over Artist: Serj Tankian 0.00000\n",
      "Artist: The Offspring Artist: The Offspring 0.00000\n",
      "Artist: Rise Against Artist: Rise Against 0.00000\n",
      "In The End Artist: Linkin Park 0.00000\n",
      "Eagle Artist: Gotthard 0.00000\n",
      "Sunday Artist: Iggy Pop 0.00000\n",
      "Artist: Linkin Park Artist: Linkin Park 0.00000\n",
      "Artist: Lordi Artist: Lordi 0.00000\n",
      "Artist: 3 Doors Down Artist: 3 Doors Down 0.00000\n",
      "Beautiful disaster Artist: 311 0.00000\n",
      "Artist: Clawfinger Artist: Clawfinger 0.00000\n",
      "Numb Artist: Linkin Park 0.00000\n",
      "Kryptonite Artist: 3 Doors Down 0.00000\n",
      "Artist: Slipknot Artist: Slipknot 0.00000\n",
      "Artist: Nickelback Artist: Nickelback 0.00000\n",
      "The Vengeful One Artist: Disturbed 0.00000\n",
      "Artist: Disturbed Artist: Disturbed 0.00000\n",
      "Artist: 311 Artist: 311 0.00000\n",
      "Artist: Nomy Artist: Nomy 0.00000\n",
      "Artist: Thousand Foot Krutch Artist: Thousand Foot Krutch 0.00000\n",
      "Artist: Gotthard Artist: Gotthard 0.00000\n",
      "Cocaine Artist: Nomy 0.00000\n",
      "Artist: Papa Roach Artist: Papa Roach 0.00000\n",
      "She Keeps Me Up Artist: Nickelback 0.00000\n",
      "Hard Rock Hallelujah Artist: Lordi 0.00000\n",
      "Nothing Going On Artist: Clawfinger 0.00000\n",
      "Artist: Serj Tankian Artist: Serj Tankian 0.00000\n",
      "Artist: Korn Artist: Korn 0.00000\n",
      "Wait And Bleed Artist: Slipknot 0.00000\n",
      "Here To Stay Artist: Korn 0.00000\n",
      "21 Guns Artist: Green Day 0.00000\n"
     ]
    }
   ],
   "source": [
    "for row in results.take(40):\n",
    "    print '{r.Name} {r.Artist} {r.w:0.5f}'.format(r=row)"
   ]
  }
 ],
 "metadata": {
  "kernelspec": {
   "display_name": "Python 2",
   "language": "python",
   "name": "python2"
  },
  "language_info": {
   "codemirror_mode": {
    "name": "ipython",
    "version": 2
   },
   "file_extension": ".py",
   "mimetype": "text/x-python",
   "name": "python",
   "nbconvert_exporter": "python",
   "pygments_lexer": "ipython2",
   "version": "2.7.12"
  }
 },
 "nbformat": 4,
 "nbformat_minor": 2
}
