{
 "cells": [
  {
   "cell_type": "markdown",
   "metadata": {},
   "source": [
    "### Database"
   ]
  },
  {
   "cell_type": "code",
   "execution_count": 1,
   "metadata": {},
   "outputs": [
    {
     "name": "stdout",
     "output_type": "stream",
     "text": [
      "\n",
      "Logging initialized using configuration in jar:file:/usr/local/apache-hive-1.1.0-bin/lib/hive-common-1.1.0.jar!/hive-log4j.properties\n",
      "OK\n",
      "Time taken: 1.355 seconds\n",
      "OK\n",
      "posts\n",
      "users\n",
      "Time taken: 0.612 seconds, Fetched: 2 row(s)\n"
     ]
    }
   ],
   "source": [
    "! hive --database stackoverflow_ -e 'show tables'"
   ]
  },
  {
   "cell_type": "markdown",
   "metadata": {},
   "source": [
    "### posts"
   ]
  },
  {
   "cell_type": "code",
   "execution_count": 2,
   "metadata": {},
   "outputs": [
    {
     "name": "stdout",
     "output_type": "stream",
     "text": [
      "Overwriting describe.hql\n"
     ]
    }
   ],
   "source": [
    "%%writefile describe.hql\n",
    "USE stackoverflow_;\n",
    "DESCRIBE posts;"
   ]
  },
  {
   "cell_type": "code",
   "execution_count": 3,
   "metadata": {},
   "outputs": [
    {
     "name": "stdout",
     "output_type": "stream",
     "text": [
      "\n",
      "Logging initialized using configuration in jar:file:/usr/local/apache-hive-1.1.0-bin/lib/hive-common-1.1.0.jar!/hive-log4j.properties\n",
      "OK\n",
      "Time taken: 1.254 seconds\n",
      "OK\n",
      "id                  \tint                 \t                    \n",
      "post_type_id        \ttinyint             \t                    \n",
      "date                \tstring              \t                    \n",
      "owner_user_id       \tint                 \t                    \n",
      "parent_id           \tint                 \t                    \n",
      "score               \tint                 \t                    \n",
      "favorite_count      \tint                 \t                    \n",
      "tags                \tarray<string>       \t                    \n",
      "year                \tstring              \t                    \n",
      "month               \tstring              \t                    \n",
      "\t \t \n",
      "# Partition Information\t \t \n",
      "# col_name            \tdata_type           \tcomment             \n",
      "\t \t \n",
      "year                \tstring              \t                    \n",
      "month               \tstring              \t                    \n",
      "Time taken: 1.636 seconds, Fetched: 16 row(s)\n"
     ]
    }
   ],
   "source": [
    "! hive -f describe.hql"
   ]
  },
  {
   "cell_type": "code",
   "execution_count": 4,
   "metadata": {},
   "outputs": [
    {
     "name": "stdout",
     "output_type": "stream",
     "text": [
      "Overwriting post.hql\n"
     ]
    }
   ],
   "source": [
    "%%writefile post.hql\n",
    "USE stackoverflow_;\n",
    "\n",
    "SELECT *\n",
    "FROM \n",
    "    posts\n",
    "WHERE\n",
    "    tags IS NOT NULL AND\n",
    "    year IS NOT NULL AND\n",
    "    month IS NOT NULL\n",
    "LIMIT 10\n",
    ";"
   ]
  },
  {
   "cell_type": "code",
   "execution_count": 5,
   "metadata": {},
   "outputs": [
    {
     "name": "stdout",
     "output_type": "stream",
     "text": [
      "\n",
      "Logging initialized using configuration in jar:file:/usr/local/apache-hive-1.1.0-bin/lib/hive-common-1.1.0.jar!/hive-log4j.properties\n",
      "OK\n",
      "Time taken: 1.12 seconds\n",
      "OK\n",
      "4004\t1\t2008-08-06T21:18:47.357\t525\tNULL\t31\t16\t[\".net\",\"authentication\",\"encryption\",\"ssl\"]\t2008\t2008-08\n",
      "7237\t1\t2008-08-10T16:46:12.640\t799\tNULL\t10\t2\t[\"sql-server\",\"database\"]\t2008\t2008-08\n",
      "8472\t1\t2008-08-12T04:59:35.017\t1\tNULL\t320\t323\t[\"security\",\"language-agnostic\",\"captcha\"]\t2008\t2008-08\n",
      "9303\t1\t2008-08-12T23:04:10.770\t889\tNULL\t12\t1\t[\"c#\",\"regex\",\"perl\"]\t2008\t2008-08\n",
      "9355\t1\t2008-08-13T00:35:50.977\t234\tNULL\t15\t5\t[\"windows\",\"explorer\",\"windows-shell\"]\t2008\t2008-08\n",
      "9831\t1\t2008-08-13T13:49:51.963\t1491425\tNULL\t3\tNULL\t[\"javascript\",\"drag-and-drop\",\"mootools\"]\t2008\t2008-08\n",
      "10260\t1\t2008-08-13T19:18:07.667\t203\tNULL\t6\tNULL\t[\"asp.net\"]\t2008\t2008-08\n",
      "10810\t1\t2008-08-14T08:38:24.760\t966\tNULL\t3\t1\t[\"c#\",\"winforms\",\"authorization\",\"adam\",\"azman\"]\t2008\t2008-08\n",
      "12330\t1\t2008-08-15T15:06:31.873\tNULL\tNULL\t6\t1\t[\"vbscript\",\"wmi\"]\t2008\t2008-08\n",
      "12656\t1\t2008-08-15T19:50:52.517\t1344\tNULL\t5\t9\t[\"php\",\"mysql\",\"orm\",\"mysqli\"]\t2008\t2008-08\n",
      "Time taken: 3.237 seconds, Fetched: 10 row(s)\n"
     ]
    }
   ],
   "source": [
    "! hive -f post.hql"
   ]
  },
  {
   "cell_type": "markdown",
   "metadata": {},
   "source": [
    "### users"
   ]
  },
  {
   "cell_type": "code",
   "execution_count": 6,
   "metadata": {},
   "outputs": [
    {
     "name": "stdout",
     "output_type": "stream",
     "text": [
      "Overwriting describe.hql\n"
     ]
    }
   ],
   "source": [
    "%%writefile describe.hql\n",
    "USE stackoverflow_;\n",
    "DESCRIBE users;"
   ]
  },
  {
   "cell_type": "code",
   "execution_count": 7,
   "metadata": {},
   "outputs": [
    {
     "name": "stdout",
     "output_type": "stream",
     "text": [
      "\n",
      "Logging initialized using configuration in jar:file:/usr/local/apache-hive-1.1.0-bin/lib/hive-common-1.1.0.jar!/hive-log4j.properties\n",
      "OK\n",
      "Time taken: 1.205 seconds\n",
      "OK\n",
      "id                  \tint                 \t                    \n",
      "reputation          \tint                 \t                    \n",
      "creation_date       \tstring              \t                    \n",
      "display_name        \tstring              \t                    \n",
      "location            \tstring              \t                    \n",
      "views               \tint                 \t                    \n",
      "up_votes            \tint                 \t                    \n",
      "down_votes          \tint                 \t                    \n",
      "age                 \tint                 \t                    \n",
      "account_id          \tint                 \t                    \n",
      "Time taken: 1.29 seconds, Fetched: 10 row(s)\n"
     ]
    }
   ],
   "source": [
    "! hive -f describe.hql"
   ]
  },
  {
   "cell_type": "code",
   "execution_count": 8,
   "metadata": {},
   "outputs": [
    {
     "name": "stdout",
     "output_type": "stream",
     "text": [
      "Overwriting user.hql\n"
     ]
    }
   ],
   "source": [
    "%%writefile user.hql\n",
    "USE stackoverflow_;\n",
    "\n",
    "SELECT *\n",
    "FROM \n",
    "    users\n",
    "WHERE\n",
    "    creation_date IS NOT NULL AND\n",
    "    display_name IS NOT NULL AND\n",
    "    location IS NOT NULL\n",
    "LIMIT 10\n",
    ";"
   ]
  },
  {
   "cell_type": "code",
   "execution_count": 9,
   "metadata": {},
   "outputs": [
    {
     "name": "stdout",
     "output_type": "stream",
     "text": [
      "\n",
      "Logging initialized using configuration in jar:file:/usr/local/apache-hive-1.1.0-bin/lib/hive-common-1.1.0.jar!/hive-log4j.properties\n",
      "OK\n",
      "Time taken: 1.177 seconds\n",
      "OK\n",
      "37\t4146\t2008-08-01T12:44:00.723\tWally Lawless\tGeorgetown, Canada\t654\t256\t18\t35\t28\n",
      "169\t4825\t2008-08-02T22:51:03.507\tArnold Zokas\tLondon, United Kingdom\t585\t1956\t14\tNULL\t138\n",
      "194\t15481\t2008-08-03T10:56:49.987\tAdam Haile\tUnited States\t1973\t217\t18\t33\t157\n",
      "338\t37578\t2008-08-04T18:34:44.117\tFrank Krueger\tUnited States\t3941\t2411\t93\t36\t272\n",
      "480\t276\t2008-08-06T08:40:05.797\tmdy\tAsia\t79\t49\t0\t28\t381\n",
      "756\t2358\t2008-08-08T15:31:50.013\tSimon Gillbee\tPearland, TX\t478\t352\t25\t45\t587\n",
      "923\t58\t2008-08-10T14:25:39.540\tAnotherHowie\tUnited Kingdom\t32\t2\t0\t45\t706\n",
      "1097\t8036\t2008-08-12T11:40:09.933\tGeoff\tStow, OH\t527\t473\t30\t46\t838\n",
      "1462\t2011\t2008-08-15T17:26:18.470\tcrono\tGermany\t119\t73\t1\t35\t1101\n",
      "1539\t2476\t2008-08-16T13:31:36.823\tRyan P\tUnited States\t233\t72\t9\t33\t1158\n",
      "Time taken: 2.382 seconds, Fetched: 10 row(s)\n"
     ]
    }
   ],
   "source": [
    "! hive -f user.hql"
   ]
  },
  {
   "cell_type": "markdown",
   "metadata": {},
   "source": [
    "## Hive assignment. Task3\n",
    "Use Hive to complete the following task. Input tables was described in Hive Task1 and Hive Task2.\n",
    "\n",
    "Calculate number of questions and answers depending on users' age. Use аge from 'users' table, filter out users if their age is undefined. Output format:\n",
    "```\n",
    "age <tab> number of questions <tab> number of answers\n",
    "```\n",
    "\n",
    "Note:\n",
    "    - post_type_id = 1: questions\n",
    "    - post_type_id = 2: answers"
   ]
  },
  {
   "cell_type": "code",
   "execution_count": 10,
   "metadata": {},
   "outputs": [
    {
     "name": "stdout",
     "output_type": "stream",
     "text": [
      "Overwriting query.hql\n"
     ]
    }
   ],
   "source": [
    "%%writefile query.hql\n",
    "\n",
    "USE stackoverflow_;\n",
    "\n",
    "DROP TABLE IF EXISTS posts_question_answer;\n",
    "CREATE TABLE IF NOT EXISTS\n",
    "    posts_question_answer AS\n",
    "SELECT\n",
    "    owner_user_id,\n",
    "    IF(post_type_id = 1, 1, 0) AS questions,\n",
    "    IF(post_type_id = 2, 1, 0) AS answers\n",
    "FROM \n",
    "    posts\n",
    ";"
   ]
  },
  {
   "cell_type": "code",
   "execution_count": 11,
   "metadata": {},
   "outputs": [
    {
     "name": "stdout",
     "output_type": "stream",
     "text": [
      "Appending to query.hql\n"
     ]
    }
   ],
   "source": [
    "%%writefile query.hql -a\n",
    "\n",
    "SELECT\n",
    "    age,\n",
    "    SUM(questions),\n",
    "    SUM(answers)\n",
    "FROM \n",
    "    posts_question_answer\n",
    "LEFT JOIN \n",
    "    users \n",
    "ON\n",
    "    users.id = posts_question_answer.owner_user_id\n",
    "WHERE\n",
    "    age IS NOT NULL\n",
    "GROUP BY\n",
    "    age\n",
    "ORDER BY\n",
    "    age\n",
    ";"
   ]
  },
  {
   "cell_type": "code",
   "execution_count": 12,
   "metadata": {},
   "outputs": [
    {
     "name": "stdout",
     "output_type": "stream",
     "text": [
      "14\t1\t0\n",
      "15\t1\t2\n",
      "16\t2\t0\n",
      "17\t0\t1\n",
      "18\t4\t1\n",
      "19\t1\t1\n",
      "20\t0\t2\n",
      "21\t11\t24\n",
      "22\t6\t18\n",
      "23\t12\t15\n",
      "24\t16\t27\n",
      "25\t20\t33\n",
      "26\t23\t44\n",
      "27\t28\t56\n",
      "28\t24\t37\n",
      "29\t24\t66\n",
      "30\t26\t67\n",
      "31\t17\t33\n",
      "32\t13\t48\n",
      "33\t11\t40\n",
      "34\t24\t36\n",
      "35\t12\t42\n",
      "36\t8\t64\n",
      "37\t9\t35\n",
      "38\t6\t17\n",
      "39\t3\t7\n",
      "40\t1\t13\n",
      "41\t5\t20\n",
      "42\t5\t22\n",
      "43\t2\t26\n",
      "44\t7\t35\n",
      "45\t1\t4\n",
      "46\t7\t9\n",
      "47\t1\t1\n",
      "48\t1\t1\n",
      "49\t1\t26\n",
      "50\t1\t26\n",
      "51\t4\t5\n",
      "52\t0\t2\n",
      "53\t0\t2\n",
      "54\t0\t1\n",
      "57\t0\t3\n",
      "58\t1\t57\n",
      "60\t0\t6\n",
      "61\t0\t3\n",
      "64\t2\t1\n",
      "86\t0\t1\n",
      "96\t3\t1\n"
     ]
    },
    {
     "name": "stderr",
     "output_type": "stream",
     "text": [
      "\n",
      "Logging initialized using configuration in jar:file:/usr/local/apache-hive-1.1.0-bin/lib/hive-common-1.1.0.jar!/hive-log4j.properties\n",
      "OK\n",
      "Time taken: 1.209 seconds\n",
      "OK\n",
      "Time taken: 0.12 seconds\n",
      "Query ID = jovyan_20180207150909_f76eaa12-5156-4973-bd7d-b7c28d431f80\n",
      "Total jobs = 3\n",
      "Launching Job 1 out of 3\n",
      "Number of reduce tasks is set to 0 since there's no reduce operator\n",
      "Starting Job = job_1518008069663_0068, Tracking URL = http://b5f1542b981e:8088/proxy/application_1518008069663_0068/\n",
      "Kill Command = /opt/hadoop/bin/hadoop job  -kill job_1518008069663_0068\n",
      "Hadoop job information for Stage-1: number of mappers: 1; number of reducers: 0\n",
      "2018-02-07 15:09:39,040 Stage-1 map = 0%,  reduce = 0%\n",
      "2018-02-07 15:10:01,225 Stage-1 map = 100%,  reduce = 0%, Cumulative CPU 10.58 sec\n",
      "MapReduce Total cumulative CPU time: 10 seconds 580 msec\n",
      "Ended Job = job_1518008069663_0068\n",
      "Stage-4 is selected by condition resolver.\n",
      "Stage-3 is filtered out by condition resolver.\n",
      "Stage-5 is filtered out by condition resolver.\n",
      "Moving data to: hdfs://localhost:9000/user/jovyan/precreate/.hive-staging_hive_2018-02-07_15-09-12_316_7716371516354668550-1/-ext-10001\n",
      "Moving data to: hdfs://localhost:9000/user/jovyan/precreate/posts_question_answer\n",
      "Table stackoverflow_.posts_question_answer stats: [numFiles=1, numRows=322795, totalSize=3678877, rawDataSize=3356082]\n",
      "MapReduce Jobs Launched: \n",
      "Stage-Stage-1: Map: 1   Cumulative CPU: 10.58 sec   HDFS Read: 2252395 HDFS Write: 3678978 SUCCESS\n",
      "Total MapReduce CPU Time Spent: 10 seconds 580 msec\n",
      "OK\n",
      "Time taken: 52.505 seconds\n",
      "Query ID = jovyan_20180207151010_b00ca093-62ba-4f09-9878-19140a7c3760\n",
      "Total jobs = 2\n",
      "Execution log at: /tmp/jovyan/jovyan_20180207151010_b00ca093-62ba-4f09-9878-19140a7c3760.log\n",
      "2018-02-07 03:10:14\tStarting to launch local task to process map join;\tmaximum memory = 477626368\n",
      "2018-02-07 03:10:16\tDump the side-table for tag: 1 with group count: 64208 into file: file:/tmp/jovyan/b2137e38-e8b5-47a5-a60b-8fec62f1c74c/hive_2018-02-07_15-10-04_836_452371692135865600-1/-local-10005/HashTable-Stage-2/MapJoin-mapfile01--.hashtable\n",
      "2018-02-07 03:10:17\tUploaded 1 File to: file:/tmp/jovyan/b2137e38-e8b5-47a5-a60b-8fec62f1c74c/hive_2018-02-07_15-10-04_836_452371692135865600-1/-local-10005/HashTable-Stage-2/MapJoin-mapfile01--.hashtable (1425472 bytes)\n",
      "2018-02-07 03:10:17\tEnd of local task; Time Taken: 2.868 sec.\n",
      "Execution completed successfully\n",
      "MapredLocal task succeeded\n",
      "Launching Job 1 out of 2\n",
      "Number of reduce tasks not specified. Estimated from input data size: 1\n",
      "In order to change the average load for a reducer (in bytes):\n",
      "  set hive.exec.reducers.bytes.per.reducer=<number>\n",
      "In order to limit the maximum number of reducers:\n",
      "  set hive.exec.reducers.max=<number>\n",
      "In order to set a constant number of reducers:\n",
      "  set mapreduce.job.reduces=<number>\n",
      "Starting Job = job_1518008069663_0069, Tracking URL = http://b5f1542b981e:8088/proxy/application_1518008069663_0069/\n",
      "Kill Command = /opt/hadoop/bin/hadoop job  -kill job_1518008069663_0069\n",
      "Hadoop job information for Stage-2: number of mappers: 1; number of reducers: 1\n",
      "2018-02-07 15:10:34,284 Stage-2 map = 0%,  reduce = 0%\n",
      "2018-02-07 15:10:46,272 Stage-2 map = 100%,  reduce = 0%, Cumulative CPU 8.64 sec\n",
      "2018-02-07 15:10:57,430 Stage-2 map = 100%,  reduce = 100%, Cumulative CPU 14.16 sec\n",
      "MapReduce Total cumulative CPU time: 14 seconds 160 msec\n",
      "Ended Job = job_1518008069663_0069\n",
      "Launching Job 2 out of 2\n",
      "Number of reduce tasks determined at compile time: 1\n",
      "In order to change the average load for a reducer (in bytes):\n",
      "  set hive.exec.reducers.bytes.per.reducer=<number>\n",
      "In order to limit the maximum number of reducers:\n",
      "  set hive.exec.reducers.max=<number>\n",
      "In order to set a constant number of reducers:\n",
      "  set mapreduce.job.reduces=<number>\n",
      "Starting Job = job_1518008069663_0070, Tracking URL = http://b5f1542b981e:8088/proxy/application_1518008069663_0070/\n",
      "Kill Command = /opt/hadoop/bin/hadoop job  -kill job_1518008069663_0070\n",
      "Hadoop job information for Stage-3: number of mappers: 1; number of reducers: 1\n",
      "2018-02-07 15:11:19,268 Stage-3 map = 0%,  reduce = 0%\n",
      "2018-02-07 15:11:29,207 Stage-3 map = 100%,  reduce = 0%, Cumulative CPU 3.88 sec\n",
      "2018-02-07 15:11:41,338 Stage-3 map = 100%,  reduce = 100%, Cumulative CPU 8.27 sec\n",
      "MapReduce Total cumulative CPU time: 8 seconds 270 msec\n",
      "Ended Job = job_1518008069663_0070\n",
      "MapReduce Jobs Launched: \n",
      "Stage-Stage-2: Map: 1  Reduce: 1   Cumulative CPU: 14.16 sec   HDFS Read: 3691594 HDFS Write: 1056 SUCCESS\n",
      "Stage-Stage-3: Map: 1  Reduce: 1   Cumulative CPU: 8.27 sec   HDFS Read: 5611 HDFS Write: 376 SUCCESS\n",
      "Total MapReduce CPU Time Spent: 22 seconds 430 msec\n",
      "OK\n",
      "Time taken: 97.665 seconds, Fetched: 48 row(s)\n"
     ]
    }
   ],
   "source": [
    "%%bash\n",
    "hive -f query.hql 2> out.log\n",
    "cat out.log >&2"
   ]
  },
  {
   "cell_type": "markdown",
   "metadata": {},
   "source": [
    "### Simplify into 1 query"
   ]
  },
  {
   "cell_type": "code",
   "execution_count": 13,
   "metadata": {},
   "outputs": [
    {
     "name": "stdout",
     "output_type": "stream",
     "text": [
      "Overwriting query_2.hql\n"
     ]
    }
   ],
   "source": [
    "%%writefile query_2.hql\n",
    "\n",
    "USE stackoverflow_;\n",
    "\n",
    "SELECT\n",
    "    age,\n",
    "    COUNT(questions),\n",
    "    COUNT(answers)\n",
    "FROM (\n",
    "    SELECT\n",
    "        owner_user_id,\n",
    "        IF(post_type_id = 1, TRUE, NULL) AS questions,\n",
    "        IF(post_type_id = 2, TRUE, NULL) AS answers\n",
    "    FROM \n",
    "        posts\n",
    ") AS posts_question_answer\n",
    "LEFT JOIN \n",
    "    users \n",
    "ON\n",
    "    users.id = posts_question_answer.owner_user_id\n",
    "WHERE\n",
    "    age IS NOT NULL\n",
    "GROUP BY\n",
    "    age\n",
    "ORDER BY\n",
    "    age\n",
    ";"
   ]
  },
  {
   "cell_type": "code",
   "execution_count": 14,
   "metadata": {},
   "outputs": [
    {
     "name": "stdout",
     "output_type": "stream",
     "text": [
      "14\t1\t0\n",
      "15\t1\t2\n",
      "16\t2\t0\n",
      "17\t0\t1\n",
      "18\t4\t1\n",
      "19\t1\t1\n",
      "20\t0\t2\n",
      "21\t11\t24\n",
      "22\t6\t18\n",
      "23\t12\t15\n",
      "24\t16\t27\n",
      "25\t20\t33\n",
      "26\t23\t44\n",
      "27\t28\t56\n",
      "28\t24\t37\n",
      "29\t24\t66\n",
      "30\t26\t67\n",
      "31\t17\t33\n",
      "32\t13\t48\n",
      "33\t11\t40\n",
      "34\t24\t36\n",
      "35\t12\t42\n",
      "36\t8\t64\n",
      "37\t9\t35\n",
      "38\t6\t17\n",
      "39\t3\t7\n",
      "40\t1\t13\n",
      "41\t5\t20\n",
      "42\t5\t22\n",
      "43\t2\t26\n",
      "44\t7\t35\n",
      "45\t1\t4\n",
      "46\t7\t9\n",
      "47\t1\t1\n",
      "48\t1\t1\n",
      "49\t1\t26\n",
      "50\t1\t26\n",
      "51\t4\t5\n",
      "52\t0\t2\n",
      "53\t0\t2\n",
      "54\t0\t1\n",
      "57\t0\t3\n",
      "58\t1\t57\n",
      "60\t0\t6\n",
      "61\t0\t3\n",
      "64\t2\t1\n",
      "86\t0\t1\n",
      "96\t3\t1\n"
     ]
    },
    {
     "name": "stderr",
     "output_type": "stream",
     "text": [
      "\n",
      "Logging initialized using configuration in jar:file:/usr/local/apache-hive-1.1.0-bin/lib/hive-common-1.1.0.jar!/hive-log4j.properties\n",
      "OK\n",
      "Time taken: 1.136 seconds\n",
      "Query ID = jovyan_20180207151111_a55b0c10-38d6-4360-901a-2717fb196d81\n",
      "Total jobs = 2\n",
      "Execution log at: /tmp/jovyan/jovyan_20180207151111_a55b0c10-38d6-4360-901a-2717fb196d81.log\n",
      "2018-02-07 03:12:08\tStarting to launch local task to process map join;\tmaximum memory = 477626368\n",
      "2018-02-07 03:12:09\tDump the side-table for tag: 1 with group count: 64208 into file: file:/tmp/jovyan/5c96d2fb-f245-4f45-89f4-ce9ca7ff6a55/hive_2018-02-07_15-11-57_772_5083163349499027109-1/-local-10005/HashTable-Stage-2/MapJoin-mapfile01--.hashtable\n",
      "2018-02-07 03:12:10\tUploaded 1 File to: file:/tmp/jovyan/5c96d2fb-f245-4f45-89f4-ce9ca7ff6a55/hive_2018-02-07_15-11-57_772_5083163349499027109-1/-local-10005/HashTable-Stage-2/MapJoin-mapfile01--.hashtable (1425472 bytes)\n",
      "2018-02-07 03:12:10\tEnd of local task; Time Taken: 1.922 sec.\n",
      "Execution completed successfully\n",
      "MapredLocal task succeeded\n",
      "Launching Job 1 out of 2\n",
      "Number of reduce tasks not specified. Estimated from input data size: 1\n",
      "In order to change the average load for a reducer (in bytes):\n",
      "  set hive.exec.reducers.bytes.per.reducer=<number>\n",
      "In order to limit the maximum number of reducers:\n",
      "  set hive.exec.reducers.max=<number>\n",
      "In order to set a constant number of reducers:\n",
      "  set mapreduce.job.reduces=<number>\n",
      "Starting Job = job_1518008069663_0071, Tracking URL = http://b5f1542b981e:8088/proxy/application_1518008069663_0071/\n",
      "Kill Command = /opt/hadoop/bin/hadoop job  -kill job_1518008069663_0071\n",
      "Hadoop job information for Stage-2: number of mappers: 1; number of reducers: 1\n",
      "2018-02-07 15:12:26,259 Stage-2 map = 0%,  reduce = 0%\n",
      "2018-02-07 15:12:42,261 Stage-2 map = 100%,  reduce = 0%, Cumulative CPU 12.27 sec\n",
      "2018-02-07 15:12:52,341 Stage-2 map = 100%,  reduce = 100%, Cumulative CPU 17.19 sec\n",
      "MapReduce Total cumulative CPU time: 17 seconds 190 msec\n",
      "Ended Job = job_1518008069663_0071\n",
      "Launching Job 2 out of 2\n",
      "Number of reduce tasks determined at compile time: 1\n",
      "In order to change the average load for a reducer (in bytes):\n",
      "  set hive.exec.reducers.bytes.per.reducer=<number>\n",
      "In order to limit the maximum number of reducers:\n",
      "  set hive.exec.reducers.max=<number>\n",
      "In order to set a constant number of reducers:\n",
      "  set mapreduce.job.reduces=<number>\n",
      "Starting Job = job_1518008069663_0072, Tracking URL = http://b5f1542b981e:8088/proxy/application_1518008069663_0072/\n",
      "Kill Command = /opt/hadoop/bin/hadoop job  -kill job_1518008069663_0072\n",
      "Hadoop job information for Stage-3: number of mappers: 1; number of reducers: 1\n",
      "2018-02-07 15:13:10,172 Stage-3 map = 0%,  reduce = 0%\n",
      "2018-02-07 15:13:17,715 Stage-3 map = 100%,  reduce = 0%, Cumulative CPU 2.42 sec\n",
      "2018-02-07 15:13:27,410 Stage-3 map = 100%,  reduce = 100%, Cumulative CPU 6.81 sec\n",
      "MapReduce Total cumulative CPU time: 6 seconds 810 msec\n",
      "Ended Job = job_1518008069663_0072\n",
      "MapReduce Jobs Launched: \n",
      "Stage-Stage-2: Map: 1  Reduce: 1   Cumulative CPU: 17.19 sec   HDFS Read: 2262270 HDFS Write: 1056 SUCCESS\n",
      "Stage-Stage-3: Map: 1  Reduce: 1   Cumulative CPU: 6.81 sec   HDFS Read: 5617 HDFS Write: 376 SUCCESS\n",
      "Total MapReduce CPU Time Spent: 24 seconds 0 msec\n",
      "OK\n",
      "Time taken: 91.88 seconds, Fetched: 48 row(s)\n"
     ]
    }
   ],
   "source": [
    "%%bash\n",
    "hive -f query_2.hql 2> out.log\n",
    "cat out.log >&2"
   ]
  }
 ],
 "metadata": {
  "kernelspec": {
   "display_name": "Python 2",
   "language": "python",
   "name": "python2"
  },
  "language_info": {
   "codemirror_mode": {
    "name": "ipython",
    "version": 2
   },
   "file_extension": ".py",
   "mimetype": "text/x-python",
   "name": "python",
   "nbconvert_exporter": "python",
   "pygments_lexer": "ipython2",
   "version": "2.7.12"
  }
 },
 "nbformat": 4,
 "nbformat_minor": 2
}
