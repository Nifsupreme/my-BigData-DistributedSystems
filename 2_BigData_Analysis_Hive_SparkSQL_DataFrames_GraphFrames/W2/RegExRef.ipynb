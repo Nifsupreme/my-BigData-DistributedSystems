{
 "cells": [
  {
   "cell_type": "code",
   "execution_count": 1,
   "metadata": {},
   "outputs": [],
   "source": [
    "import re"
   ]
  },
  {
   "cell_type": "markdown",
   "metadata": {},
   "source": [
    "## Posts\n",
    "- Id (integer) - id of the post\n",
    "- PostTypeId (integer: 1 or 2) - 1 for questions, 2 for answers\n",
    "- CreationDate (date) - post creation date in the format \"YYYY-MM-DDTHH:MM:SS.ms\"\n",
    "- Tags (string, optional) - list of post tags, each tag is wrapped with html entities '&lt;' and '&gt;'\n",
    "- OwnerUserId (integer, optional) - user id of the post's author\n",
    "- ParentId (integer, optional) - for answers - id of the question\n",
    "- Score (integer) - score (votes) of a question or an answer, can be negative (!)\n",
    "- FavoriteCount (integer, optional) - how many times the question was added in the favorites"
   ]
  },
  {
   "cell_type": "code",
   "execution_count": 2,
   "metadata": {},
   "outputs": [
    {
     "name": "stdout",
     "output_type": "stream",
     "text": [
      "Overwriting posts.xml\n"
     ]
    }
   ],
   "source": [
    "%%writefile posts.xml\n",
    "<row Id=\"11\" PostTypeId=\"1\" AcceptedAnswerId=\"1248\" CreationDate=\"2008-07-31T23:55:37.967\" Score=\"1106\" ViewCount=\"115048\" Body=\"&lt;p&gt;Given a specific &lt;code&gt;DateTime&lt;/code&gt; value, how do I display relative time, like:&lt;/p&gt;&#xA;&#xA;&lt;ul&gt;&#xA;&lt;li&gt;2 hours ago&lt;/li&gt;&#xA;&lt;li&gt;3 days ago&lt;/li&gt;&#xA;&lt;li&gt;a month ago&lt;/li&gt;&#xA;&lt;/ul&gt;&#xA;\" OwnerUserId=\"1\" LastEditorUserId=\"1136709\" LastEditorDisplayName=\"user2370523\" LastEditDate=\"2015-12-29T02:08:37.450\" LastActivityDate=\"2016-07-13T23:23:58.537\" Title=\"How can relative time be calculated in C#?\" Tags=\"&lt;c#&gt;&lt;datetime&gt;&lt;datediff&gt;&lt;relative-time-span&gt;\" AnswerCount=\"33\" CommentCount=\"4\" FavoriteCount=\"508\" CommunityOwnedDate=\"2009-09-04T13:15:59.820\" />\n",
    "<row Id=\"1394\" PostTypeId=\"2\" ParentId=\"1390\" CreationDate=\"2008-08-04T16:38:03.667\" Score=\"16\" Body=\"&lt;p&gt;Not sure how credible &lt;a href=&quot;http://www.builderau.com.au/program/windows/soa/Getting-started-with-Windows-Server-2008-Core-edition/0,339024644,339288700,00.htm&quot; rel=&quot;nofollow noreferrer&quot;&gt;this source is&lt;/a&gt;, but:&lt;/p&gt;&#xA;&#xA;&lt;blockquote&gt;&#xA;  &lt;p&gt;The Windows Server 2008 Core edition can:&lt;/p&gt;&#xA;  &#xA;  &lt;ul&gt;&#xA;  &lt;li&gt;&lt;p&gt;Run the file server role.&lt;/p&gt;&lt;/li&gt;&#xA;  &lt;li&gt;&lt;p&gt;Run the Hyper-V virtualization server role.&lt;/p&gt;&lt;/li&gt;&#xA;  &lt;li&gt;&lt;p&gt;Run the Directory Services role.&lt;/p&gt;&lt;/li&gt;&#xA;  &lt;li&gt;&lt;p&gt;Run the DHCP server role.&lt;/p&gt;&lt;/li&gt;&#xA;  &lt;li&gt;&lt;p&gt;Run the IIS Web server role.&lt;/p&gt;&lt;/li&gt;&#xA;  &lt;li&gt;&lt;p&gt;Run the DNS server role.&lt;/p&gt;&lt;/li&gt;&#xA;  &lt;li&gt;&lt;p&gt;Run Active Directory Lightweight Directory Services.&lt;/p&gt;&lt;/li&gt;&#xA;  &lt;li&gt;&lt;p&gt;Run the print server role.&lt;/p&gt;&lt;/li&gt;&#xA;  &lt;/ul&gt;&#xA;  &#xA;  &lt;p&gt;The Windows Server 2008 Core edition cannot:&lt;/p&gt;&#xA;  &#xA;  &lt;ul&gt;&#xA;  &lt;li&gt;&lt;p&gt;Run a SQL Server.&lt;/p&gt;&lt;/li&gt;&#xA;  &lt;li&gt;&lt;p&gt;Run an Exchange Server.&lt;/p&gt;&lt;/li&gt;&#xA;  &lt;li&gt;&lt;p&gt;Run Internet Explorer.&lt;/p&gt;&lt;/li&gt;&#xA;  &lt;li&gt;&lt;p&gt;Run Windows Explorer.&lt;/p&gt;&lt;/li&gt;&#xA;  &lt;li&gt;&lt;p&gt;Host a remote desktop session.&lt;/p&gt;&lt;/li&gt;&#xA;  &lt;li&gt;&lt;p&gt;Run MMC snap-in consoles locally.&lt;/p&gt;&lt;/li&gt;&#xA;  &lt;/ul&gt;&#xA;&lt;/blockquote&gt;&#xA;\" OwnerUserId=\"91\" LastEditorUserId=\"1\" LastEditorDisplayName=\"Jeff Atwood\" LastEditDate=\"2008-08-27T13:02:50.273\" LastActivityDate=\"2008-08-27T13:02:50.273\" CommentCount=\"1\" />\t\n",
    "<row Id=\"3543\" PostTypeId=\"2\" ParentId=\"3530\" CreationDate=\"2008-08-06T15:24:00.787\" Score=\"37\" Body=\"&lt;p&gt;from &lt;a href=&quot;http://www.timocracy.com/articles/2008/02/21/calling-invoking-rails-rake-tasks-from-within-ruby-for-testing-try-2&quot; rel=&quot;nofollow noreferrer&quot;&gt;timocracy.com&lt;/a&gt;:&lt;/p&gt;&#xA;&#xA;&lt;pre&gt;&lt;code&gt;require 'rake'&#xA;require 'rake/rdoctask'&#xA;require 'rake/testtask'&#xA;require 'tasks/rails'&#xA;&#xA;def capture_stdout&#xA;  s = StringIO.new&#xA;  oldstdout = $stdout&#xA;  $stdout = s&#xA;  yield&#xA;  s.string&#xA;ensure&#xA;  $stdout = oldstdout&#xA;end&#xA;&#xA;Rake.application.rake_require '../../lib/tasks/metric_fetcher'&#xA;results = capture_stdout {Rake.application['metric_fetcher'].invoke}&#xA;&lt;/code&gt;&lt;/pre&gt;&#xA;\" OwnerUserId=\"399\" LastActivityDate=\"2008-08-06T15:24:00.787\" CommentCount=\"3\" />"
   ]
  },
  {
   "cell_type": "code",
   "execution_count": 3,
   "metadata": {},
   "outputs": [
    {
     "data": {
      "text/plain": [
       "'<row Id=\"11\" PostTypeId=\"1\" AcceptedAnswerId=\"1248\" CreationDate=\"2008-07-31T23:55:37.967\" Score=\"1106\" ViewCount=\"115048\" Body=\"&lt;p&gt;Given a specific &lt;code&gt;DateTime&lt;/code&gt; value, how do I display relative time, like:&lt;/p&gt;&#xA;&#xA;&lt;ul&gt;&#xA;&lt;li&gt;2 hours ago&lt;/li&gt;&#xA;&lt;li&gt;3 days ago&lt;/li&gt;&#xA;&lt;li&gt;a month ago&lt;/li&gt;&#xA;&lt;/ul&gt;&#xA;\" OwnerUserId=\"1\" LastEditorUserId=\"1136709\" LastEditorDisplayName=\"user2370523\" LastEditDate=\"2015-12-29T02:08:37.450\" LastActivityDate=\"2016-07-13T23:23:58.537\" Title=\"How can relative time be calculated in C#?\" Tags=\"&lt;c#&gt;&lt;datetime&gt;&lt;datediff&gt;&lt;relative-time-span&gt;\" AnswerCount=\"33\" CommentCount=\"4\" FavoriteCount=\"508\" CommunityOwnedDate=\"2009-09-04T13:15:59.820\" />'"
      ]
     },
     "execution_count": 3,
     "metadata": {},
     "output_type": "execute_result"
    }
   ],
   "source": [
    "posts = []\n",
    "with open('posts.xml', 'r') as xml:\n",
    "    for line in xml:\n",
    "        posts.append(line.strip())\n",
    "posts[0]"
   ]
  },
  {
   "cell_type": "code",
   "execution_count": 4,
   "metadata": {},
   "outputs": [],
   "source": [
    "row = '^<row.*? '\n",
    "Id_ = '(?=.*\\\\bId=\\\"(\\\\d+)\\\")'\n",
    "PostTypeId_ = '(?=.*\\\\bPostTypeId=\\\"(\\\\d+)\\\")'\n",
    "CreationDate_ = '(?=.*\\\\bCreationDate=\\\"([^\"]*)\\\")'\n",
    "Score_ = '(?=.*\\\\bScore=\\\"(-?\\\\d+)\\\")'\n",
    "OwnerUserId_ = '(?=.*\\\\bOwnerUserId=\\\"(\\\\d+)\\\")?'\n",
    "ParentId_ = '(?=.*\\\\bParentId=\\\"(\\\\d+)\\\")?'\n",
    "FavoriteCount_ = '(?=.*\\\\bFavoriteCount=\\\"(\\\\d+)\\\")?'"
   ]
  },
  {
   "cell_type": "code",
   "execution_count": 5,
   "metadata": {},
   "outputs": [
    {
     "name": "stdout",
     "output_type": "stream",
     "text": [
      "('11', '1', '2008-07-31T23:55:37.967', '1106', None, '1', '508')\n",
      "('1394', '2', '2008-08-04T16:38:03.667', '16', '1390', '91', None)\n",
      "('3543', '2', '2008-08-06T15:24:00.787', '37', '3530', '399', None)\n"
     ]
    }
   ],
   "source": [
    "for post in posts:\n",
    "    print re.search(\n",
    "        row +\n",
    "        Id_ + \n",
    "        PostTypeId_ +\n",
    "        CreationDate_ +\n",
    "        Score_ +\n",
    "        ParentId_ +\n",
    "        OwnerUserId_ +\n",
    "        FavoriteCount_,\n",
    "            post).groups()"
   ]
  },
  {
   "cell_type": "markdown",
   "metadata": {},
   "source": [
    "## Users\n",
    "- Id (integer) - user id\n",
    "- Reputation (integer) - user's reputation\n",
    "- CreationDate (string) - creation date in the format \"YYYY-MM-DDTHH:MM:SS.ms\"\n",
    "- DisplayName (string) - user's name\n",
    "- Location (string, options) - user's country\n",
    "- Age (integer, optional) - user's age"
   ]
  },
  {
   "cell_type": "code",
   "execution_count": 6,
   "metadata": {},
   "outputs": [
    {
     "name": "stdout",
     "output_type": "stream",
     "text": [
      "Overwriting users.xml\n"
     ]
    }
   ],
   "source": [
    "%%writefile users.xml\n",
    "<row Id=\"4\" Reputation=\"26638\" CreationDate=\"2008-07-31T14:22:31.317\" DisplayName=\"Joel Spolsky\" LastAccessDate=\"2016-12-10T22:12:46.367\" WebsiteUrl=\"http://www.joelonsoftware.com/\" Location=\"New York, NY\" AboutMe=\"&lt;p&gt;I am:&lt;/p&gt;&#xA;&#xA;&lt;ul&gt;&#xA;&lt;li&gt;the co-founder and CEO of &lt;a href=&quot;http://stackexchange.com\">Stack Exchange&lt;/a&gt;&lt;/li&gt;&#xA;&lt;li&gt;the co-founder of &lt;a href=&quot;http://www.fogcreek.com\" rel=&quot;nofollow&quot;&gt;Fog Creek Software&lt;/a&gt;&lt;/li&gt;&#xA;&lt;li&gt;the creator and chairman of the board of &lt;a href=&quot;http://trello.com\" rel=&quot;nofollow&quot;&gt;Trello&lt;/a&gt;&lt;/li&gt;&#xA;&lt;li&gt;owner of Taco, the most famous Siberian Husky on the Upper West Side.&lt;/li&gt;&#xA;&lt;/ul&gt;&#xA;&#xA;&lt;p&gt;You can find me on Twitter (as &lt;a href=&quot;http://twitter.com/spolsky\" rel=&quot;nofollow&quot;&gt;@spolsky&lt;/a&gt;) or on my rarely-updated blog, &lt;a href=&quot;http://joelonsoftware.com\" rel=&quot;nofollow&quot;&gt;Joel on Software&lt;/a&gt;.&lt;/p&gt;&#xA;\" Views=\"66761\" UpVotes=\"779\" DownVotes=\"96\" ProfileImageUrl=\"https://i.stack.imgur.com/C5gBG.jpg?s=128&g=1\" AccountId=\"4\" />\n",
    "<row Id=\"14357\" Reputation=\"72371\" CreationDate=\"2008-09-16T23:23:24.623\" DisplayName=\"spender\" LastAccessDate=\"2016-12-10T14:25:39.257\" WebsiteUrl=\"http://radiotuna.com\" Location=\"United Kingdom\" AboutMe=\"&lt;p&gt;Tea afficionado, A.I. graduate, &lt;a href=&quot;https://bugzilla.mozilla.org/show_bug.cgi?id=869725&quot; rel=&quot;nofollow&quot;&gt;Mozillian&lt;/a&gt;, company director and CTO at &lt;a href=&quot;http://radiotuna.com&quot; rel=&quot;nofollow&quot;&gt;radiotuna.com&lt;/a&gt;. Come and listen!&lt;/p&gt;&#xA;&#xA;&lt;p&gt;I give my time here because I get so much more in return.&lt;/p&gt;&#xA;\" Views=\"5810\" UpVotes=\"2026\" DownVotes=\"1056\" ProfileImageUrl=\"https://i.stack.imgur.com/BGshb.png\" Age=\"43\" AccountId=\"8089\" />\t\n",
    "<row Id=\"17516\" Reputation=\"145889\" CreationDate=\"2008-09-18T10:29:51.940\" DisplayName=\"AnthonyWJones\" LastAccessDate=\"2016-11-22T13:49:03.680\" WebsiteUrl=\"http://geekswithblogs.net/codingbloke\" Location=\"Birmingham, United Kingdom\" AboutMe=\"&lt;p&gt;&lt;p&gt;General interests: C#, Javascript, Agile, Interaction Design&lt;/p&gt;&#xA;&#xA;&lt;p&gt;&lt;p&gt;Current interests:  Silverlight+Toolkit, Windows Phone 7.&lt;/p&gt;&#xA;&#xA;&lt;p&gt;&lt;p&gt;Would like to know more about: WCF, EF, WPF, XNA, SQL 2008, ... the list is endless.&lt;/p&gt;&#xA;&#xA;&lt;p&gt;&lt;p&gt;First to gain the Silverlight badges, now at Gold.&lt;/p&gt;&#xA;\" Views=\"12801\" UpVotes=\"5757\" DownVotes=\"233\" Age=\"50\" AccountId=\"9467\" />\t\n",
    "<row Id=\"17693\" Reputation=\"16635\" CreationDate=\"2008-09-18T13:46:50.907\" DisplayName=\"Matt\" LastAccessDate=\"2016-12-08T17:16:17.217\" WebsiteUrl=\"http://www.squaregear.net/\" Location=\"United States\" AboutMe=\"&lt;p&gt;I'm just some guy who does some programming stuff.&lt;/p&gt;&#xA;\" Views=\"832\" UpVotes=\"109\" DownVotes=\"0\" ProfileImageUrl=\"https://i.stack.imgur.com/JgeMc.png\" Age=\"44\" AccountId=\"9547\" />\t"
   ]
  },
  {
   "cell_type": "code",
   "execution_count": 7,
   "metadata": {},
   "outputs": [
    {
     "data": {
      "text/plain": [
       "'<row Id=\"4\" Reputation=\"26638\" CreationDate=\"2008-07-31T14:22:31.317\" DisplayName=\"Joel Spolsky\" LastAccessDate=\"2016-12-10T22:12:46.367\" WebsiteUrl=\"http://www.joelonsoftware.com/\" Location=\"New York, NY\" AboutMe=\"&lt;p&gt;I am:&lt;/p&gt;&#xA;&#xA;&lt;ul&gt;&#xA;&lt;li&gt;the co-founder and CEO of &lt;a href=&quot;http://stackexchange.com\">Stack Exchange&lt;/a&gt;&lt;/li&gt;&#xA;&lt;li&gt;the co-founder of &lt;a href=&quot;http://www.fogcreek.com\" rel=&quot;nofollow&quot;&gt;Fog Creek Software&lt;/a&gt;&lt;/li&gt;&#xA;&lt;li&gt;the creator and chairman of the board of &lt;a href=&quot;http://trello.com\" rel=&quot;nofollow&quot;&gt;Trello&lt;/a&gt;&lt;/li&gt;&#xA;&lt;li&gt;owner of Taco, the most famous Siberian Husky on the Upper West Side.&lt;/li&gt;&#xA;&lt;/ul&gt;&#xA;&#xA;&lt;p&gt;You can find me on Twitter (as &lt;a href=&quot;http://twitter.com/spolsky\" rel=&quot;nofollow&quot;&gt;@spolsky&lt;/a&gt;) or on my rarely-updated blog, &lt;a href=&quot;http://joelonsoftware.com\" rel=&quot;nofollow&quot;&gt;Joel on Software&lt;/a&gt;.&lt;/p&gt;&#xA;\" Views=\"66761\" UpVotes=\"779\" DownVotes=\"96\" ProfileImageUrl=\"https://i.stack.imgur.com/C5gBG.jpg?s=128&g=1\" AccountId=\"4\" />'"
      ]
     },
     "execution_count": 7,
     "metadata": {},
     "output_type": "execute_result"
    }
   ],
   "source": [
    "users = []\n",
    "with open('users.xml', 'r') as xml:\n",
    "    for line in xml:\n",
    "        users.append(line.strip())\n",
    "users[0]"
   ]
  },
  {
   "cell_type": "code",
   "execution_count": 8,
   "metadata": {},
   "outputs": [],
   "source": [
    "row = '^<row.*? '\n",
    "id_ = '(?=.*\\\\bId=\\\"(\\\\d+)\\\")'\n",
    "Reputation_ = '(?=.*\\\\bReputation=\\\"(\\\\d+)\\\")'\n",
    "CreationDate_ = '(?=.*\\\\bCreationDate=\\\"([^\"]*)\\\")'\n",
    "DisplayName_ = '(?=.*\\\\bDisplayName=\\\"([^\"]*)\\\")'\n",
    "Location_ = '(?=.*\\\\bLocation=\\\"([^\"]*)\\\")?'\n",
    "Age_ = '(?=.*\\\\bAge=\\\"(\\\\d+)\\\")?'"
   ]
  },
  {
   "cell_type": "code",
   "execution_count": 9,
   "metadata": {},
   "outputs": [
    {
     "name": "stdout",
     "output_type": "stream",
     "text": [
      "('4', '26638', '2008-07-31T14:22:31.317', 'Joel Spolsky', 'New York, NY', None)\n",
      "('14357', '72371', '2008-09-16T23:23:24.623', 'spender', 'United Kingdom', '43')\n",
      "('17516', '145889', '2008-09-18T10:29:51.940', 'AnthonyWJones', 'Birmingham, United Kingdom', '50')\n",
      "('17693', '16635', '2008-09-18T13:46:50.907', 'Matt', 'United States', '44')\n"
     ]
    }
   ],
   "source": [
    "for user in users:\n",
    "    print re.search(\n",
    "        row +\n",
    "        Id_ + \n",
    "        Reputation_ +\n",
    "        CreationDate_ +\n",
    "        DisplayName_ +\n",
    "        Location_ +\n",
    "        Age_,\n",
    "            user).groups()"
   ]
  }
 ],
 "metadata": {
  "kernelspec": {
   "display_name": "Python 2",
   "language": "python",
   "name": "python2"
  },
  "language_info": {
   "codemirror_mode": {
    "name": "ipython",
    "version": 2
   },
   "file_extension": ".py",
   "mimetype": "text/x-python",
   "name": "python",
   "nbconvert_exporter": "python",
   "pygments_lexer": "ipython2",
   "version": "2.7.14"
  }
 },
 "nbformat": 4,
 "nbformat_minor": 2
}
